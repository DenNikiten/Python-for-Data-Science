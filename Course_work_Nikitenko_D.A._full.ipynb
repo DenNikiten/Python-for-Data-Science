{
 "cells": [
  {
   "cell_type": "markdown",
   "id": "ea2c9f17",
   "metadata": {},
   "source": [
    "# Курсовой проект Real Estate Price Prediction"
   ]
  },
  {
   "cell_type": "markdown",
   "id": "4897f069",
   "metadata": {},
   "source": [
    "#### Задание для курсового проекта"
   ]
  },
  {
   "cell_type": "markdown",
   "id": "68250f5b",
   "metadata": {},
   "source": [
    "Метрика: R2 - коэффициент детерминации (sklearn.metrics.r2_score)\n",
    "\n",
    "Сдача проекта:\n",
    "\n",
    "- Сдать проект нужно в течение 7 дней после окончания последнего вебинара.\n",
    "\n",
    "- Прислать в раздел Задания Урока 10 (\"Вебинар. Консультация по итоговому проекту\") ссылку на ноутбук в github или public kaggle notebook.\n",
    "\n",
    "- Необходимо получить R2 > 0.6 на Private Leaderboard.\n",
    "\n",
    "- Укажите свой ник на kaggle\n",
    "\n",
    "Примечание: Все файлы csv должны содержать названия полей (header - то есть \"шапку\"),разделитель - запятая. В файлах не должны содержаться индексы из датафрейма."
   ]
  },
  {
   "cell_type": "markdown",
   "id": "d681a71d",
   "metadata": {},
   "source": [
    "#### Подключение библиотек и скриптов"
   ]
  },
  {
   "cell_type": "code",
   "execution_count": 1,
   "id": "b68a945a",
   "metadata": {},
   "outputs": [],
   "source": [
    "import numpy as np\n",
    "import pandas as pd\n",
    "import random\n",
    "\n",
    "from sklearn.model_selection import train_test_split, cross_val_score\n",
    "from sklearn.preprocessing import StandardScaler, RobustScaler\n",
    "from sklearn.ensemble import RandomForestRegressor\n",
    "from sklearn.metrics import r2_score as r2\n",
    "from sklearn.model_selection import KFold, GridSearchCV\n",
    "\n",
    "from datetime import datetime\n",
    "\n",
    "import matplotlib\n",
    "import matplotlib.pyplot as plt\n",
    "import seaborn as sns\n",
    "%matplotlib inline\n",
    "\n",
    "import warnings\n",
    "warnings.filterwarnings('ignore')"
   ]
  },
  {
   "cell_type": "code",
   "execution_count": 2,
   "id": "175fbeac",
   "metadata": {},
   "outputs": [],
   "source": [
    "matplotlib.rcParams.update({'font.size': 14})  # размер шрифта на графиках"
   ]
  },
  {
   "cell_type": "code",
   "execution_count": 3,
   "id": "8db26865",
   "metadata": {},
   "outputs": [],
   "source": [
    "def evaluate_preds(train_true_values, train_pred_values, test_true_values, test_pred_values):\n",
    "    print(\"Train R2:\\t\" + str(round(r2(train_true_values, train_pred_values), 3)))\n",
    "    print(\"Test R2:\\t\" + str(round(r2(test_true_values, test_pred_values), 3)))\n",
    "    \n",
    "    plt.figure(figsize=(18,10))\n",
    "    \n",
    "    plt.subplot(121)\n",
    "    sns.scatterplot(x=train_pred_values, y=train_true_values)\n",
    "    plt.xlabel('Predicted values')\n",
    "    plt.ylabel('True values')\n",
    "    plt.title('Train sample prediction')\n",
    "    \n",
    "    plt.subplot(122)\n",
    "    sns.scatterplot(x=test_pred_values, y=test_true_values)\n",
    "    plt.xlabel('Predicted values')\n",
    "    plt.ylabel('True values')\n",
    "    plt.title('Test sample prediction')\n",
    "\n",
    "    plt.show()"
   ]
  },
  {
   "cell_type": "markdown",
   "id": "254982c6",
   "metadata": {},
   "source": [
    "#### Пути к директориям и файлам"
   ]
  },
  {
   "cell_type": "code",
   "execution_count": 4,
   "id": "69159e76",
   "metadata": {},
   "outputs": [],
   "source": [
    "DATASET_PATH_train = 'train.csv'"
   ]
  },
  {
   "cell_type": "code",
   "execution_count": 5,
   "id": "8b03d3fd",
   "metadata": {},
   "outputs": [],
   "source": [
    "DATASET_PATH_test = 'test.csv'"
   ]
  },
  {
   "cell_type": "markdown",
   "id": "f85477bf",
   "metadata": {},
   "source": [
    "\n",
    "## 1. Загрузка данных\n"
   ]
  },
  {
   "cell_type": "markdown",
   "id": "94a9547e",
   "metadata": {},
   "source": [
    "#### Описание датасета"
   ]
  },
  {
   "cell_type": "markdown",
   "id": "ad0a63e7",
   "metadata": {},
   "source": [
    "Data fields:\n",
    "\n",
    "- Id - идентификационный номер квартиры\n",
    "- DistrictId - идентификационный номер района\n",
    "- Rooms - количество комнат\n",
    "- Square - площадь\n",
    "- LifeSquare - жилая площадь\n",
    "- KitchenSquare - площадь кухни\n",
    "- Floor - этаж\n",
    "- HouseFloor - количество этажей в доме\n",
    "- HouseYear - год постройки дома\n",
    "- Ecology_1, Ecology_2, Ecology_3 - экологические показатели местности\n",
    "- Social_1, Social_2, Social_3 - социальные показатели местности\n",
    "- Healthcare_1, Helthcare_2 - показатели местности, связанные с охраной здоровья\n",
    "- Shops_1, Shops_2 - показатели, связанные с наличием магазинов, торговых центров\n",
    "- Price - цена квартиры"
   ]
  },
  {
   "cell_type": "code",
   "execution_count": 6,
   "id": "09766a7e",
   "metadata": {},
   "outputs": [],
   "source": [
    "def reduce_mem_usage(df):\n",
    "    \"\"\" iterate through all the columns of a dataframe and modify the data type\n",
    "        to reduce memory usage.        \n",
    "    \"\"\"\n",
    "    start_mem = df.memory_usage().sum() / 1024**2\n",
    "    print('Memory usage of dataframe is {:.2f} MB'.format(start_mem))\n",
    "    \n",
    "    for col in df.columns:\n",
    "        col_type = df[col].dtype\n",
    "        \n",
    "        if col_type != object:\n",
    "            c_min = df[col].min()\n",
    "            c_max = df[col].max()\n",
    "            if str(col_type)[:3] == 'int':\n",
    "                if c_min > np.iinfo(np.int8).min and c_max < np.iinfo(np.int8).max:\n",
    "                    df[col] = df[col].astype(np.int8)\n",
    "                elif c_min > np.iinfo(np.int16).min and c_max < np.iinfo(np.int16).max:\n",
    "                    df[col] = df[col].astype(np.int16)\n",
    "                elif c_min > np.iinfo(np.int32).min and c_max < np.iinfo(np.int32).max:\n",
    "                    df[col] = df[col].astype(np.int32)\n",
    "                elif c_min > np.iinfo(np.int64).min and c_max < np.iinfo(np.int64).max:\n",
    "                    df[col] = df[col].astype(np.int64)  \n",
    "            else:\n",
    "                if c_min > np.finfo(np.float32).min and c_max < np.finfo(np.float32).max:\n",
    "                    df[col] = df[col].astype(np.float32)\n",
    "                else:\n",
    "                    df[col] = df[col].astype(np.float64)\n",
    "        else:\n",
    "            df[col] = df[col].astype('category')\n",
    "\n",
    "    end_mem = df.memory_usage().sum() / 1024**2\n",
    "    print('Memory usage after optimization is: {:.2f} MB'.format(end_mem))\n",
    "    print('Decreased by {:.1f}%'.format(100 * (start_mem - end_mem) / start_mem))\n",
    "    \n",
    "    return df"
   ]
  },
  {
   "cell_type": "markdown",
   "id": "3406f1bd",
   "metadata": {
    "colab_type": "text",
    "id": "G72Dn8Q_uM4S"
   },
   "source": [
    "**Пути к директориям и файлам**"
   ]
  },
  {
   "cell_type": "code",
   "execution_count": 7,
   "id": "a2036b6e",
   "metadata": {},
   "outputs": [],
   "source": [
    "df_train = pd.read_csv(DATASET_PATH_train, sep=',')"
   ]
  },
  {
   "cell_type": "code",
   "execution_count": 8,
   "id": "9ed3f23c",
   "metadata": {
    "scrolled": false
   },
   "outputs": [
    {
     "data": {
      "text/html": [
       "<div>\n",
       "<style scoped>\n",
       "    .dataframe tbody tr th:only-of-type {\n",
       "        vertical-align: middle;\n",
       "    }\n",
       "\n",
       "    .dataframe tbody tr th {\n",
       "        vertical-align: top;\n",
       "    }\n",
       "\n",
       "    .dataframe thead th {\n",
       "        text-align: right;\n",
       "    }\n",
       "</style>\n",
       "<table border=\"1\" class=\"dataframe\">\n",
       "  <thead>\n",
       "    <tr style=\"text-align: right;\">\n",
       "      <th></th>\n",
       "      <th>Id</th>\n",
       "      <th>DistrictId</th>\n",
       "      <th>Rooms</th>\n",
       "      <th>Square</th>\n",
       "      <th>LifeSquare</th>\n",
       "      <th>KitchenSquare</th>\n",
       "      <th>Floor</th>\n",
       "      <th>HouseFloor</th>\n",
       "      <th>HouseYear</th>\n",
       "      <th>Ecology_1</th>\n",
       "      <th>Ecology_2</th>\n",
       "      <th>Ecology_3</th>\n",
       "      <th>Social_1</th>\n",
       "      <th>Social_2</th>\n",
       "      <th>Social_3</th>\n",
       "      <th>Healthcare_1</th>\n",
       "      <th>Helthcare_2</th>\n",
       "      <th>Shops_1</th>\n",
       "      <th>Shops_2</th>\n",
       "      <th>Price</th>\n",
       "    </tr>\n",
       "  </thead>\n",
       "  <tbody>\n",
       "    <tr>\n",
       "      <th>0</th>\n",
       "      <td>11809</td>\n",
       "      <td>27</td>\n",
       "      <td>3.0</td>\n",
       "      <td>115.027311</td>\n",
       "      <td>NaN</td>\n",
       "      <td>10.0</td>\n",
       "      <td>4</td>\n",
       "      <td>10.0</td>\n",
       "      <td>2014</td>\n",
       "      <td>0.075424</td>\n",
       "      <td>B</td>\n",
       "      <td>B</td>\n",
       "      <td>11</td>\n",
       "      <td>3097</td>\n",
       "      <td>0</td>\n",
       "      <td>NaN</td>\n",
       "      <td>0</td>\n",
       "      <td>0</td>\n",
       "      <td>B</td>\n",
       "      <td>305018.871089</td>\n",
       "    </tr>\n",
       "    <tr>\n",
       "      <th>1</th>\n",
       "      <td>3013</td>\n",
       "      <td>22</td>\n",
       "      <td>1.0</td>\n",
       "      <td>39.832524</td>\n",
       "      <td>23.169223</td>\n",
       "      <td>8.0</td>\n",
       "      <td>7</td>\n",
       "      <td>8.0</td>\n",
       "      <td>1966</td>\n",
       "      <td>0.118537</td>\n",
       "      <td>B</td>\n",
       "      <td>B</td>\n",
       "      <td>30</td>\n",
       "      <td>6207</td>\n",
       "      <td>1</td>\n",
       "      <td>1183.0</td>\n",
       "      <td>1</td>\n",
       "      <td>0</td>\n",
       "      <td>B</td>\n",
       "      <td>177734.553407</td>\n",
       "    </tr>\n",
       "    <tr>\n",
       "      <th>2</th>\n",
       "      <td>8215</td>\n",
       "      <td>1</td>\n",
       "      <td>3.0</td>\n",
       "      <td>78.342215</td>\n",
       "      <td>47.671972</td>\n",
       "      <td>10.0</td>\n",
       "      <td>2</td>\n",
       "      <td>17.0</td>\n",
       "      <td>1988</td>\n",
       "      <td>0.025609</td>\n",
       "      <td>B</td>\n",
       "      <td>B</td>\n",
       "      <td>33</td>\n",
       "      <td>5261</td>\n",
       "      <td>0</td>\n",
       "      <td>240.0</td>\n",
       "      <td>3</td>\n",
       "      <td>1</td>\n",
       "      <td>B</td>\n",
       "      <td>282078.720850</td>\n",
       "    </tr>\n",
       "    <tr>\n",
       "      <th>3</th>\n",
       "      <td>2352</td>\n",
       "      <td>1</td>\n",
       "      <td>1.0</td>\n",
       "      <td>40.409907</td>\n",
       "      <td>NaN</td>\n",
       "      <td>1.0</td>\n",
       "      <td>10</td>\n",
       "      <td>22.0</td>\n",
       "      <td>1977</td>\n",
       "      <td>0.007122</td>\n",
       "      <td>B</td>\n",
       "      <td>B</td>\n",
       "      <td>1</td>\n",
       "      <td>264</td>\n",
       "      <td>0</td>\n",
       "      <td>NaN</td>\n",
       "      <td>0</td>\n",
       "      <td>1</td>\n",
       "      <td>B</td>\n",
       "      <td>168106.007630</td>\n",
       "    </tr>\n",
       "    <tr>\n",
       "      <th>4</th>\n",
       "      <td>13866</td>\n",
       "      <td>94</td>\n",
       "      <td>2.0</td>\n",
       "      <td>64.285067</td>\n",
       "      <td>38.562517</td>\n",
       "      <td>9.0</td>\n",
       "      <td>16</td>\n",
       "      <td>16.0</td>\n",
       "      <td>1972</td>\n",
       "      <td>0.282798</td>\n",
       "      <td>B</td>\n",
       "      <td>B</td>\n",
       "      <td>33</td>\n",
       "      <td>8667</td>\n",
       "      <td>2</td>\n",
       "      <td>NaN</td>\n",
       "      <td>0</td>\n",
       "      <td>6</td>\n",
       "      <td>B</td>\n",
       "      <td>343995.102962</td>\n",
       "    </tr>\n",
       "  </tbody>\n",
       "</table>\n",
       "</div>"
      ],
      "text/plain": [
       "      Id  DistrictId  Rooms      Square  LifeSquare  KitchenSquare  Floor  \\\n",
       "0  11809          27    3.0  115.027311         NaN           10.0      4   \n",
       "1   3013          22    1.0   39.832524   23.169223            8.0      7   \n",
       "2   8215           1    3.0   78.342215   47.671972           10.0      2   \n",
       "3   2352           1    1.0   40.409907         NaN            1.0     10   \n",
       "4  13866          94    2.0   64.285067   38.562517            9.0     16   \n",
       "\n",
       "   HouseFloor  HouseYear  Ecology_1 Ecology_2 Ecology_3  Social_1  Social_2  \\\n",
       "0        10.0       2014   0.075424         B         B        11      3097   \n",
       "1         8.0       1966   0.118537         B         B        30      6207   \n",
       "2        17.0       1988   0.025609         B         B        33      5261   \n",
       "3        22.0       1977   0.007122         B         B         1       264   \n",
       "4        16.0       1972   0.282798         B         B        33      8667   \n",
       "\n",
       "   Social_3  Healthcare_1  Helthcare_2  Shops_1 Shops_2          Price  \n",
       "0         0           NaN            0        0       B  305018.871089  \n",
       "1         1        1183.0            1        0       B  177734.553407  \n",
       "2         0         240.0            3        1       B  282078.720850  \n",
       "3         0           NaN            0        1       B  168106.007630  \n",
       "4         2           NaN            0        6       B  343995.102962  "
      ]
     },
     "execution_count": 8,
     "metadata": {},
     "output_type": "execute_result"
    }
   ],
   "source": [
    "df_train.head()"
   ]
  },
  {
   "cell_type": "code",
   "execution_count": 9,
   "id": "2e183017",
   "metadata": {
    "scrolled": false
   },
   "outputs": [
    {
     "data": {
      "text/html": [
       "<div>\n",
       "<style scoped>\n",
       "    .dataframe tbody tr th:only-of-type {\n",
       "        vertical-align: middle;\n",
       "    }\n",
       "\n",
       "    .dataframe tbody tr th {\n",
       "        vertical-align: top;\n",
       "    }\n",
       "\n",
       "    .dataframe thead th {\n",
       "        text-align: right;\n",
       "    }\n",
       "</style>\n",
       "<table border=\"1\" class=\"dataframe\">\n",
       "  <thead>\n",
       "    <tr style=\"text-align: right;\">\n",
       "      <th></th>\n",
       "      <th>Id</th>\n",
       "      <th>DistrictId</th>\n",
       "      <th>Rooms</th>\n",
       "      <th>Square</th>\n",
       "      <th>LifeSquare</th>\n",
       "      <th>KitchenSquare</th>\n",
       "      <th>Floor</th>\n",
       "      <th>HouseFloor</th>\n",
       "      <th>HouseYear</th>\n",
       "      <th>Ecology_1</th>\n",
       "      <th>Social_1</th>\n",
       "      <th>Social_2</th>\n",
       "      <th>Social_3</th>\n",
       "      <th>Healthcare_1</th>\n",
       "      <th>Helthcare_2</th>\n",
       "      <th>Shops_1</th>\n",
       "      <th>Price</th>\n",
       "    </tr>\n",
       "  </thead>\n",
       "  <tbody>\n",
       "    <tr>\n",
       "      <th>count</th>\n",
       "      <td>10000.00000</td>\n",
       "      <td>10000.000000</td>\n",
       "      <td>10000.000000</td>\n",
       "      <td>10000.000000</td>\n",
       "      <td>7887.000000</td>\n",
       "      <td>10000.000000</td>\n",
       "      <td>10000.000000</td>\n",
       "      <td>10000.000000</td>\n",
       "      <td>1.000000e+04</td>\n",
       "      <td>10000.000000</td>\n",
       "      <td>10000.000000</td>\n",
       "      <td>10000.000000</td>\n",
       "      <td>10000.000000</td>\n",
       "      <td>5202.000000</td>\n",
       "      <td>10000.000000</td>\n",
       "      <td>10000.000000</td>\n",
       "      <td>10000.000000</td>\n",
       "    </tr>\n",
       "    <tr>\n",
       "      <th>mean</th>\n",
       "      <td>8383.40770</td>\n",
       "      <td>50.400800</td>\n",
       "      <td>1.890500</td>\n",
       "      <td>56.315775</td>\n",
       "      <td>37.199645</td>\n",
       "      <td>6.273300</td>\n",
       "      <td>8.526700</td>\n",
       "      <td>12.609400</td>\n",
       "      <td>3.990166e+03</td>\n",
       "      <td>0.118858</td>\n",
       "      <td>24.687000</td>\n",
       "      <td>5352.157400</td>\n",
       "      <td>8.039200</td>\n",
       "      <td>1142.904460</td>\n",
       "      <td>1.319500</td>\n",
       "      <td>4.231300</td>\n",
       "      <td>214138.857399</td>\n",
       "    </tr>\n",
       "    <tr>\n",
       "      <th>std</th>\n",
       "      <td>4859.01902</td>\n",
       "      <td>43.587592</td>\n",
       "      <td>0.839512</td>\n",
       "      <td>21.058732</td>\n",
       "      <td>86.241209</td>\n",
       "      <td>28.560917</td>\n",
       "      <td>5.241148</td>\n",
       "      <td>6.775974</td>\n",
       "      <td>2.005003e+05</td>\n",
       "      <td>0.119025</td>\n",
       "      <td>17.532614</td>\n",
       "      <td>4006.799803</td>\n",
       "      <td>23.831875</td>\n",
       "      <td>1021.517264</td>\n",
       "      <td>1.493601</td>\n",
       "      <td>4.806341</td>\n",
       "      <td>92872.293865</td>\n",
       "    </tr>\n",
       "    <tr>\n",
       "      <th>min</th>\n",
       "      <td>0.00000</td>\n",
       "      <td>0.000000</td>\n",
       "      <td>0.000000</td>\n",
       "      <td>1.136859</td>\n",
       "      <td>0.370619</td>\n",
       "      <td>0.000000</td>\n",
       "      <td>1.000000</td>\n",
       "      <td>0.000000</td>\n",
       "      <td>1.910000e+03</td>\n",
       "      <td>0.000000</td>\n",
       "      <td>0.000000</td>\n",
       "      <td>168.000000</td>\n",
       "      <td>0.000000</td>\n",
       "      <td>0.000000</td>\n",
       "      <td>0.000000</td>\n",
       "      <td>0.000000</td>\n",
       "      <td>59174.778028</td>\n",
       "    </tr>\n",
       "    <tr>\n",
       "      <th>25%</th>\n",
       "      <td>4169.50000</td>\n",
       "      <td>20.000000</td>\n",
       "      <td>1.000000</td>\n",
       "      <td>41.774881</td>\n",
       "      <td>22.769832</td>\n",
       "      <td>1.000000</td>\n",
       "      <td>4.000000</td>\n",
       "      <td>9.000000</td>\n",
       "      <td>1.974000e+03</td>\n",
       "      <td>0.017647</td>\n",
       "      <td>6.000000</td>\n",
       "      <td>1564.000000</td>\n",
       "      <td>0.000000</td>\n",
       "      <td>350.000000</td>\n",
       "      <td>0.000000</td>\n",
       "      <td>1.000000</td>\n",
       "      <td>153872.633942</td>\n",
       "    </tr>\n",
       "    <tr>\n",
       "      <th>50%</th>\n",
       "      <td>8394.50000</td>\n",
       "      <td>36.000000</td>\n",
       "      <td>2.000000</td>\n",
       "      <td>52.513310</td>\n",
       "      <td>32.781260</td>\n",
       "      <td>6.000000</td>\n",
       "      <td>7.000000</td>\n",
       "      <td>13.000000</td>\n",
       "      <td>1.977000e+03</td>\n",
       "      <td>0.075424</td>\n",
       "      <td>25.000000</td>\n",
       "      <td>5285.000000</td>\n",
       "      <td>2.000000</td>\n",
       "      <td>900.000000</td>\n",
       "      <td>1.000000</td>\n",
       "      <td>3.000000</td>\n",
       "      <td>192269.644879</td>\n",
       "    </tr>\n",
       "    <tr>\n",
       "      <th>75%</th>\n",
       "      <td>12592.50000</td>\n",
       "      <td>75.000000</td>\n",
       "      <td>2.000000</td>\n",
       "      <td>65.900625</td>\n",
       "      <td>45.128803</td>\n",
       "      <td>9.000000</td>\n",
       "      <td>12.000000</td>\n",
       "      <td>17.000000</td>\n",
       "      <td>2.001000e+03</td>\n",
       "      <td>0.195781</td>\n",
       "      <td>36.000000</td>\n",
       "      <td>7227.000000</td>\n",
       "      <td>5.000000</td>\n",
       "      <td>1548.000000</td>\n",
       "      <td>2.000000</td>\n",
       "      <td>6.000000</td>\n",
       "      <td>249135.462171</td>\n",
       "    </tr>\n",
       "    <tr>\n",
       "      <th>max</th>\n",
       "      <td>16798.00000</td>\n",
       "      <td>209.000000</td>\n",
       "      <td>19.000000</td>\n",
       "      <td>641.065193</td>\n",
       "      <td>7480.592129</td>\n",
       "      <td>2014.000000</td>\n",
       "      <td>42.000000</td>\n",
       "      <td>117.000000</td>\n",
       "      <td>2.005201e+07</td>\n",
       "      <td>0.521867</td>\n",
       "      <td>74.000000</td>\n",
       "      <td>19083.000000</td>\n",
       "      <td>141.000000</td>\n",
       "      <td>4849.000000</td>\n",
       "      <td>6.000000</td>\n",
       "      <td>23.000000</td>\n",
       "      <td>633233.466570</td>\n",
       "    </tr>\n",
       "  </tbody>\n",
       "</table>\n",
       "</div>"
      ],
      "text/plain": [
       "                Id    DistrictId         Rooms        Square   LifeSquare  \\\n",
       "count  10000.00000  10000.000000  10000.000000  10000.000000  7887.000000   \n",
       "mean    8383.40770     50.400800      1.890500     56.315775    37.199645   \n",
       "std     4859.01902     43.587592      0.839512     21.058732    86.241209   \n",
       "min        0.00000      0.000000      0.000000      1.136859     0.370619   \n",
       "25%     4169.50000     20.000000      1.000000     41.774881    22.769832   \n",
       "50%     8394.50000     36.000000      2.000000     52.513310    32.781260   \n",
       "75%    12592.50000     75.000000      2.000000     65.900625    45.128803   \n",
       "max    16798.00000    209.000000     19.000000    641.065193  7480.592129   \n",
       "\n",
       "       KitchenSquare         Floor    HouseFloor     HouseYear     Ecology_1  \\\n",
       "count   10000.000000  10000.000000  10000.000000  1.000000e+04  10000.000000   \n",
       "mean        6.273300      8.526700     12.609400  3.990166e+03      0.118858   \n",
       "std        28.560917      5.241148      6.775974  2.005003e+05      0.119025   \n",
       "min         0.000000      1.000000      0.000000  1.910000e+03      0.000000   \n",
       "25%         1.000000      4.000000      9.000000  1.974000e+03      0.017647   \n",
       "50%         6.000000      7.000000     13.000000  1.977000e+03      0.075424   \n",
       "75%         9.000000     12.000000     17.000000  2.001000e+03      0.195781   \n",
       "max      2014.000000     42.000000    117.000000  2.005201e+07      0.521867   \n",
       "\n",
       "           Social_1      Social_2      Social_3  Healthcare_1   Helthcare_2  \\\n",
       "count  10000.000000  10000.000000  10000.000000   5202.000000  10000.000000   \n",
       "mean      24.687000   5352.157400      8.039200   1142.904460      1.319500   \n",
       "std       17.532614   4006.799803     23.831875   1021.517264      1.493601   \n",
       "min        0.000000    168.000000      0.000000      0.000000      0.000000   \n",
       "25%        6.000000   1564.000000      0.000000    350.000000      0.000000   \n",
       "50%       25.000000   5285.000000      2.000000    900.000000      1.000000   \n",
       "75%       36.000000   7227.000000      5.000000   1548.000000      2.000000   \n",
       "max       74.000000  19083.000000    141.000000   4849.000000      6.000000   \n",
       "\n",
       "            Shops_1          Price  \n",
       "count  10000.000000   10000.000000  \n",
       "mean       4.231300  214138.857399  \n",
       "std        4.806341   92872.293865  \n",
       "min        0.000000   59174.778028  \n",
       "25%        1.000000  153872.633942  \n",
       "50%        3.000000  192269.644879  \n",
       "75%        6.000000  249135.462171  \n",
       "max       23.000000  633233.466570  "
      ]
     },
     "execution_count": 9,
     "metadata": {},
     "output_type": "execute_result"
    }
   ],
   "source": [
    "df_train.describe()"
   ]
  },
  {
   "cell_type": "code",
   "execution_count": 10,
   "id": "fec80e34",
   "metadata": {},
   "outputs": [],
   "source": [
    "df_test = pd.read_csv(DATASET_PATH_test, sep=',')"
   ]
  },
  {
   "cell_type": "code",
   "execution_count": 11,
   "id": "bacef1f2",
   "metadata": {
    "scrolled": false
   },
   "outputs": [
    {
     "name": "stdout",
     "output_type": "stream",
     "text": [
      "<class 'pandas.core.frame.DataFrame'>\n",
      "RangeIndex: 10000 entries, 0 to 9999\n",
      "Data columns (total 20 columns):\n",
      " #   Column         Non-Null Count  Dtype  \n",
      "---  ------         --------------  -----  \n",
      " 0   Id             10000 non-null  int64  \n",
      " 1   DistrictId     10000 non-null  int64  \n",
      " 2   Rooms          10000 non-null  float64\n",
      " 3   Square         10000 non-null  float64\n",
      " 4   LifeSquare     7887 non-null   float64\n",
      " 5   KitchenSquare  10000 non-null  float64\n",
      " 6   Floor          10000 non-null  int64  \n",
      " 7   HouseFloor     10000 non-null  float64\n",
      " 8   HouseYear      10000 non-null  int64  \n",
      " 9   Ecology_1      10000 non-null  float64\n",
      " 10  Ecology_2      10000 non-null  object \n",
      " 11  Ecology_3      10000 non-null  object \n",
      " 12  Social_1       10000 non-null  int64  \n",
      " 13  Social_2       10000 non-null  int64  \n",
      " 14  Social_3       10000 non-null  int64  \n",
      " 15  Healthcare_1   5202 non-null   float64\n",
      " 16  Helthcare_2    10000 non-null  int64  \n",
      " 17  Shops_1        10000 non-null  int64  \n",
      " 18  Shops_2        10000 non-null  object \n",
      " 19  Price          10000 non-null  float64\n",
      "dtypes: float64(8), int64(9), object(3)\n",
      "memory usage: 1.5+ MB\n"
     ]
    }
   ],
   "source": [
    "df_train.info()"
   ]
  },
  {
   "cell_type": "code",
   "execution_count": 12,
   "id": "41b5585c",
   "metadata": {
    "scrolled": true
   },
   "outputs": [
    {
     "data": {
      "text/plain": [
       "Id                 int64\n",
       "DistrictId         int64\n",
       "Rooms            float64\n",
       "Square           float64\n",
       "LifeSquare       float64\n",
       "KitchenSquare    float64\n",
       "Floor              int64\n",
       "HouseFloor       float64\n",
       "HouseYear          int64\n",
       "Ecology_1        float64\n",
       "Ecology_2         object\n",
       "Ecology_3         object\n",
       "Social_1           int64\n",
       "Social_2           int64\n",
       "Social_3           int64\n",
       "Healthcare_1     float64\n",
       "Helthcare_2        int64\n",
       "Shops_1            int64\n",
       "Shops_2           object\n",
       "Price            float64\n",
       "dtype: object"
      ]
     },
     "execution_count": 12,
     "metadata": {},
     "output_type": "execute_result"
    }
   ],
   "source": [
    "df_train.dtypes"
   ]
  },
  {
   "cell_type": "markdown",
   "id": "9315497e",
   "metadata": {},
   "source": [
    "#### Приведение типов"
   ]
  },
  {
   "cell_type": "markdown",
   "id": "fe22d977",
   "metadata": {},
   "source": [
    "Приведем признаки Id, DistrictId в object, чтобы они не мешали при анализе вещественных признаков. "
   ]
  },
  {
   "cell_type": "code",
   "execution_count": 13,
   "id": "bee8ba82",
   "metadata": {
    "scrolled": true
   },
   "outputs": [
    {
     "name": "stdout",
     "output_type": "stream",
     "text": [
      "object\n",
      "object\n"
     ]
    }
   ],
   "source": [
    "df_train['Id'] = df_train['Id'].astype(str)\n",
    "df_train['DistrictId'] = df_train['DistrictId'].astype(str)\n",
    "print(df_train['Id'].dtype)\n",
    "print(df_train['DistrictId'].dtype)"
   ]
  },
  {
   "cell_type": "markdown",
   "id": "0ac7d95b",
   "metadata": {},
   "source": [
    "### EDA"
   ]
  },
  {
   "cell_type": "markdown",
   "id": "109dd6db",
   "metadata": {},
   "source": [
    "#### Обзор целевой переменной"
   ]
  },
  {
   "cell_type": "code",
   "execution_count": 14,
   "id": "fd088328",
   "metadata": {
    "scrolled": true
   },
   "outputs": [
    {
     "data": {
      "image/png": "[encoded data removed]",
      "text/plain": [
       "<Figure size 1152x576 with 1 Axes>"
      ]
     },
     "metadata": {
      "needs_background": "light"
     },
     "output_type": "display_data"
    }
   ],
   "source": [
    "plt.figure(figsize = (16, 8))\n",
    "\n",
    "plt.subplot(121)\n",
    "df_train['Price'].hist(density=False, bins=30)\n",
    "plt.ylabel('count')\n",
    "plt.xlabel('Price')\n",
    "\n",
    "plt.title('Distribution of Price')\n",
    "plt.show()"
   ]
  },
  {
   "cell_type": "code",
   "execution_count": 15,
   "id": "5a0e4032",
   "metadata": {
    "scrolled": true
   },
   "outputs": [
    {
     "data": {
      "image/png": "[encoded data removed]",
      "text/plain": [
       "<Figure size 432x216 with 1 Axes>"
      ]
     },
     "metadata": {
      "needs_background": "light"
     },
     "output_type": "display_data"
    }
   ],
   "source": [
    "plt.figure(figsize=(6, 3))\n",
    "\n",
    "sns.boxplot(df_train['Price'], whis=2)\n",
    "\n",
    "plt.xlabel('Price')\n",
    "plt.show()"
   ]
  },
  {
   "cell_type": "markdown",
   "id": "caf386c8",
   "metadata": {},
   "source": [
    "По первому графику можно сказать, что явных выбросов нет, а по усам видно, что больше 440000 данные похожи на выбросы, но это не факт, что выбросы."
   ]
  },
  {
   "cell_type": "markdown",
   "id": "46810c2f",
   "metadata": {},
   "source": [
    "##### Обзор номинативных переменных"
   ]
  },
  {
   "cell_type": "code",
   "execution_count": 16,
   "id": "e998da0c",
   "metadata": {},
   "outputs": [],
   "source": [
    "df_obj = df_train.select_dtypes(include='object')"
   ]
  },
  {
   "cell_type": "code",
   "execution_count": 17,
   "id": "fdc25bbf",
   "metadata": {
    "scrolled": true
   },
   "outputs": [
    {
     "data": {
      "text/html": [
       "<div>\n",
       "<style scoped>\n",
       "    .dataframe tbody tr th:only-of-type {\n",
       "        vertical-align: middle;\n",
       "    }\n",
       "\n",
       "    .dataframe tbody tr th {\n",
       "        vertical-align: top;\n",
       "    }\n",
       "\n",
       "    .dataframe thead th {\n",
       "        text-align: right;\n",
       "    }\n",
       "</style>\n",
       "<table border=\"1\" class=\"dataframe\">\n",
       "  <thead>\n",
       "    <tr style=\"text-align: right;\">\n",
       "      <th></th>\n",
       "      <th>Id</th>\n",
       "      <th>DistrictId</th>\n",
       "      <th>Ecology_2</th>\n",
       "      <th>Ecology_3</th>\n",
       "      <th>Shops_2</th>\n",
       "    </tr>\n",
       "  </thead>\n",
       "  <tbody>\n",
       "    <tr>\n",
       "      <th>0</th>\n",
       "      <td>11809</td>\n",
       "      <td>27</td>\n",
       "      <td>B</td>\n",
       "      <td>B</td>\n",
       "      <td>B</td>\n",
       "    </tr>\n",
       "    <tr>\n",
       "      <th>1</th>\n",
       "      <td>3013</td>\n",
       "      <td>22</td>\n",
       "      <td>B</td>\n",
       "      <td>B</td>\n",
       "      <td>B</td>\n",
       "    </tr>\n",
       "    <tr>\n",
       "      <th>2</th>\n",
       "      <td>8215</td>\n",
       "      <td>1</td>\n",
       "      <td>B</td>\n",
       "      <td>B</td>\n",
       "      <td>B</td>\n",
       "    </tr>\n",
       "    <tr>\n",
       "      <th>3</th>\n",
       "      <td>2352</td>\n",
       "      <td>1</td>\n",
       "      <td>B</td>\n",
       "      <td>B</td>\n",
       "      <td>B</td>\n",
       "    </tr>\n",
       "    <tr>\n",
       "      <th>4</th>\n",
       "      <td>13866</td>\n",
       "      <td>94</td>\n",
       "      <td>B</td>\n",
       "      <td>B</td>\n",
       "      <td>B</td>\n",
       "    </tr>\n",
       "    <tr>\n",
       "      <th>...</th>\n",
       "      <td>...</td>\n",
       "      <td>...</td>\n",
       "      <td>...</td>\n",
       "      <td>...</td>\n",
       "      <td>...</td>\n",
       "    </tr>\n",
       "    <tr>\n",
       "      <th>9995</th>\n",
       "      <td>1260</td>\n",
       "      <td>61</td>\n",
       "      <td>B</td>\n",
       "      <td>B</td>\n",
       "      <td>B</td>\n",
       "    </tr>\n",
       "    <tr>\n",
       "      <th>9996</th>\n",
       "      <td>16265</td>\n",
       "      <td>27</td>\n",
       "      <td>B</td>\n",
       "      <td>B</td>\n",
       "      <td>A</td>\n",
       "    </tr>\n",
       "    <tr>\n",
       "      <th>9997</th>\n",
       "      <td>2795</td>\n",
       "      <td>178</td>\n",
       "      <td>B</td>\n",
       "      <td>B</td>\n",
       "      <td>B</td>\n",
       "    </tr>\n",
       "    <tr>\n",
       "      <th>9998</th>\n",
       "      <td>14561</td>\n",
       "      <td>21</td>\n",
       "      <td>B</td>\n",
       "      <td>B</td>\n",
       "      <td>B</td>\n",
       "    </tr>\n",
       "    <tr>\n",
       "      <th>9999</th>\n",
       "      <td>7202</td>\n",
       "      <td>94</td>\n",
       "      <td>B</td>\n",
       "      <td>B</td>\n",
       "      <td>B</td>\n",
       "    </tr>\n",
       "  </tbody>\n",
       "</table>\n",
       "<p>10000 rows × 5 columns</p>\n",
       "</div>"
      ],
      "text/plain": [
       "         Id DistrictId Ecology_2 Ecology_3 Shops_2\n",
       "0     11809         27         B         B       B\n",
       "1      3013         22         B         B       B\n",
       "2      8215          1         B         B       B\n",
       "3      2352          1         B         B       B\n",
       "4     13866         94         B         B       B\n",
       "...     ...        ...       ...       ...     ...\n",
       "9995   1260         61         B         B       B\n",
       "9996  16265         27         B         B       A\n",
       "9997   2795        178         B         B       B\n",
       "9998  14561         21         B         B       B\n",
       "9999   7202         94         B         B       B\n",
       "\n",
       "[10000 rows x 5 columns]"
      ]
     },
     "execution_count": 17,
     "metadata": {},
     "output_type": "execute_result"
    }
   ],
   "source": [
    "df_obj"
   ]
  },
  {
   "cell_type": "code",
   "execution_count": 18,
   "id": "cf8b18a3",
   "metadata": {
    "scrolled": false
   },
   "outputs": [
    {
     "data": {
      "text/plain": [
       "6581     1\n",
       "10960    1\n",
       "643      1\n",
       "5927     1\n",
       "1013     1\n",
       "        ..\n",
       "15952    1\n",
       "8328     1\n",
       "10411    1\n",
       "11479    1\n",
       "11288    1\n",
       "Name: Id, Length: 10000, dtype: int64"
      ]
     },
     "execution_count": 18,
     "metadata": {},
     "output_type": "execute_result"
    }
   ],
   "source": [
    "df_train['Id'].value_counts()"
   ]
  },
  {
   "cell_type": "code",
   "execution_count": 19,
   "id": "dc16a7b5",
   "metadata": {
    "scrolled": false
   },
   "outputs": [
    {
     "data": {
      "text/plain": [
       "27     851\n",
       "1      652\n",
       "23     565\n",
       "6      511\n",
       "9      294\n",
       "      ... \n",
       "207      1\n",
       "205      1\n",
       "209      1\n",
       "174      1\n",
       "117      1\n",
       "Name: DistrictId, Length: 205, dtype: int64"
      ]
     },
     "execution_count": 19,
     "metadata": {},
     "output_type": "execute_result"
    }
   ],
   "source": [
    "df_train['DistrictId'].value_counts()"
   ]
  },
  {
   "cell_type": "code",
   "execution_count": 20,
   "id": "f326fe4e",
   "metadata": {
    "scrolled": true
   },
   "outputs": [
    {
     "data": {
      "text/plain": [
       "205"
      ]
     },
     "execution_count": 20,
     "metadata": {},
     "output_type": "execute_result"
    }
   ],
   "source": [
    "df_train['DistrictId'].nunique()"
   ]
  },
  {
   "cell_type": "code",
   "execution_count": 21,
   "id": "fc827927",
   "metadata": {
    "scrolled": false
   },
   "outputs": [
    {
     "data": {
      "text/plain": [
       "B    9903\n",
       "A      97\n",
       "Name: Ecology_2, dtype: int64"
      ]
     },
     "execution_count": 21,
     "metadata": {},
     "output_type": "execute_result"
    }
   ],
   "source": [
    "df_train['Ecology_2'].value_counts()"
   ]
  },
  {
   "cell_type": "code",
   "execution_count": 22,
   "id": "bf93e0be",
   "metadata": {
    "scrolled": false
   },
   "outputs": [
    {
     "data": {
      "text/plain": [
       "B    9725\n",
       "A     275\n",
       "Name: Ecology_3, dtype: int64"
      ]
     },
     "execution_count": 22,
     "metadata": {},
     "output_type": "execute_result"
    }
   ],
   "source": [
    "df_train['Ecology_3'].value_counts()"
   ]
  },
  {
   "cell_type": "code",
   "execution_count": 23,
   "id": "c4163037",
   "metadata": {
    "scrolled": false
   },
   "outputs": [
    {
     "data": {
      "text/plain": [
       "B    9175\n",
       "A     825\n",
       "Name: Shops_2, dtype: int64"
      ]
     },
     "execution_count": 23,
     "metadata": {},
     "output_type": "execute_result"
    }
   ],
   "source": [
    "df_train['Shops_2'].value_counts()"
   ]
  },
  {
   "cell_type": "markdown",
   "id": "8dabef62",
   "metadata": {},
   "source": [
    "## 2. Обработка выбросов"
   ]
  },
  {
   "cell_type": "markdown",
   "id": "be91a045",
   "metadata": {},
   "source": [
    "##### Rooms"
   ]
  },
  {
   "cell_type": "code",
   "execution_count": 24,
   "id": "e435f937",
   "metadata": {
    "scrolled": true
   },
   "outputs": [
    {
     "data": {
      "text/plain": [
       "count    10000.000000\n",
       "mean         1.890500\n",
       "std          0.839512\n",
       "min          0.000000\n",
       "25%          1.000000\n",
       "50%          2.000000\n",
       "75%          2.000000\n",
       "max         19.000000\n",
       "Name: Rooms, dtype: float64"
      ]
     },
     "execution_count": 24,
     "metadata": {},
     "output_type": "execute_result"
    }
   ],
   "source": [
    "df_train['Rooms'].describe()"
   ]
  },
  {
   "cell_type": "code",
   "execution_count": 25,
   "id": "c33d8e8a",
   "metadata": {
    "scrolled": true
   },
   "outputs": [
    {
     "data": {
      "text/plain": [
       "2.0     3880\n",
       "1.0     3705\n",
       "3.0     2235\n",
       "4.0      150\n",
       "5.0       18\n",
       "0.0        8\n",
       "10.0       2\n",
       "6.0        1\n",
       "19.0       1\n",
       "Name: Rooms, dtype: int64"
      ]
     },
     "execution_count": 25,
     "metadata": {},
     "output_type": "execute_result"
    }
   ],
   "source": [
    "df_train['Rooms'].value_counts()"
   ]
  },
  {
   "cell_type": "markdown",
   "id": "dd748fcf",
   "metadata": {},
   "source": [
    "Видно, что значения 0 явно выброс, а больше 5 маловероятны.  "
   ]
  },
  {
   "cell_type": "code",
   "execution_count": 26,
   "id": "ab95e4de",
   "metadata": {
    "scrolled": false
   },
   "outputs": [
    {
     "data": {
      "text/html": [
       "<div>\n",
       "<style scoped>\n",
       "    .dataframe tbody tr th:only-of-type {\n",
       "        vertical-align: middle;\n",
       "    }\n",
       "\n",
       "    .dataframe tbody tr th {\n",
       "        vertical-align: top;\n",
       "    }\n",
       "\n",
       "    .dataframe thead th {\n",
       "        text-align: right;\n",
       "    }\n",
       "</style>\n",
       "<table border=\"1\" class=\"dataframe\">\n",
       "  <thead>\n",
       "    <tr style=\"text-align: right;\">\n",
       "      <th></th>\n",
       "      <th>Id</th>\n",
       "      <th>DistrictId</th>\n",
       "      <th>Rooms</th>\n",
       "      <th>Square</th>\n",
       "      <th>LifeSquare</th>\n",
       "      <th>KitchenSquare</th>\n",
       "      <th>Floor</th>\n",
       "      <th>HouseFloor</th>\n",
       "      <th>HouseYear</th>\n",
       "      <th>Ecology_1</th>\n",
       "      <th>Ecology_2</th>\n",
       "      <th>Ecology_3</th>\n",
       "      <th>Social_1</th>\n",
       "      <th>Social_2</th>\n",
       "      <th>Social_3</th>\n",
       "      <th>Healthcare_1</th>\n",
       "      <th>Helthcare_2</th>\n",
       "      <th>Shops_1</th>\n",
       "      <th>Shops_2</th>\n",
       "      <th>Price</th>\n",
       "    </tr>\n",
       "  </thead>\n",
       "  <tbody>\n",
       "    <tr>\n",
       "      <th>2194</th>\n",
       "      <td>3159</td>\n",
       "      <td>88</td>\n",
       "      <td>0.0</td>\n",
       "      <td>38.697117</td>\n",
       "      <td>19.345131</td>\n",
       "      <td>9.0</td>\n",
       "      <td>9</td>\n",
       "      <td>16.0</td>\n",
       "      <td>1982</td>\n",
       "      <td>0.127376</td>\n",
       "      <td>B</td>\n",
       "      <td>B</td>\n",
       "      <td>43</td>\n",
       "      <td>8429</td>\n",
       "      <td>3</td>\n",
       "      <td>NaN</td>\n",
       "      <td>3</td>\n",
       "      <td>9</td>\n",
       "      <td>B</td>\n",
       "      <td>158998.110646</td>\n",
       "    </tr>\n",
       "    <tr>\n",
       "      <th>3780</th>\n",
       "      <td>7317</td>\n",
       "      <td>27</td>\n",
       "      <td>0.0</td>\n",
       "      <td>41.790881</td>\n",
       "      <td>NaN</td>\n",
       "      <td>0.0</td>\n",
       "      <td>13</td>\n",
       "      <td>0.0</td>\n",
       "      <td>1977</td>\n",
       "      <td>0.211401</td>\n",
       "      <td>B</td>\n",
       "      <td>B</td>\n",
       "      <td>9</td>\n",
       "      <td>1892</td>\n",
       "      <td>0</td>\n",
       "      <td>NaN</td>\n",
       "      <td>0</td>\n",
       "      <td>1</td>\n",
       "      <td>B</td>\n",
       "      <td>98129.976788</td>\n",
       "    </tr>\n",
       "    <tr>\n",
       "      <th>5894</th>\n",
       "      <td>770</td>\n",
       "      <td>28</td>\n",
       "      <td>0.0</td>\n",
       "      <td>49.483501</td>\n",
       "      <td>NaN</td>\n",
       "      <td>0.0</td>\n",
       "      <td>16</td>\n",
       "      <td>0.0</td>\n",
       "      <td>2015</td>\n",
       "      <td>0.118537</td>\n",
       "      <td>B</td>\n",
       "      <td>B</td>\n",
       "      <td>30</td>\n",
       "      <td>6207</td>\n",
       "      <td>1</td>\n",
       "      <td>1183.0</td>\n",
       "      <td>1</td>\n",
       "      <td>0</td>\n",
       "      <td>B</td>\n",
       "      <td>217009.338463</td>\n",
       "    </tr>\n",
       "    <tr>\n",
       "      <th>6401</th>\n",
       "      <td>9443</td>\n",
       "      <td>27</td>\n",
       "      <td>0.0</td>\n",
       "      <td>87.762616</td>\n",
       "      <td>85.125471</td>\n",
       "      <td>0.0</td>\n",
       "      <td>5</td>\n",
       "      <td>15.0</td>\n",
       "      <td>1977</td>\n",
       "      <td>0.211401</td>\n",
       "      <td>B</td>\n",
       "      <td>B</td>\n",
       "      <td>9</td>\n",
       "      <td>1892</td>\n",
       "      <td>0</td>\n",
       "      <td>NaN</td>\n",
       "      <td>0</td>\n",
       "      <td>1</td>\n",
       "      <td>B</td>\n",
       "      <td>219281.918007</td>\n",
       "    </tr>\n",
       "    <tr>\n",
       "      <th>7644</th>\n",
       "      <td>7917</td>\n",
       "      <td>27</td>\n",
       "      <td>0.0</td>\n",
       "      <td>212.932361</td>\n",
       "      <td>211.231125</td>\n",
       "      <td>0.0</td>\n",
       "      <td>2</td>\n",
       "      <td>3.0</td>\n",
       "      <td>2008</td>\n",
       "      <td>0.211401</td>\n",
       "      <td>B</td>\n",
       "      <td>B</td>\n",
       "      <td>9</td>\n",
       "      <td>1892</td>\n",
       "      <td>0</td>\n",
       "      <td>NaN</td>\n",
       "      <td>0</td>\n",
       "      <td>1</td>\n",
       "      <td>B</td>\n",
       "      <td>302211.260887</td>\n",
       "    </tr>\n",
       "    <tr>\n",
       "      <th>7929</th>\n",
       "      <td>456</td>\n",
       "      <td>6</td>\n",
       "      <td>0.0</td>\n",
       "      <td>81.491446</td>\n",
       "      <td>NaN</td>\n",
       "      <td>0.0</td>\n",
       "      <td>4</td>\n",
       "      <td>0.0</td>\n",
       "      <td>1977</td>\n",
       "      <td>0.243205</td>\n",
       "      <td>B</td>\n",
       "      <td>B</td>\n",
       "      <td>5</td>\n",
       "      <td>1564</td>\n",
       "      <td>0</td>\n",
       "      <td>540.0</td>\n",
       "      <td>0</td>\n",
       "      <td>0</td>\n",
       "      <td>B</td>\n",
       "      <td>212864.799112</td>\n",
       "    </tr>\n",
       "    <tr>\n",
       "      <th>9767</th>\n",
       "      <td>12638</td>\n",
       "      <td>27</td>\n",
       "      <td>0.0</td>\n",
       "      <td>138.427694</td>\n",
       "      <td>136.215499</td>\n",
       "      <td>0.0</td>\n",
       "      <td>4</td>\n",
       "      <td>3.0</td>\n",
       "      <td>2016</td>\n",
       "      <td>0.075424</td>\n",
       "      <td>B</td>\n",
       "      <td>B</td>\n",
       "      <td>11</td>\n",
       "      <td>3097</td>\n",
       "      <td>0</td>\n",
       "      <td>NaN</td>\n",
       "      <td>0</td>\n",
       "      <td>0</td>\n",
       "      <td>B</td>\n",
       "      <td>268394.744389</td>\n",
       "    </tr>\n",
       "    <tr>\n",
       "      <th>9869</th>\n",
       "      <td>3224</td>\n",
       "      <td>27</td>\n",
       "      <td>0.0</td>\n",
       "      <td>2.377248</td>\n",
       "      <td>0.873147</td>\n",
       "      <td>0.0</td>\n",
       "      <td>1</td>\n",
       "      <td>0.0</td>\n",
       "      <td>1977</td>\n",
       "      <td>0.017647</td>\n",
       "      <td>B</td>\n",
       "      <td>B</td>\n",
       "      <td>2</td>\n",
       "      <td>469</td>\n",
       "      <td>0</td>\n",
       "      <td>NaN</td>\n",
       "      <td>0</td>\n",
       "      <td>0</td>\n",
       "      <td>B</td>\n",
       "      <td>126596.941798</td>\n",
       "    </tr>\n",
       "  </tbody>\n",
       "</table>\n",
       "</div>"
      ],
      "text/plain": [
       "         Id DistrictId  Rooms      Square  LifeSquare  KitchenSquare  Floor  \\\n",
       "2194   3159         88    0.0   38.697117   19.345131            9.0      9   \n",
       "3780   7317         27    0.0   41.790881         NaN            0.0     13   \n",
       "5894    770         28    0.0   49.483501         NaN            0.0     16   \n",
       "6401   9443         27    0.0   87.762616   85.125471            0.0      5   \n",
       "7644   7917         27    0.0  212.932361  211.231125            0.0      2   \n",
       "7929    456          6    0.0   81.491446         NaN            0.0      4   \n",
       "9767  12638         27    0.0  138.427694  136.215499            0.0      4   \n",
       "9869   3224         27    0.0    2.377248    0.873147            0.0      1   \n",
       "\n",
       "      HouseFloor  HouseYear  Ecology_1 Ecology_2 Ecology_3  Social_1  \\\n",
       "2194        16.0       1982   0.127376         B         B        43   \n",
       "3780         0.0       1977   0.211401         B         B         9   \n",
       "5894         0.0       2015   0.118537         B         B        30   \n",
       "6401        15.0       1977   0.211401         B         B         9   \n",
       "7644         3.0       2008   0.211401         B         B         9   \n",
       "7929         0.0       1977   0.243205         B         B         5   \n",
       "9767         3.0       2016   0.075424         B         B        11   \n",
       "9869         0.0       1977   0.017647         B         B         2   \n",
       "\n",
       "      Social_2  Social_3  Healthcare_1  Helthcare_2  Shops_1 Shops_2  \\\n",
       "2194      8429         3           NaN            3        9       B   \n",
       "3780      1892         0           NaN            0        1       B   \n",
       "5894      6207         1        1183.0            1        0       B   \n",
       "6401      1892         0           NaN            0        1       B   \n",
       "7644      1892         0           NaN            0        1       B   \n",
       "7929      1564         0         540.0            0        0       B   \n",
       "9767      3097         0           NaN            0        0       B   \n",
       "9869       469         0           NaN            0        0       B   \n",
       "\n",
       "              Price  \n",
       "2194  158998.110646  \n",
       "3780   98129.976788  \n",
       "5894  217009.338463  \n",
       "6401  219281.918007  \n",
       "7644  302211.260887  \n",
       "7929  212864.799112  \n",
       "9767  268394.744389  \n",
       "9869  126596.941798  "
      ]
     },
     "execution_count": 26,
     "metadata": {},
     "output_type": "execute_result"
    }
   ],
   "source": [
    "df_train[df_train['Rooms'] == 0]"
   ]
  },
  {
   "cell_type": "code",
   "execution_count": 27,
   "id": "688faf0f",
   "metadata": {
    "scrolled": true
   },
   "outputs": [
    {
     "data": {
      "image/png": "[encoded data removed]",
      "text/plain": [
       "<Figure size 1152x576 with 1 Axes>"
      ]
     },
     "metadata": {
      "needs_background": "light"
     },
     "output_type": "display_data"
    }
   ],
   "source": [
    "plt.figure(figsize = (16, 8))\n",
    "\n",
    "plt.subplot(121)\n",
    "df_train['Rooms'].hist(density=False, bins=30)\n",
    "plt.ylabel('count')\n",
    "plt.xlabel('Rooms')\n",
    "\n",
    "plt.title('Distribution of Rooms')\n",
    "plt.show()"
   ]
  },
  {
   "cell_type": "markdown",
   "id": "73867389",
   "metadata": {},
   "source": [
    "Создадим новый признак. Все значения, что равны 0 и больше 5, заменим медианой:"
   ]
  },
  {
   "cell_type": "code",
   "execution_count": 28,
   "id": "a8471532",
   "metadata": {},
   "outputs": [],
   "source": [
    "df_train['Rooms_outlier'] = 0\n"
   ]
  },
  {
   "cell_type": "code",
   "execution_count": 29,
   "id": "f9615518",
   "metadata": {},
   "outputs": [],
   "source": [
    "df_train.loc[((df_train['Rooms'] == 0) | (df_train['Rooms'] > 5)), 'Rooms_outlier'] = 1"
   ]
  },
  {
   "cell_type": "code",
   "execution_count": 30,
   "id": "8d8c4faf",
   "metadata": {},
   "outputs": [],
   "source": [
    "df_train.loc[((df_train['Rooms'] == 0) | (df_train['Rooms'] > 5)), 'Rooms'] = df_train['Rooms'].median()"
   ]
  },
  {
   "cell_type": "code",
   "execution_count": 31,
   "id": "027fa6bc",
   "metadata": {},
   "outputs": [
    {
     "data": {
      "text/html": [
       "<div>\n",
       "<style scoped>\n",
       "    .dataframe tbody tr th:only-of-type {\n",
       "        vertical-align: middle;\n",
       "    }\n",
       "\n",
       "    .dataframe tbody tr th {\n",
       "        vertical-align: top;\n",
       "    }\n",
       "\n",
       "    .dataframe thead th {\n",
       "        text-align: right;\n",
       "    }\n",
       "</style>\n",
       "<table border=\"1\" class=\"dataframe\">\n",
       "  <thead>\n",
       "    <tr style=\"text-align: right;\">\n",
       "      <th></th>\n",
       "      <th>Id</th>\n",
       "      <th>DistrictId</th>\n",
       "      <th>Rooms</th>\n",
       "      <th>Square</th>\n",
       "      <th>LifeSquare</th>\n",
       "      <th>KitchenSquare</th>\n",
       "      <th>Floor</th>\n",
       "      <th>HouseFloor</th>\n",
       "      <th>HouseYear</th>\n",
       "      <th>Ecology_1</th>\n",
       "      <th>...</th>\n",
       "      <th>Ecology_3</th>\n",
       "      <th>Social_1</th>\n",
       "      <th>Social_2</th>\n",
       "      <th>Social_3</th>\n",
       "      <th>Healthcare_1</th>\n",
       "      <th>Helthcare_2</th>\n",
       "      <th>Shops_1</th>\n",
       "      <th>Shops_2</th>\n",
       "      <th>Price</th>\n",
       "      <th>Rooms_outlier</th>\n",
       "    </tr>\n",
       "  </thead>\n",
       "  <tbody>\n",
       "  </tbody>\n",
       "</table>\n",
       "<p>0 rows × 21 columns</p>\n",
       "</div>"
      ],
      "text/plain": [
       "Empty DataFrame\n",
       "Columns: [Id, DistrictId, Rooms, Square, LifeSquare, KitchenSquare, Floor, HouseFloor, HouseYear, Ecology_1, Ecology_2, Ecology_3, Social_1, Social_2, Social_3, Healthcare_1, Helthcare_2, Shops_1, Shops_2, Price, Rooms_outlier]\n",
       "Index: []\n",
       "\n",
       "[0 rows x 21 columns]"
      ]
     },
     "execution_count": 31,
     "metadata": {},
     "output_type": "execute_result"
    }
   ],
   "source": [
    "df_train[df_train['Rooms'] == 0]"
   ]
  },
  {
   "cell_type": "code",
   "execution_count": 32,
   "id": "1eff6b31",
   "metadata": {
    "scrolled": true
   },
   "outputs": [
    {
     "data": {
      "text/plain": [
       "2004    2.0\n",
       "2194    2.0\n",
       "2728    2.0\n",
       "3780    2.0\n",
       "5894    2.0\n",
       "6088    2.0\n",
       "6401    2.0\n",
       "7644    2.0\n",
       "7929    2.0\n",
       "8794    2.0\n",
       "9767    2.0\n",
       "9869    2.0\n",
       "Name: Rooms, dtype: float64"
      ]
     },
     "execution_count": 32,
     "metadata": {},
     "output_type": "execute_result"
    }
   ],
   "source": [
    "df_train.loc[df_train['Rooms_outlier'] == 1, 'Rooms']"
   ]
  },
  {
   "cell_type": "code",
   "execution_count": 33,
   "id": "126c3bdf",
   "metadata": {},
   "outputs": [
    {
     "data": {
      "image/png": "[encoded data removed]",
      "text/plain": [
       "<Figure size 1152x576 with 1 Axes>"
      ]
     },
     "metadata": {
      "needs_background": "light"
     },
     "output_type": "display_data"
    }
   ],
   "source": [
    "plt.figure(figsize = (16, 8))\n",
    "\n",
    "plt.subplot(121)\n",
    "df_train['Rooms'].hist(density=False, bins=30)\n",
    "plt.ylabel('count')\n",
    "plt.xlabel('Rooms')\n",
    "\n",
    "#plt.subplot(122)\n",
    "#sns.kdeplot(df_train['Price'], shade=True, legend=False)\n",
    "#plt.xlabel('Price')\n",
    "\n",
    "plt.title('Distribution of Rooms')\n",
    "plt.show()"
   ]
  },
  {
   "cell_type": "code",
   "execution_count": 34,
   "id": "c641933a",
   "metadata": {
    "scrolled": true
   },
   "outputs": [
    {
     "data": {
      "text/plain": [
       "2.0    3892\n",
       "1.0    3705\n",
       "3.0    2235\n",
       "4.0     150\n",
       "5.0      18\n",
       "Name: Rooms, dtype: int64"
      ]
     },
     "execution_count": 34,
     "metadata": {},
     "output_type": "execute_result"
    }
   ],
   "source": [
    "df_train['Rooms'].value_counts()"
   ]
  },
  {
   "cell_type": "code",
   "execution_count": 35,
   "id": "48d920a9",
   "metadata": {},
   "outputs": [
    {
     "data": {
      "text/plain": [
       "count    10000.000000\n",
       "mean         1.888400\n",
       "std          0.811056\n",
       "min          1.000000\n",
       "25%          1.000000\n",
       "50%          2.000000\n",
       "75%          2.000000\n",
       "max          5.000000\n",
       "Name: Rooms, dtype: float64"
      ]
     },
     "execution_count": 35,
     "metadata": {},
     "output_type": "execute_result"
    }
   ],
   "source": [
    "df_train['Rooms'].describe()"
   ]
  },
  {
   "cell_type": "markdown",
   "id": "eb8a31c5",
   "metadata": {},
   "source": [
    "#### Square:"
   ]
  },
  {
   "cell_type": "code",
   "execution_count": 36,
   "id": "1c765231",
   "metadata": {},
   "outputs": [
    {
     "data": {
      "text/plain": [
       "52.327165    1\n",
       "34.785487    1\n",
       "45.823093    1\n",
       "57.607965    1\n",
       "57.925603    1\n",
       "            ..\n",
       "60.776683    1\n",
       "72.956943    1\n",
       "51.770111    1\n",
       "41.843220    1\n",
       "64.226361    1\n",
       "Name: Square, Length: 10000, dtype: int64"
      ]
     },
     "execution_count": 36,
     "metadata": {},
     "output_type": "execute_result"
    }
   ],
   "source": [
    "df_train['Square'].value_counts()"
   ]
  },
  {
   "cell_type": "code",
   "execution_count": 37,
   "id": "b23158ee",
   "metadata": {
    "scrolled": true
   },
   "outputs": [
    {
     "data": {
      "text/plain": [
       "count    10000.000000\n",
       "mean        56.315775\n",
       "std         21.058732\n",
       "min          1.136859\n",
       "25%         41.774881\n",
       "50%         52.513310\n",
       "75%         65.900625\n",
       "max        641.065193\n",
       "Name: Square, dtype: float64"
      ]
     },
     "execution_count": 37,
     "metadata": {},
     "output_type": "execute_result"
    }
   ],
   "source": [
    "df_train['Square'].describe()"
   ]
  },
  {
   "cell_type": "code",
   "execution_count": 38,
   "id": "70771ffb",
   "metadata": {
    "scrolled": true
   },
   "outputs": [
    {
     "data": {
      "image/png": "[encoded data removed]",
      "text/plain": [
       "<Figure size 1152x576 with 1 Axes>"
      ]
     },
     "metadata": {
      "needs_background": "light"
     },
     "output_type": "display_data"
    }
   ],
   "source": [
    "plt.figure(figsize = (16, 8))\n",
    "plt.axis([0, 200, 0, 300])\n",
    "\n",
    "#plt.plot(121)\n",
    "df_train['Square'].hist(density=False, bins=30)\n",
    "plt.ylabel('count')\n",
    "plt.xlabel('Square')\n",
    "\n",
    "plt.title('Distribution of Square')\n",
    "plt.show()"
   ]
  },
  {
   "cell_type": "markdown",
   "id": "71bb3196",
   "metadata": {},
   "source": [
    "Значения < 23 и > 128 похожи на выбросы. Заменим их на медиану."
   ]
  },
  {
   "cell_type": "code",
   "execution_count": 39,
   "id": "6d681458",
   "metadata": {},
   "outputs": [],
   "source": [
    "df_train['Square_outlier'] = 0"
   ]
  },
  {
   "cell_type": "code",
   "execution_count": 40,
   "id": "368feac4",
   "metadata": {},
   "outputs": [],
   "source": [
    "df_train.loc[((df_train['Square'] < 23) | (df_train['Square'] > 128)), 'Square_outlier'] = 1"
   ]
  },
  {
   "cell_type": "code",
   "execution_count": 41,
   "id": "4f21594b",
   "metadata": {},
   "outputs": [],
   "source": [
    "df_train.loc[((df_train['Square'] < 23) | (df_train['Square'] > 128)), 'Square'] = df_train['Square'].median()"
   ]
  },
  {
   "cell_type": "code",
   "execution_count": 42,
   "id": "850a430a",
   "metadata": {},
   "outputs": [
    {
     "data": {
      "text/html": [
       "<div>\n",
       "<style scoped>\n",
       "    .dataframe tbody tr th:only-of-type {\n",
       "        vertical-align: middle;\n",
       "    }\n",
       "\n",
       "    .dataframe tbody tr th {\n",
       "        vertical-align: top;\n",
       "    }\n",
       "\n",
       "    .dataframe thead th {\n",
       "        text-align: right;\n",
       "    }\n",
       "</style>\n",
       "<table border=\"1\" class=\"dataframe\">\n",
       "  <thead>\n",
       "    <tr style=\"text-align: right;\">\n",
       "      <th></th>\n",
       "      <th>Id</th>\n",
       "      <th>DistrictId</th>\n",
       "      <th>Rooms</th>\n",
       "      <th>Square</th>\n",
       "      <th>LifeSquare</th>\n",
       "      <th>KitchenSquare</th>\n",
       "      <th>Floor</th>\n",
       "      <th>HouseFloor</th>\n",
       "      <th>HouseYear</th>\n",
       "      <th>Ecology_1</th>\n",
       "      <th>...</th>\n",
       "      <th>Social_1</th>\n",
       "      <th>Social_2</th>\n",
       "      <th>Social_3</th>\n",
       "      <th>Healthcare_1</th>\n",
       "      <th>Helthcare_2</th>\n",
       "      <th>Shops_1</th>\n",
       "      <th>Shops_2</th>\n",
       "      <th>Price</th>\n",
       "      <th>Rooms_outlier</th>\n",
       "      <th>Square_outlier</th>\n",
       "    </tr>\n",
       "  </thead>\n",
       "  <tbody>\n",
       "  </tbody>\n",
       "</table>\n",
       "<p>0 rows × 22 columns</p>\n",
       "</div>"
      ],
      "text/plain": [
       "Empty DataFrame\n",
       "Columns: [Id, DistrictId, Rooms, Square, LifeSquare, KitchenSquare, Floor, HouseFloor, HouseYear, Ecology_1, Ecology_2, Ecology_3, Social_1, Social_2, Social_3, Healthcare_1, Helthcare_2, Shops_1, Shops_2, Price, Rooms_outlier, Square_outlier]\n",
       "Index: []\n",
       "\n",
       "[0 rows x 22 columns]"
      ]
     },
     "execution_count": 42,
     "metadata": {},
     "output_type": "execute_result"
    }
   ],
   "source": [
    "df_train.loc[((df_train['Square'] < 23) | (df_train['Square'] > 128))]"
   ]
  },
  {
   "cell_type": "code",
   "execution_count": 43,
   "id": "b977a202",
   "metadata": {},
   "outputs": [
    {
     "data": {
      "text/plain": [
       "count    10000.000000\n",
       "mean        55.751411\n",
       "std         17.514976\n",
       "min         23.015919\n",
       "25%         41.837707\n",
       "50%         52.513310\n",
       "75%         65.680737\n",
       "max        127.651237\n",
       "Name: Square, dtype: float64"
      ]
     },
     "execution_count": 43,
     "metadata": {},
     "output_type": "execute_result"
    }
   ],
   "source": [
    "df_train['Square'].describe()"
   ]
  },
  {
   "cell_type": "markdown",
   "id": "d7a6d0d0",
   "metadata": {},
   "source": [
    "#### KitchenSquare"
   ]
  },
  {
   "cell_type": "code",
   "execution_count": 44,
   "id": "0eb9d327",
   "metadata": {},
   "outputs": [
    {
     "data": {
      "text/plain": [
       "count    10000.000000\n",
       "mean         6.273300\n",
       "std         28.560917\n",
       "min          0.000000\n",
       "25%          1.000000\n",
       "50%          6.000000\n",
       "75%          9.000000\n",
       "max       2014.000000\n",
       "Name: KitchenSquare, dtype: float64"
      ]
     },
     "execution_count": 44,
     "metadata": {},
     "output_type": "execute_result"
    }
   ],
   "source": [
    "df_train['KitchenSquare'].describe()"
   ]
  },
  {
   "cell_type": "code",
   "execution_count": 45,
   "id": "b5c54360",
   "metadata": {
    "scrolled": false
   },
   "outputs": [
    {
     "data": {
      "text/plain": [
       "1.0       2460\n",
       "8.0       1306\n",
       "5.0       1169\n",
       "10.0      1075\n",
       "6.0       1038\n",
       "9.0        843\n",
       "0.0        697\n",
       "7.0        609\n",
       "12.0       249\n",
       "11.0       233\n",
       "13.0        67\n",
       "14.0        51\n",
       "4.0         39\n",
       "15.0        31\n",
       "3.0         22\n",
       "16.0        16\n",
       "20.0        14\n",
       "17.0        12\n",
       "19.0        11\n",
       "18.0         6\n",
       "2.0          4\n",
       "22.0         3\n",
       "112.0        2\n",
       "51.0         2\n",
       "58.0         2\n",
       "37.0         2\n",
       "32.0         2\n",
       "41.0         2\n",
       "43.0         2\n",
       "30.0         2\n",
       "25.0         2\n",
       "39.0         1\n",
       "23.0         1\n",
       "123.0        1\n",
       "40.0         1\n",
       "48.0         1\n",
       "21.0         1\n",
       "72.0         1\n",
       "27.0         1\n",
       "63.0         1\n",
       "1970.0       1\n",
       "29.0         1\n",
       "66.0         1\n",
       "2014.0       1\n",
       "31.0         1\n",
       "78.0         1\n",
       "35.0         1\n",
       "42.0         1\n",
       "73.0         1\n",
       "60.0         1\n",
       "84.0         1\n",
       "26.0         1\n",
       "54.0         1\n",
       "36.0         1\n",
       "53.0         1\n",
       "96.0         1\n",
       "62.0         1\n",
       "75.0         1\n",
       "Name: KitchenSquare, dtype: int64"
      ]
     },
     "execution_count": 45,
     "metadata": {},
     "output_type": "execute_result"
    }
   ],
   "source": [
    "df_train['KitchenSquare'].value_counts()"
   ]
  },
  {
   "cell_type": "markdown",
   "id": "c87b67f9",
   "metadata": {},
   "source": [
    "Найдем квантиль для макс значения:"
   ]
  },
  {
   "cell_type": "code",
   "execution_count": 46,
   "id": "ea37c409",
   "metadata": {},
   "outputs": [
    {
     "data": {
      "text/plain": [
       "(13.0, 0.0)"
      ]
     },
     "execution_count": 46,
     "metadata": {},
     "output_type": "execute_result"
    }
   ],
   "source": [
    "df_train['KitchenSquare'].quantile(.975), df_train['KitchenSquare'].quantile(.025)"
   ]
  },
  {
   "cell_type": "markdown",
   "id": "cd860006",
   "metadata": {},
   "source": [
    "К выбросам можно принять значения меньше 5 (4, 3 не часто встречаются и для этого параметра очень маленькие), больше 13 и заменить их на медиану."
   ]
  },
  {
   "cell_type": "code",
   "execution_count": 47,
   "id": "d3e683fc",
   "metadata": {},
   "outputs": [],
   "source": [
    "df_train['KitchenSquare_outlier'] = 0"
   ]
  },
  {
   "cell_type": "code",
   "execution_count": 48,
   "id": "458157d4",
   "metadata": {},
   "outputs": [],
   "source": [
    "df_train.loc[((df_train['KitchenSquare'] < 5) | (df_train['KitchenSquare'] > 13)), 'KitchenSquare_outlier'] = 1"
   ]
  },
  {
   "cell_type": "code",
   "execution_count": 49,
   "id": "917eed9c",
   "metadata": {},
   "outputs": [
    {
     "data": {
      "text/plain": [
       "0    6589\n",
       "1    3411\n",
       "Name: KitchenSquare_outlier, dtype: int64"
      ]
     },
     "execution_count": 49,
     "metadata": {},
     "output_type": "execute_result"
    }
   ],
   "source": [
    "df_train['KitchenSquare_outlier'].value_counts()"
   ]
  },
  {
   "cell_type": "code",
   "execution_count": 50,
   "id": "75eab43a",
   "metadata": {},
   "outputs": [],
   "source": [
    "df_train.loc[((df_train['KitchenSquare'] < 5) | (df_train['KitchenSquare'] > 13)), 'KitchenSquare'] = df_train['KitchenSquare'].median()"
   ]
  },
  {
   "cell_type": "code",
   "execution_count": 51,
   "id": "92c8368b",
   "metadata": {},
   "outputs": [
    {
     "data": {
      "text/plain": [
       "6.0     4449\n",
       "8.0     1306\n",
       "5.0     1169\n",
       "10.0    1075\n",
       "9.0      843\n",
       "7.0      609\n",
       "12.0     249\n",
       "11.0     233\n",
       "13.0      67\n",
       "Name: KitchenSquare, dtype: int64"
      ]
     },
     "execution_count": 51,
     "metadata": {},
     "output_type": "execute_result"
    }
   ],
   "source": [
    "df_train['KitchenSquare'].value_counts()"
   ]
  },
  {
   "cell_type": "markdown",
   "id": "658194f4",
   "metadata": {},
   "source": [
    "#### LifeSquare"
   ]
  },
  {
   "cell_type": "code",
   "execution_count": 52,
   "id": "16162c1c",
   "metadata": {
    "scrolled": true
   },
   "outputs": [
    {
     "data": {
      "text/plain": [
       "count    7887.000000\n",
       "mean       37.199645\n",
       "std        86.241209\n",
       "min         0.370619\n",
       "25%        22.769832\n",
       "50%        32.781260\n",
       "75%        45.128803\n",
       "max      7480.592129\n",
       "Name: LifeSquare, dtype: float64"
      ]
     },
     "execution_count": 52,
     "metadata": {},
     "output_type": "execute_result"
    }
   ],
   "source": [
    "df_train['LifeSquare'].describe()"
   ]
  },
  {
   "cell_type": "code",
   "execution_count": 53,
   "id": "0733cd0d",
   "metadata": {},
   "outputs": [
    {
     "data": {
      "text/plain": [
       "20.151696    1\n",
       "28.241964    1\n",
       "23.884805    1\n",
       "51.826876    1\n",
       "47.972602    1\n",
       "            ..\n",
       "45.455722    1\n",
       "50.458505    1\n",
       "42.172028    1\n",
       "21.993610    1\n",
       "27.598712    1\n",
       "Name: LifeSquare, Length: 7887, dtype: int64"
      ]
     },
     "execution_count": 53,
     "metadata": {},
     "output_type": "execute_result"
    }
   ],
   "source": [
    "df_train['LifeSquare'].value_counts()"
   ]
  },
  {
   "cell_type": "code",
   "execution_count": 54,
   "id": "3640fb6d",
   "metadata": {
    "scrolled": false
   },
   "outputs": [
    {
     "data": {
      "image/png": "[encoded data removed]",
      "text/plain": [
       "<Figure size 1152x576 with 1 Axes>"
      ]
     },
     "metadata": {
      "needs_background": "light"
     },
     "output_type": "display_data"
    }
   ],
   "source": [
    "plt.figure(figsize = (16, 8))\n",
    "plt.axis([0, 8000, 0, 10000])\n",
    "\n",
    "#plt.plot(121)\n",
    "df_train['LifeSquare'].hist(density=False, bins=30)\n",
    "plt.ylabel('count')\n",
    "plt.xlabel('LifeSquare')\n",
    "\n",
    "\n",
    "#plt.subplot(122)\n",
    "#sns.kdeplot(df_train['Price'], shade=True, legend=False)\n",
    "#plt.xlabel('Price')\n",
    "\n",
    "plt.title('Distribution of LifeSquare')\n",
    "plt.show()"
   ]
  },
  {
   "cell_type": "markdown",
   "id": "cd19a09e",
   "metadata": {},
   "source": [
    "Посмотрим на квантиль мин и макс:"
   ]
  },
  {
   "cell_type": "code",
   "execution_count": 55,
   "id": "3c37b969",
   "metadata": {},
   "outputs": [
    {
     "data": {
      "text/plain": [
       "(80.74810407514713, 5.914129735023812)"
      ]
     },
     "execution_count": 55,
     "metadata": {},
     "output_type": "execute_result"
    }
   ],
   "source": [
    "df_train['LifeSquare'].quantile(.975), df_train['LifeSquare'].quantile(.025)"
   ]
  },
  {
   "cell_type": "markdown",
   "id": "e7cee6de",
   "metadata": {},
   "source": [
    "Можно возпользоваться квантилей, либо взять показатели увеличенные, так как жилая площадь м.б. больше 81 и 6."
   ]
  },
  {
   "cell_type": "markdown",
   "id": "bdecaa9a",
   "metadata": {},
   "source": [
    "(при значении 81 модель показывает приблизительно одинаковый покзатель R2 = 0.768-0.772, что и при 110, но где-то даже выше. Скорее всего, лучше было воспользоваться квантилью)"
   ]
  },
  {
   "cell_type": "code",
   "execution_count": 56,
   "id": "1cf1a9fa",
   "metadata": {},
   "outputs": [],
   "source": [
    "df_train['LifeSquare_outlier'] = 0"
   ]
  },
  {
   "cell_type": "code",
   "execution_count": 57,
   "id": "76e8cbca",
   "metadata": {},
   "outputs": [],
   "source": [
    "df_train.loc[((df_train['LifeSquare'] <= 12) | (df_train['LifeSquare'] > 110)), 'LifeSquare_outlier'] = 1"
   ]
  },
  {
   "cell_type": "code",
   "execution_count": 58,
   "id": "5a54f688",
   "metadata": {},
   "outputs": [],
   "source": [
    "df_train.loc[((df_train['LifeSquare'] <= 12) | (df_train['LifeSquare'] > 110)), 'LifeSquare'] = df_train['LifeSquare'].median()"
   ]
  },
  {
   "cell_type": "code",
   "execution_count": 59,
   "id": "f7593ee9",
   "metadata": {
    "scrolled": false
   },
   "outputs": [],
   "source": [
    "df_train.loc[((df_train['KitchenSquare'] + df_train['LifeSquare']) > df_train['Square']), 'LifeSquare_outlier'] = 1"
   ]
  },
  {
   "cell_type": "code",
   "execution_count": 60,
   "id": "a8674531",
   "metadata": {
    "scrolled": false
   },
   "outputs": [
    {
     "data": {
      "text/html": [
       "<div>\n",
       "<style scoped>\n",
       "    .dataframe tbody tr th:only-of-type {\n",
       "        vertical-align: middle;\n",
       "    }\n",
       "\n",
       "    .dataframe tbody tr th {\n",
       "        vertical-align: top;\n",
       "    }\n",
       "\n",
       "    .dataframe thead th {\n",
       "        text-align: right;\n",
       "    }\n",
       "</style>\n",
       "<table border=\"1\" class=\"dataframe\">\n",
       "  <thead>\n",
       "    <tr style=\"text-align: right;\">\n",
       "      <th></th>\n",
       "      <th>Id</th>\n",
       "      <th>DistrictId</th>\n",
       "      <th>Rooms</th>\n",
       "      <th>Square</th>\n",
       "      <th>LifeSquare</th>\n",
       "      <th>KitchenSquare</th>\n",
       "      <th>Floor</th>\n",
       "      <th>HouseFloor</th>\n",
       "      <th>HouseYear</th>\n",
       "      <th>Ecology_1</th>\n",
       "      <th>...</th>\n",
       "      <th>Social_3</th>\n",
       "      <th>Healthcare_1</th>\n",
       "      <th>Helthcare_2</th>\n",
       "      <th>Shops_1</th>\n",
       "      <th>Shops_2</th>\n",
       "      <th>Price</th>\n",
       "      <th>Rooms_outlier</th>\n",
       "      <th>Square_outlier</th>\n",
       "      <th>KitchenSquare_outlier</th>\n",
       "      <th>LifeSquare_outlier</th>\n",
       "    </tr>\n",
       "  </thead>\n",
       "  <tbody>\n",
       "    <tr>\n",
       "      <th>8</th>\n",
       "      <td>9951</td>\n",
       "      <td>1</td>\n",
       "      <td>1.0</td>\n",
       "      <td>46.887892</td>\n",
       "      <td>44.628132</td>\n",
       "      <td>6.0</td>\n",
       "      <td>12</td>\n",
       "      <td>20.0</td>\n",
       "      <td>1977</td>\n",
       "      <td>0.007122</td>\n",
       "      <td>...</td>\n",
       "      <td>0</td>\n",
       "      <td>NaN</td>\n",
       "      <td>0</td>\n",
       "      <td>1</td>\n",
       "      <td>B</td>\n",
       "      <td>160400.401732</td>\n",
       "      <td>0</td>\n",
       "      <td>0</td>\n",
       "      <td>1</td>\n",
       "      <td>1</td>\n",
       "    </tr>\n",
       "    <tr>\n",
       "      <th>9</th>\n",
       "      <td>8094</td>\n",
       "      <td>6</td>\n",
       "      <td>3.0</td>\n",
       "      <td>79.867477</td>\n",
       "      <td>75.085125</td>\n",
       "      <td>6.0</td>\n",
       "      <td>3</td>\n",
       "      <td>17.0</td>\n",
       "      <td>2014</td>\n",
       "      <td>0.243205</td>\n",
       "      <td>...</td>\n",
       "      <td>0</td>\n",
       "      <td>540.0</td>\n",
       "      <td>0</td>\n",
       "      <td>0</td>\n",
       "      <td>B</td>\n",
       "      <td>194756.023945</td>\n",
       "      <td>0</td>\n",
       "      <td>0</td>\n",
       "      <td>1</td>\n",
       "      <td>1</td>\n",
       "    </tr>\n",
       "    <tr>\n",
       "      <th>19</th>\n",
       "      <td>367</td>\n",
       "      <td>45</td>\n",
       "      <td>1.0</td>\n",
       "      <td>42.367289</td>\n",
       "      <td>40.012529</td>\n",
       "      <td>6.0</td>\n",
       "      <td>16</td>\n",
       "      <td>14.0</td>\n",
       "      <td>2015</td>\n",
       "      <td>0.195781</td>\n",
       "      <td>...</td>\n",
       "      <td>6</td>\n",
       "      <td>NaN</td>\n",
       "      <td>3</td>\n",
       "      <td>2</td>\n",
       "      <td>B</td>\n",
       "      <td>250466.980777</td>\n",
       "      <td>0</td>\n",
       "      <td>0</td>\n",
       "      <td>1</td>\n",
       "      <td>1</td>\n",
       "    </tr>\n",
       "    <tr>\n",
       "      <th>33</th>\n",
       "      <td>847</td>\n",
       "      <td>74</td>\n",
       "      <td>2.0</td>\n",
       "      <td>73.314975</td>\n",
       "      <td>74.131261</td>\n",
       "      <td>6.0</td>\n",
       "      <td>7</td>\n",
       "      <td>6.0</td>\n",
       "      <td>1977</td>\n",
       "      <td>0.075779</td>\n",
       "      <td>...</td>\n",
       "      <td>3</td>\n",
       "      <td>NaN</td>\n",
       "      <td>0</td>\n",
       "      <td>2</td>\n",
       "      <td>B</td>\n",
       "      <td>254005.381863</td>\n",
       "      <td>0</td>\n",
       "      <td>0</td>\n",
       "      <td>1</td>\n",
       "      <td>1</td>\n",
       "    </tr>\n",
       "    <tr>\n",
       "      <th>34</th>\n",
       "      <td>7757</td>\n",
       "      <td>27</td>\n",
       "      <td>2.0</td>\n",
       "      <td>58.783661</td>\n",
       "      <td>55.441256</td>\n",
       "      <td>11.0</td>\n",
       "      <td>13</td>\n",
       "      <td>12.0</td>\n",
       "      <td>1977</td>\n",
       "      <td>0.011654</td>\n",
       "      <td>...</td>\n",
       "      <td>0</td>\n",
       "      <td>NaN</td>\n",
       "      <td>0</td>\n",
       "      <td>0</td>\n",
       "      <td>B</td>\n",
       "      <td>138396.984612</td>\n",
       "      <td>0</td>\n",
       "      <td>0</td>\n",
       "      <td>0</td>\n",
       "      <td>1</td>\n",
       "    </tr>\n",
       "    <tr>\n",
       "      <th>...</th>\n",
       "      <td>...</td>\n",
       "      <td>...</td>\n",
       "      <td>...</td>\n",
       "      <td>...</td>\n",
       "      <td>...</td>\n",
       "      <td>...</td>\n",
       "      <td>...</td>\n",
       "      <td>...</td>\n",
       "      <td>...</td>\n",
       "      <td>...</td>\n",
       "      <td>...</td>\n",
       "      <td>...</td>\n",
       "      <td>...</td>\n",
       "      <td>...</td>\n",
       "      <td>...</td>\n",
       "      <td>...</td>\n",
       "      <td>...</td>\n",
       "      <td>...</td>\n",
       "      <td>...</td>\n",
       "      <td>...</td>\n",
       "      <td>...</td>\n",
       "    </tr>\n",
       "    <tr>\n",
       "      <th>9965</th>\n",
       "      <td>6441</td>\n",
       "      <td>52</td>\n",
       "      <td>3.0</td>\n",
       "      <td>85.796885</td>\n",
       "      <td>85.305246</td>\n",
       "      <td>6.0</td>\n",
       "      <td>15</td>\n",
       "      <td>17.0</td>\n",
       "      <td>1977</td>\n",
       "      <td>0.371149</td>\n",
       "      <td>...</td>\n",
       "      <td>1</td>\n",
       "      <td>750.0</td>\n",
       "      <td>2</td>\n",
       "      <td>5</td>\n",
       "      <td>B</td>\n",
       "      <td>204462.983720</td>\n",
       "      <td>0</td>\n",
       "      <td>0</td>\n",
       "      <td>1</td>\n",
       "      <td>1</td>\n",
       "    </tr>\n",
       "    <tr>\n",
       "      <th>9979</th>\n",
       "      <td>2201</td>\n",
       "      <td>6</td>\n",
       "      <td>1.0</td>\n",
       "      <td>40.043234</td>\n",
       "      <td>41.984322</td>\n",
       "      <td>6.0</td>\n",
       "      <td>3</td>\n",
       "      <td>17.0</td>\n",
       "      <td>2014</td>\n",
       "      <td>0.243205</td>\n",
       "      <td>...</td>\n",
       "      <td>0</td>\n",
       "      <td>540.0</td>\n",
       "      <td>0</td>\n",
       "      <td>0</td>\n",
       "      <td>B</td>\n",
       "      <td>134888.083598</td>\n",
       "      <td>0</td>\n",
       "      <td>0</td>\n",
       "      <td>1</td>\n",
       "      <td>1</td>\n",
       "    </tr>\n",
       "    <tr>\n",
       "      <th>9982</th>\n",
       "      <td>10268</td>\n",
       "      <td>27</td>\n",
       "      <td>1.0</td>\n",
       "      <td>36.112393</td>\n",
       "      <td>32.781260</td>\n",
       "      <td>6.0</td>\n",
       "      <td>9</td>\n",
       "      <td>16.0</td>\n",
       "      <td>1977</td>\n",
       "      <td>0.211401</td>\n",
       "      <td>...</td>\n",
       "      <td>0</td>\n",
       "      <td>NaN</td>\n",
       "      <td>0</td>\n",
       "      <td>1</td>\n",
       "      <td>B</td>\n",
       "      <td>94881.691800</td>\n",
       "      <td>0</td>\n",
       "      <td>0</td>\n",
       "      <td>1</td>\n",
       "      <td>1</td>\n",
       "    </tr>\n",
       "    <tr>\n",
       "      <th>9987</th>\n",
       "      <td>11665</td>\n",
       "      <td>1</td>\n",
       "      <td>2.0</td>\n",
       "      <td>62.690057</td>\n",
       "      <td>64.602939</td>\n",
       "      <td>10.0</td>\n",
       "      <td>19</td>\n",
       "      <td>22.0</td>\n",
       "      <td>2018</td>\n",
       "      <td>0.007122</td>\n",
       "      <td>...</td>\n",
       "      <td>0</td>\n",
       "      <td>NaN</td>\n",
       "      <td>0</td>\n",
       "      <td>1</td>\n",
       "      <td>B</td>\n",
       "      <td>203908.192698</td>\n",
       "      <td>0</td>\n",
       "      <td>0</td>\n",
       "      <td>0</td>\n",
       "      <td>1</td>\n",
       "    </tr>\n",
       "    <tr>\n",
       "      <th>9993</th>\n",
       "      <td>9289</td>\n",
       "      <td>1</td>\n",
       "      <td>3.0</td>\n",
       "      <td>84.486078</td>\n",
       "      <td>88.931509</td>\n",
       "      <td>6.0</td>\n",
       "      <td>4</td>\n",
       "      <td>22.0</td>\n",
       "      <td>2016</td>\n",
       "      <td>0.007122</td>\n",
       "      <td>...</td>\n",
       "      <td>0</td>\n",
       "      <td>NaN</td>\n",
       "      <td>0</td>\n",
       "      <td>1</td>\n",
       "      <td>B</td>\n",
       "      <td>264213.558631</td>\n",
       "      <td>0</td>\n",
       "      <td>0</td>\n",
       "      <td>1</td>\n",
       "      <td>1</td>\n",
       "    </tr>\n",
       "  </tbody>\n",
       "</table>\n",
       "<p>1197 rows × 24 columns</p>\n",
       "</div>"
      ],
      "text/plain": [
       "         Id DistrictId  Rooms     Square  LifeSquare  KitchenSquare  Floor  \\\n",
       "8      9951          1    1.0  46.887892   44.628132            6.0     12   \n",
       "9      8094          6    3.0  79.867477   75.085125            6.0      3   \n",
       "19      367         45    1.0  42.367289   40.012529            6.0     16   \n",
       "33      847         74    2.0  73.314975   74.131261            6.0      7   \n",
       "34     7757         27    2.0  58.783661   55.441256           11.0     13   \n",
       "...     ...        ...    ...        ...         ...            ...    ...   \n",
       "9965   6441         52    3.0  85.796885   85.305246            6.0     15   \n",
       "9979   2201          6    1.0  40.043234   41.984322            6.0      3   \n",
       "9982  10268         27    1.0  36.112393   32.781260            6.0      9   \n",
       "9987  11665          1    2.0  62.690057   64.602939           10.0     19   \n",
       "9993   9289          1    3.0  84.486078   88.931509            6.0      4   \n",
       "\n",
       "      HouseFloor  HouseYear  Ecology_1  ... Social_3 Healthcare_1  \\\n",
       "8           20.0       1977   0.007122  ...        0          NaN   \n",
       "9           17.0       2014   0.243205  ...        0        540.0   \n",
       "19          14.0       2015   0.195781  ...        6          NaN   \n",
       "33           6.0       1977   0.075779  ...        3          NaN   \n",
       "34          12.0       1977   0.011654  ...        0          NaN   \n",
       "...          ...        ...        ...  ...      ...          ...   \n",
       "9965        17.0       1977   0.371149  ...        1        750.0   \n",
       "9979        17.0       2014   0.243205  ...        0        540.0   \n",
       "9982        16.0       1977   0.211401  ...        0          NaN   \n",
       "9987        22.0       2018   0.007122  ...        0          NaN   \n",
       "9993        22.0       2016   0.007122  ...        0          NaN   \n",
       "\n",
       "      Helthcare_2  Shops_1  Shops_2          Price  Rooms_outlier  \\\n",
       "8               0        1        B  160400.401732              0   \n",
       "9               0        0        B  194756.023945              0   \n",
       "19              3        2        B  250466.980777              0   \n",
       "33              0        2        B  254005.381863              0   \n",
       "34              0        0        B  138396.984612              0   \n",
       "...           ...      ...      ...            ...            ...   \n",
       "9965            2        5        B  204462.983720              0   \n",
       "9979            0        0        B  134888.083598              0   \n",
       "9982            0        1        B   94881.691800              0   \n",
       "9987            0        1        B  203908.192698              0   \n",
       "9993            0        1        B  264213.558631              0   \n",
       "\n",
       "      Square_outlier KitchenSquare_outlier  LifeSquare_outlier  \n",
       "8                  0                     1                   1  \n",
       "9                  0                     1                   1  \n",
       "19                 0                     1                   1  \n",
       "33                 0                     1                   1  \n",
       "34                 0                     0                   1  \n",
       "...              ...                   ...                 ...  \n",
       "9965               0                     1                   1  \n",
       "9979               0                     1                   1  \n",
       "9982               0                     1                   1  \n",
       "9987               0                     0                   1  \n",
       "9993               0                     1                   1  \n",
       "\n",
       "[1197 rows x 24 columns]"
      ]
     },
     "execution_count": 60,
     "metadata": {},
     "output_type": "execute_result"
    }
   ],
   "source": [
    "df_train.loc[((df_train['KitchenSquare'] + df_train['LifeSquare']) > df_train['Square'])]"
   ]
  },
  {
   "cell_type": "markdown",
   "id": "cee77ed7",
   "metadata": {},
   "source": [
    "Так же можно увидеть, что если сложить показатели KitchenSquare и LifeSquare, то они м.б. больше Square, что явно указывает на выброс.\n",
    "Обработаем такие значения и присвоим таким значениям 1.6 от общей площади:"
   ]
  },
  {
   "cell_type": "code",
   "execution_count": 61,
   "id": "5948e520",
   "metadata": {},
   "outputs": [],
   "source": [
    "df_train.loc[((df_train['KitchenSquare'] + df_train['LifeSquare']) > df_train['Square']), 'LifeSquare_outlier'] = 1"
   ]
  },
  {
   "cell_type": "code",
   "execution_count": 62,
   "id": "c323957b",
   "metadata": {},
   "outputs": [],
   "source": [
    "condition_LS = ((df_train['KitchenSquare'] + df_train['LifeSquare']) > df_train['Square'])"
   ]
  },
  {
   "cell_type": "code",
   "execution_count": 63,
   "id": "7c9c6123",
   "metadata": {},
   "outputs": [],
   "source": [
    "df_train.loc[condition_LS, 'LifeSquare'] = df_train.loc[condition_LS, 'Square'] / 1.6"
   ]
  },
  {
   "cell_type": "markdown",
   "id": "51120d9b",
   "metadata": {},
   "source": [
    "Наблюдаются также выбросы, где KitchenSquare + LifeSquare + 5 больше общей площади. Обработаем их:"
   ]
  },
  {
   "cell_type": "code",
   "execution_count": 64,
   "id": "1c935ce4",
   "metadata": {},
   "outputs": [],
   "source": [
    "df_train.loc[(((df_train['KitchenSquare'] + df_train['LifeSquare']) + 5) > df_train['Square']), 'LifeSquare_outlier'] = 1"
   ]
  },
  {
   "cell_type": "code",
   "execution_count": 65,
   "id": "424f76ff",
   "metadata": {},
   "outputs": [],
   "source": [
    "condition_LS_2 = ((df_train['KitchenSquare'] + df_train['LifeSquare'] + 5) > df_train['Square'])"
   ]
  },
  {
   "cell_type": "code",
   "execution_count": 66,
   "id": "59911b0e",
   "metadata": {},
   "outputs": [],
   "source": [
    "df_train.loc[condition_LS_2, 'LifeSquare'] = df_train.loc[condition_LS_2, 'Square'] - df_train.loc[condition_LS_2, 'KitchenSquare'] - 5"
   ]
  },
  {
   "cell_type": "code",
   "execution_count": 67,
   "id": "1ead520d",
   "metadata": {},
   "outputs": [
    {
     "data": {
      "text/html": [
       "<div>\n",
       "<style scoped>\n",
       "    .dataframe tbody tr th:only-of-type {\n",
       "        vertical-align: middle;\n",
       "    }\n",
       "\n",
       "    .dataframe tbody tr th {\n",
       "        vertical-align: top;\n",
       "    }\n",
       "\n",
       "    .dataframe thead th {\n",
       "        text-align: right;\n",
       "    }\n",
       "</style>\n",
       "<table border=\"1\" class=\"dataframe\">\n",
       "  <thead>\n",
       "    <tr style=\"text-align: right;\">\n",
       "      <th></th>\n",
       "      <th>Id</th>\n",
       "      <th>DistrictId</th>\n",
       "      <th>Rooms</th>\n",
       "      <th>Square</th>\n",
       "      <th>LifeSquare</th>\n",
       "      <th>KitchenSquare</th>\n",
       "      <th>Floor</th>\n",
       "      <th>HouseFloor</th>\n",
       "      <th>HouseYear</th>\n",
       "      <th>Ecology_1</th>\n",
       "      <th>...</th>\n",
       "      <th>Social_3</th>\n",
       "      <th>Healthcare_1</th>\n",
       "      <th>Helthcare_2</th>\n",
       "      <th>Shops_1</th>\n",
       "      <th>Shops_2</th>\n",
       "      <th>Price</th>\n",
       "      <th>Rooms_outlier</th>\n",
       "      <th>Square_outlier</th>\n",
       "      <th>KitchenSquare_outlier</th>\n",
       "      <th>LifeSquare_outlier</th>\n",
       "    </tr>\n",
       "  </thead>\n",
       "  <tbody>\n",
       "  </tbody>\n",
       "</table>\n",
       "<p>0 rows × 24 columns</p>\n",
       "</div>"
      ],
      "text/plain": [
       "Empty DataFrame\n",
       "Columns: [Id, DistrictId, Rooms, Square, LifeSquare, KitchenSquare, Floor, HouseFloor, HouseYear, Ecology_1, Ecology_2, Ecology_3, Social_1, Social_2, Social_3, Healthcare_1, Helthcare_2, Shops_1, Shops_2, Price, Rooms_outlier, Square_outlier, KitchenSquare_outlier, LifeSquare_outlier]\n",
       "Index: []\n",
       "\n",
       "[0 rows x 24 columns]"
      ]
     },
     "execution_count": 67,
     "metadata": {},
     "output_type": "execute_result"
    }
   ],
   "source": [
    "df_train.loc[((df_train['KitchenSquare'] + df_train['LifeSquare']) > df_train['Square'])]"
   ]
  },
  {
   "cell_type": "code",
   "execution_count": 68,
   "id": "dea3d647",
   "metadata": {},
   "outputs": [
    {
     "data": {
      "text/html": [
       "<div>\n",
       "<style scoped>\n",
       "    .dataframe tbody tr th:only-of-type {\n",
       "        vertical-align: middle;\n",
       "    }\n",
       "\n",
       "    .dataframe tbody tr th {\n",
       "        vertical-align: top;\n",
       "    }\n",
       "\n",
       "    .dataframe thead th {\n",
       "        text-align: right;\n",
       "    }\n",
       "</style>\n",
       "<table border=\"1\" class=\"dataframe\">\n",
       "  <thead>\n",
       "    <tr style=\"text-align: right;\">\n",
       "      <th></th>\n",
       "      <th>Id</th>\n",
       "      <th>DistrictId</th>\n",
       "      <th>Rooms</th>\n",
       "      <th>Square</th>\n",
       "      <th>LifeSquare</th>\n",
       "      <th>KitchenSquare</th>\n",
       "      <th>Floor</th>\n",
       "      <th>HouseFloor</th>\n",
       "      <th>HouseYear</th>\n",
       "      <th>Ecology_1</th>\n",
       "      <th>...</th>\n",
       "      <th>Social_3</th>\n",
       "      <th>Healthcare_1</th>\n",
       "      <th>Helthcare_2</th>\n",
       "      <th>Shops_1</th>\n",
       "      <th>Shops_2</th>\n",
       "      <th>Price</th>\n",
       "      <th>Rooms_outlier</th>\n",
       "      <th>Square_outlier</th>\n",
       "      <th>KitchenSquare_outlier</th>\n",
       "      <th>LifeSquare_outlier</th>\n",
       "    </tr>\n",
       "  </thead>\n",
       "  <tbody>\n",
       "  </tbody>\n",
       "</table>\n",
       "<p>0 rows × 24 columns</p>\n",
       "</div>"
      ],
      "text/plain": [
       "Empty DataFrame\n",
       "Columns: [Id, DistrictId, Rooms, Square, LifeSquare, KitchenSquare, Floor, HouseFloor, HouseYear, Ecology_1, Ecology_2, Ecology_3, Social_1, Social_2, Social_3, Healthcare_1, Helthcare_2, Shops_1, Shops_2, Price, Rooms_outlier, Square_outlier, KitchenSquare_outlier, LifeSquare_outlier]\n",
       "Index: []\n",
       "\n",
       "[0 rows x 24 columns]"
      ]
     },
     "execution_count": 68,
     "metadata": {},
     "output_type": "execute_result"
    }
   ],
   "source": [
    "df_train.loc[(((df_train['KitchenSquare'] + df_train['LifeSquare']) + 5) > df_train['Square'])]"
   ]
  },
  {
   "cell_type": "code",
   "execution_count": 69,
   "id": "04a4bd06",
   "metadata": {
    "scrolled": false
   },
   "outputs": [
    {
     "data": {
      "text/plain": [
       "0    8351\n",
       "1    1649\n",
       "Name: LifeSquare_outlier, dtype: int64"
      ]
     },
     "execution_count": 69,
     "metadata": {},
     "output_type": "execute_result"
    }
   ],
   "source": [
    "df_train['LifeSquare_outlier'].value_counts()"
   ]
  },
  {
   "cell_type": "code",
   "execution_count": 70,
   "id": "fbebf056",
   "metadata": {
    "scrolled": true
   },
   "outputs": [
    {
     "data": {
      "image/png": "[encoded data removed]",
      "text/plain": [
       "<Figure size 1152x576 with 1 Axes>"
      ]
     },
     "metadata": {
      "needs_background": "light"
     },
     "output_type": "display_data"
    }
   ],
   "source": [
    "plt.figure(figsize = (16, 8))\n",
    "plt.axis([0, 250, 0, 4100])\n",
    "\n",
    "#plt.plot(121)\n",
    "df_train['LifeSquare'].hist(density=False, bins=30)\n",
    "plt.ylabel('count')\n",
    "plt.xlabel('LifeSquare')\n",
    "\n",
    "\n",
    "#plt.subplot(122)\n",
    "#sns.kdeplot(df_train['Price'], shade=True, legend=False)\n",
    "#plt.xlabel('Price')\n",
    "\n",
    "plt.title('Distribution of LifeSquare')\n",
    "plt.show()"
   ]
  },
  {
   "cell_type": "code",
   "execution_count": 71,
   "id": "a5aa875c",
   "metadata": {},
   "outputs": [
    {
     "data": {
      "text/plain": [
       "count    7887.000000\n",
       "mean       33.090030\n",
       "std        11.578485\n",
       "min        12.015919\n",
       "25%        23.059839\n",
       "50%        31.806552\n",
       "75%        40.676636\n",
       "max       103.637322\n",
       "Name: LifeSquare, dtype: float64"
      ]
     },
     "execution_count": 71,
     "metadata": {},
     "output_type": "execute_result"
    }
   ],
   "source": [
    "df_train['LifeSquare'].describe()"
   ]
  },
  {
   "cell_type": "markdown",
   "id": "63e31c70",
   "metadata": {},
   "source": [
    "#### Floor и HouseFloor"
   ]
  },
  {
   "cell_type": "code",
   "execution_count": 72,
   "id": "e5a73ac7",
   "metadata": {},
   "outputs": [
    {
     "data": {
      "text/plain": [
       "count    10000.000000\n",
       "mean         8.526700\n",
       "std          5.241148\n",
       "min          1.000000\n",
       "25%          4.000000\n",
       "50%          7.000000\n",
       "75%         12.000000\n",
       "max         42.000000\n",
       "Name: Floor, dtype: float64"
      ]
     },
     "execution_count": 72,
     "metadata": {},
     "output_type": "execute_result"
    }
   ],
   "source": [
    "df_train['Floor'].describe()"
   ]
  },
  {
   "cell_type": "code",
   "execution_count": 73,
   "id": "f0850063",
   "metadata": {},
   "outputs": [
    {
     "data": {
      "text/plain": [
       "4     949\n",
       "5     876\n",
       "3     872\n",
       "6     802\n",
       "7     759\n",
       "8     643\n",
       "9     604\n",
       "2     588\n",
       "10    553\n",
       "11    457\n",
       "12    438\n",
       "13    398\n",
       "14    362\n",
       "16    290\n",
       "15    287\n",
       "17    256\n",
       "1     235\n",
       "18    185\n",
       "19    121\n",
       "20     68\n",
       "21     59\n",
       "22     54\n",
       "24     53\n",
       "25     34\n",
       "23     25\n",
       "26     18\n",
       "27      5\n",
       "28      3\n",
       "32      2\n",
       "42      1\n",
       "37      1\n",
       "33      1\n",
       "31      1\n",
       "Name: Floor, dtype: int64"
      ]
     },
     "execution_count": 73,
     "metadata": {},
     "output_type": "execute_result"
    }
   ],
   "source": [
    "df_train['Floor'].value_counts()"
   ]
  },
  {
   "cell_type": "code",
   "execution_count": 74,
   "id": "a8613dbd",
   "metadata": {
    "scrolled": true
   },
   "outputs": [
    {
     "data": {
      "image/png": "[encoded data removed]",
      "text/plain": [
       "<Figure size 1152x576 with 1 Axes>"
      ]
     },
     "metadata": {
      "needs_background": "light"
     },
     "output_type": "display_data"
    }
   ],
   "source": [
    "plt.figure(figsize = (16, 8))\n",
    "plt.axis([0, 42, 0, 2000])\n",
    "\n",
    "df_train['Floor'].hist(density=False, bins=30)\n",
    "plt.ylabel('count')\n",
    "plt.xlabel('Floor')\n",
    "\n",
    "plt.title('Distribution of Floor')\n",
    "plt.show()"
   ]
  },
  {
   "cell_type": "markdown",
   "id": "4ef35fb4",
   "metadata": {},
   "source": [
    "Явных выбросов не наблюдается."
   ]
  },
  {
   "cell_type": "code",
   "execution_count": 75,
   "id": "ab2c6819",
   "metadata": {},
   "outputs": [
    {
     "data": {
      "text/plain": [
       "count    10000.000000\n",
       "mean        12.609400\n",
       "std          6.775974\n",
       "min          0.000000\n",
       "25%          9.000000\n",
       "50%         13.000000\n",
       "75%         17.000000\n",
       "max        117.000000\n",
       "Name: HouseFloor, dtype: float64"
      ]
     },
     "execution_count": 75,
     "metadata": {},
     "output_type": "execute_result"
    }
   ],
   "source": [
    "df_train['HouseFloor'].describe()"
   ]
  },
  {
   "cell_type": "code",
   "execution_count": 76,
   "id": "09094a97",
   "metadata": {
    "scrolled": true
   },
   "outputs": [
    {
     "data": {
      "text/plain": [
       "17.0     2331\n",
       "9.0      1389\n",
       "12.0     1074\n",
       "5.0      1031\n",
       "14.0      625\n",
       "16.0      576\n",
       "1.0       497\n",
       "25.0      374\n",
       "22.0      343\n",
       "0.0       269\n",
       "24.0      176\n",
       "8.0       141\n",
       "10.0      135\n",
       "4.0       134\n",
       "3.0       127\n",
       "15.0      123\n",
       "19.0      108\n",
       "20.0      105\n",
       "18.0       89\n",
       "7.0        59\n",
       "6.0        58\n",
       "2.0        48\n",
       "23.0       40\n",
       "21.0       33\n",
       "11.0       28\n",
       "13.0       27\n",
       "30.0       21\n",
       "40.0        7\n",
       "27.0        6\n",
       "37.0        4\n",
       "32.0        4\n",
       "28.0        3\n",
       "39.0        2\n",
       "48.0        2\n",
       "99.0        2\n",
       "29.0        1\n",
       "44.0        1\n",
       "47.0        1\n",
       "36.0        1\n",
       "31.0        1\n",
       "38.0        1\n",
       "117.0       1\n",
       "45.0        1\n",
       "26.0        1\n",
       "Name: HouseFloor, dtype: int64"
      ]
     },
     "execution_count": 76,
     "metadata": {},
     "output_type": "execute_result"
    }
   ],
   "source": [
    "df_train['HouseFloor'].value_counts()"
   ]
  },
  {
   "cell_type": "code",
   "execution_count": 77,
   "id": "6cd8654c",
   "metadata": {
    "scrolled": true
   },
   "outputs": [
    {
     "data": {
      "image/png": "[encoded data removed]",
      "text/plain": [
       "<Figure size 1152x576 with 1 Axes>"
      ]
     },
     "metadata": {
      "needs_background": "light"
     },
     "output_type": "display_data"
    }
   ],
   "source": [
    "plt.figure(figsize = (16, 8))\n",
    "plt.axis([0, 117, 0, 2500])\n",
    "\n",
    "df_train['HouseFloor'].hist(density=False, bins=30)\n",
    "plt.ylabel('count')\n",
    "plt.xlabel('HouseFloor')\n",
    "\n",
    "\n",
    "plt.title('Distribution of HouseFloor')\n",
    "plt.show()"
   ]
  },
  {
   "cell_type": "markdown",
   "id": "9722e375",
   "metadata": {},
   "source": [
    "Значения, равные 0 и больше 96, являются выбросами. Заполним их медианой."
   ]
  },
  {
   "cell_type": "code",
   "execution_count": 78,
   "id": "84e4a8ba",
   "metadata": {},
   "outputs": [],
   "source": [
    "df_train['HouseFloor_outlier'] = 0"
   ]
  },
  {
   "cell_type": "code",
   "execution_count": 79,
   "id": "18ebb888",
   "metadata": {},
   "outputs": [],
   "source": [
    "df_train.loc[((df_train['HouseFloor'] == 0) | (df_train['HouseFloor'] > 96)), 'HouseFloor_outlier'] = 1"
   ]
  },
  {
   "cell_type": "code",
   "execution_count": 80,
   "id": "503c31d3",
   "metadata": {},
   "outputs": [
    {
     "data": {
      "text/plain": [
       "0    9728\n",
       "1     272\n",
       "Name: HouseFloor_outlier, dtype: int64"
      ]
     },
     "execution_count": 80,
     "metadata": {},
     "output_type": "execute_result"
    }
   ],
   "source": [
    "df_train['HouseFloor_outlier'].value_counts()"
   ]
  },
  {
   "cell_type": "code",
   "execution_count": 81,
   "id": "60c6753a",
   "metadata": {},
   "outputs": [],
   "source": [
    "df_train.loc[((df_train['HouseFloor'] == 0) | (df_train['HouseFloor'] > 95)), 'HouseFloor'] = df_train['HouseFloor'].median()"
   ]
  },
  {
   "cell_type": "code",
   "execution_count": 82,
   "id": "fdbb98b5",
   "metadata": {
    "scrolled": true
   },
   "outputs": [
    {
     "data": {
      "image/png": "[encoded data removed]",
      "text/plain": [
       "<Figure size 1152x576 with 1 Axes>"
      ]
     },
     "metadata": {
      "needs_background": "light"
     },
     "output_type": "display_data"
    }
   ],
   "source": [
    "plt.figure(figsize = (16, 8))\n",
    "plt.axis([0, 117, 0, 2000])\n",
    "\n",
    "df_train['HouseFloor'].hist(density=False, bins=30)\n",
    "plt.ylabel('count')\n",
    "plt.xlabel('HouseFloor')\n",
    "\n",
    "plt.title('Distribution of HouseFloor')\n",
    "plt.show()"
   ]
  },
  {
   "cell_type": "markdown",
   "id": "6f5855e7",
   "metadata": {},
   "source": [
    "Также выброасми будут значения, при которых Floor > HouseFloor. Заполним эти значения:"
   ]
  },
  {
   "cell_type": "code",
   "execution_count": 83,
   "id": "dd93fca5",
   "metadata": {},
   "outputs": [],
   "source": [
    "df_train.loc[(df_train['Floor'] > df_train['HouseFloor']), 'HouseFloor_outlier'] = 1"
   ]
  },
  {
   "cell_type": "code",
   "execution_count": 84,
   "id": "f5ae2c0f",
   "metadata": {},
   "outputs": [
    {
     "data": {
      "text/plain": [
       "1610"
      ]
     },
     "execution_count": 84,
     "metadata": {},
     "output_type": "execute_result"
    }
   ],
   "source": [
    "(df_train['Floor'] > df_train['HouseFloor']).sum()"
   ]
  },
  {
   "cell_type": "code",
   "execution_count": 85,
   "id": "3d6e80aa",
   "metadata": {},
   "outputs": [],
   "source": [
    "floor_val = df_train.loc[df_train['Floor'] > df_train['HouseFloor']].index"
   ]
  },
  {
   "cell_type": "code",
   "execution_count": 86,
   "id": "1ba6d944",
   "metadata": {
    "scrolled": true
   },
   "outputs": [
    {
     "data": {
      "text/plain": [
       "Int64Index([  17,   19,   21,   25,   26,   33,   34,   37,   39,   44,\n",
       "            ...\n",
       "            9913, 9921, 9930, 9931, 9938, 9953, 9960, 9968, 9970, 9975],\n",
       "           dtype='int64', length=1610)"
      ]
     },
     "execution_count": 86,
     "metadata": {},
     "output_type": "execute_result"
    }
   ],
   "source": [
    "floor_val"
   ]
  },
  {
   "cell_type": "code",
   "execution_count": 87,
   "id": "43b60ed0",
   "metadata": {},
   "outputs": [],
   "source": [
    "df_train.loc[floor_val, 'Floor'] = df_train.loc[floor_val, 'HouseFloor'].apply(lambda x: random.randint(1, x))"
   ]
  },
  {
   "cell_type": "code",
   "execution_count": 88,
   "id": "f81a9777",
   "metadata": {},
   "outputs": [
    {
     "data": {
      "text/plain": [
       "0"
      ]
     },
     "execution_count": 88,
     "metadata": {},
     "output_type": "execute_result"
    }
   ],
   "source": [
    "(df_train['Floor'] > df_train['HouseFloor']).sum()"
   ]
  },
  {
   "cell_type": "markdown",
   "id": "7d89088a",
   "metadata": {},
   "source": [
    "#### HouseYear"
   ]
  },
  {
   "cell_type": "code",
   "execution_count": 89,
   "id": "388c0861",
   "metadata": {
    "scrolled": false
   },
   "outputs": [
    {
     "data": {
      "text/plain": [
       "9163    20052011\n",
       "8828        4968\n",
       "7721        2020\n",
       "9122        2020\n",
       "7955        2020\n",
       "          ...   \n",
       "7610        1916\n",
       "6250        1914\n",
       "2066        1912\n",
       "2795        1912\n",
       "6794        1910\n",
       "Name: HouseYear, Length: 10000, dtype: int64"
      ]
     },
     "execution_count": 89,
     "metadata": {},
     "output_type": "execute_result"
    }
   ],
   "source": [
    "df_train['HouseYear'].sort_values(ascending=False)"
   ]
  },
  {
   "cell_type": "code",
   "execution_count": 90,
   "id": "ef1a672e",
   "metadata": {},
   "outputs": [],
   "source": [
    "df_train['HouseYear_outlier'] = 0"
   ]
  },
  {
   "cell_type": "code",
   "execution_count": 91,
   "id": "b37db7f5",
   "metadata": {},
   "outputs": [],
   "source": [
    "df_train.loc[df_train['HouseYear'] > 2020, 'HouseYear_outlier'] = 1"
   ]
  },
  {
   "cell_type": "code",
   "execution_count": 92,
   "id": "4e2793bf",
   "metadata": {},
   "outputs": [],
   "source": [
    "df_train.loc[df_train['HouseYear'] > 2020, 'HouseYear'] = 2020"
   ]
  },
  {
   "cell_type": "code",
   "execution_count": 93,
   "id": "b68f478a",
   "metadata": {},
   "outputs": [
    {
     "data": {
      "text/plain": [
       "0    9998\n",
       "1       2\n",
       "Name: HouseYear_outlier, dtype: int64"
      ]
     },
     "execution_count": 93,
     "metadata": {},
     "output_type": "execute_result"
    }
   ],
   "source": [
    "df_train['HouseYear_outlier'].value_counts()"
   ]
  },
  {
   "cell_type": "markdown",
   "id": "95407419",
   "metadata": {},
   "source": [
    "Либо воспользуемся datetime:"
   ]
  },
  {
   "cell_type": "code",
   "execution_count": 94,
   "id": "10bcec99",
   "metadata": {},
   "outputs": [],
   "source": [
    " #current_year = datetime.now().year\n",
    " #df_train['HouseYear_outlier'] = 0\n",
    " #df_train.loc[df_train['HouseYear'] > current_year, 'HouseYear_outlier'] = 1\n",
    " #df_train.loc[df_train['HouseYear'] > current_year, 'HouseYear'] = current_year"
   ]
  },
  {
   "cell_type": "markdown",
   "id": "dd3de416",
   "metadata": {},
   "source": [
    "#### Ecology_1"
   ]
  },
  {
   "cell_type": "code",
   "execution_count": 95,
   "id": "dc275dd2",
   "metadata": {},
   "outputs": [
    {
     "data": {
      "text/plain": [
       "count    10000.000000\n",
       "mean         0.118858\n",
       "std          0.119025\n",
       "min          0.000000\n",
       "25%          0.017647\n",
       "50%          0.075424\n",
       "75%          0.195781\n",
       "max          0.521867\n",
       "Name: Ecology_1, dtype: float64"
      ]
     },
     "execution_count": 95,
     "metadata": {},
     "output_type": "execute_result"
    }
   ],
   "source": [
    "df_train['Ecology_1'].describe()"
   ]
  },
  {
   "cell_type": "code",
   "execution_count": 96,
   "id": "19032e32",
   "metadata": {},
   "outputs": [
    {
     "data": {
      "text/plain": [
       "0.012522      1\n",
       "0.014334      1\n",
       "0.394094      2\n",
       "0.011320      3\n",
       "0.386772      6\n",
       "           ... \n",
       "0.075779    346\n",
       "0.072158    486\n",
       "0.243205    511\n",
       "0.000000    537\n",
       "0.007122    587\n",
       "Name: Ecology_1, Length: 129, dtype: int64"
      ]
     },
     "execution_count": 96,
     "metadata": {},
     "output_type": "execute_result"
    }
   ],
   "source": [
    "df_train['Ecology_1'].value_counts(ascending=True)"
   ]
  },
  {
   "cell_type": "code",
   "execution_count": 97,
   "id": "9c543b6e",
   "metadata": {},
   "outputs": [
    {
     "data": {
      "image/png": "[encoded data removed]",
      "text/plain": [
       "<Figure size 1152x576 with 1 Axes>"
      ]
     },
     "metadata": {
      "needs_background": "light"
     },
     "output_type": "display_data"
    }
   ],
   "source": [
    "plt.figure(figsize = (16, 8))\n",
    "plt.axis([0, 0.55, 0, 2400])\n",
    "\n",
    "df_train['Ecology_1'].hist(density=False, bins=30)\n",
    "plt.ylabel('count')\n",
    "plt.xlabel('Ecology_1')\n",
    "\n",
    "plt.title('Distribution of Ecology_1')\n",
    "plt.show()"
   ]
  },
  {
   "cell_type": "code",
   "execution_count": 98,
   "id": "cd475246",
   "metadata": {},
   "outputs": [
    {
     "data": {
      "image/png": "[encoded data removed]",
      "text/plain": [
       "<Figure size 432x216 with 1 Axes>"
      ]
     },
     "metadata": {
      "needs_background": "light"
     },
     "output_type": "display_data"
    }
   ],
   "source": [
    "plt.figure(figsize=(6, 3))\n",
    "\n",
    "sns.boxplot(df_train['Ecology_1'], whis=2)\n",
    "\n",
    "plt.xlabel('Ecology_1')\n",
    "plt.show()"
   ]
  },
  {
   "cell_type": "markdown",
   "id": "987e0e57",
   "metadata": {},
   "source": [
    "Явных выбросов не выявлено."
   ]
  },
  {
   "cell_type": "markdown",
   "id": "540afebc",
   "metadata": {},
   "source": [
    "## Social_1\tSocial_2 Social_3"
   ]
  },
  {
   "cell_type": "code",
   "execution_count": 99,
   "id": "80597629",
   "metadata": {},
   "outputs": [
    {
     "data": {
      "text/plain": [
       "count    10000.000000\n",
       "mean        24.687000\n",
       "std         17.532614\n",
       "min          0.000000\n",
       "25%          6.000000\n",
       "50%         25.000000\n",
       "75%         36.000000\n",
       "max         74.000000\n",
       "Name: Social_1, dtype: float64"
      ]
     },
     "execution_count": 99,
     "metadata": {},
     "output_type": "execute_result"
    }
   ],
   "source": [
    "df_train['Social_1'].describe()"
   ]
  },
  {
   "cell_type": "code",
   "execution_count": 100,
   "id": "a2647fcd",
   "metadata": {
    "scrolled": false
   },
   "outputs": [
    {
     "data": {
      "text/plain": [
       "3       9\n",
       "7      15\n",
       "12     18\n",
       "13     22\n",
       "10     24\n",
       "14     46\n",
       "20     50\n",
       "15     51\n",
       "8      62\n",
       "38     64\n",
       "29     70\n",
       "50     79\n",
       "41     83\n",
       "32     87\n",
       "18     92\n",
       "49     95\n",
       "17     96\n",
       "66     99\n",
       "19    118\n",
       "16    123\n",
       "26    127\n",
       "42    129\n",
       "11    138\n",
       "4     141\n",
       "28    144\n",
       "27    151\n",
       "39    159\n",
       "74    176\n",
       "47    177\n",
       "35    200\n",
       "0     201\n",
       "52    201\n",
       "24    205\n",
       "37    205\n",
       "21    207\n",
       "36    209\n",
       "9     213\n",
       "43    238\n",
       "31    243\n",
       "46    245\n",
       "33    252\n",
       "34    311\n",
       "53    355\n",
       "22    367\n",
       "6     377\n",
       "23    434\n",
       "30    465\n",
       "5     528\n",
       "25    557\n",
       "1     654\n",
       "2     688\n",
       "Name: Social_1, dtype: int64"
      ]
     },
     "execution_count": 100,
     "metadata": {},
     "output_type": "execute_result"
    }
   ],
   "source": [
    "df_train['Social_1'].value_counts(ascending=True)"
   ]
  },
  {
   "cell_type": "code",
   "execution_count": 101,
   "id": "68d3d5a2",
   "metadata": {
    "scrolled": false
   },
   "outputs": [
    {
     "data": {
      "image/png": "[encoded data removed]",
      "text/plain": [
       "<Figure size 864x360 with 1 Axes>"
      ]
     },
     "metadata": {
      "needs_background": "light"
     },
     "output_type": "display_data"
    }
   ],
   "source": [
    "plt.figure(figsize=(12, 5))\n",
    "\n",
    "sns.boxplot(df_train['Social_1'], whis=2)\n",
    "\n",
    "plt.xlabel('Social_1')\n",
    "plt.show()"
   ]
  },
  {
   "cell_type": "markdown",
   "id": "76d71d70",
   "metadata": {},
   "source": [
    "Явных выбросов не выявлено."
   ]
  },
  {
   "cell_type": "code",
   "execution_count": 102,
   "id": "f7360064",
   "metadata": {},
   "outputs": [
    {
     "data": {
      "text/plain": [
       "count    10000.000000\n",
       "mean      5352.157400\n",
       "std       4006.799803\n",
       "min        168.000000\n",
       "25%       1564.000000\n",
       "50%       5285.000000\n",
       "75%       7227.000000\n",
       "max      19083.000000\n",
       "Name: Social_2, dtype: float64"
      ]
     },
     "execution_count": 102,
     "metadata": {},
     "output_type": "execute_result"
    }
   ],
   "source": [
    "df_train['Social_2'].describe()"
   ]
  },
  {
   "cell_type": "code",
   "execution_count": 103,
   "id": "b0f2646a",
   "metadata": {
    "scrolled": true
   },
   "outputs": [
    {
     "data": {
      "text/plain": [
       "264     587\n",
       "1564    511\n",
       "629     486\n",
       "1437    346\n",
       "6398    245\n",
       "       ... \n",
       "1423      3\n",
       "568       3\n",
       "662       2\n",
       "507       1\n",
       "528       1\n",
       "Name: Social_2, Length: 142, dtype: int64"
      ]
     },
     "execution_count": 103,
     "metadata": {},
     "output_type": "execute_result"
    }
   ],
   "source": [
    "df_train['Social_2'].value_counts(ascending=False)"
   ]
  },
  {
   "cell_type": "code",
   "execution_count": 104,
   "id": "0627ec30",
   "metadata": {
    "scrolled": true
   },
   "outputs": [
    {
     "data": {
      "image/png": "[encoded data removed]",
      "text/plain": [
       "<Figure size 864x360 with 1 Axes>"
      ]
     },
     "metadata": {
      "needs_background": "light"
     },
     "output_type": "display_data"
    }
   ],
   "source": [
    "plt.figure(figsize=(12, 5))\n",
    "\n",
    "sns.boxplot(df_train['Social_2'], whis=2)\n",
    "\n",
    "plt.xlabel('Social_2')\n",
    "plt.show()"
   ]
  },
  {
   "cell_type": "markdown",
   "id": "a33968dc",
   "metadata": {},
   "source": [
    "Можно посчитать за выбросы значения больше 14900, но при этом модель показывает значения хуже."
   ]
  },
  {
   "cell_type": "code",
   "execution_count": 105,
   "id": "78fc2cee",
   "metadata": {},
   "outputs": [
    {
     "data": {
      "text/plain": [
       "count    10000.000000\n",
       "mean         8.039200\n",
       "std         23.831875\n",
       "min          0.000000\n",
       "25%          0.000000\n",
       "50%          2.000000\n",
       "75%          5.000000\n",
       "max        141.000000\n",
       "Name: Social_3, dtype: float64"
      ]
     },
     "execution_count": 105,
     "metadata": {},
     "output_type": "execute_result"
    }
   ],
   "source": [
    "df_train['Social_3'].describe()"
   ]
  },
  {
   "cell_type": "code",
   "execution_count": 106,
   "id": "fb2dbc7e",
   "metadata": {
    "scrolled": true
   },
   "outputs": [
    {
     "data": {
      "text/plain": [
       "0      2997\n",
       "1      1861\n",
       "3      1136\n",
       "4       835\n",
       "2       635\n",
       "6       423\n",
       "5       391\n",
       "141     245\n",
       "9       192\n",
       "7       184\n",
       "11      172\n",
       "8       170\n",
       "10      142\n",
       "16      101\n",
       "14       97\n",
       "27       59\n",
       "48       58\n",
       "56       49\n",
       "84       43\n",
       "24       37\n",
       "87       27\n",
       "93       25\n",
       "59       25\n",
       "19       22\n",
       "20       19\n",
       "23       18\n",
       "39       15\n",
       "73       10\n",
       "45        9\n",
       "37        3\n",
       "Name: Social_3, dtype: int64"
      ]
     },
     "execution_count": 106,
     "metadata": {},
     "output_type": "execute_result"
    }
   ],
   "source": [
    "df_train['Social_3'].value_counts(ascending=False)"
   ]
  },
  {
   "cell_type": "code",
   "execution_count": 107,
   "id": "ae3e74be",
   "metadata": {
    "scrolled": true
   },
   "outputs": [
    {
     "data": {
      "image/png": "[encoded data removed]",
      "text/plain": [
       "<Figure size 864x360 with 1 Axes>"
      ]
     },
     "metadata": {
      "needs_background": "light"
     },
     "output_type": "display_data"
    }
   ],
   "source": [
    "plt.figure(figsize=(12, 5))\n",
    "\n",
    "sns.boxplot(df_train['Social_3'], whis=2)\n",
    "\n",
    "plt.xlabel('Social_3')\n",
    "plt.show()"
   ]
  },
  {
   "cell_type": "markdown",
   "id": "d30a6165",
   "metadata": {},
   "source": [
    "Можно посчитать за выбросы значения больше 16, но при этом модель показывает значения хуже."
   ]
  },
  {
   "cell_type": "markdown",
   "id": "e1db8529",
   "metadata": {},
   "source": [
    "## Helthcare_2"
   ]
  },
  {
   "cell_type": "code",
   "execution_count": 108,
   "id": "5a7ca52b",
   "metadata": {},
   "outputs": [
    {
     "data": {
      "text/plain": [
       "count    10000.000000\n",
       "mean         1.319500\n",
       "std          1.493601\n",
       "min          0.000000\n",
       "25%          0.000000\n",
       "50%          1.000000\n",
       "75%          2.000000\n",
       "max          6.000000\n",
       "Name: Helthcare_2, dtype: float64"
      ]
     },
     "execution_count": 108,
     "metadata": {},
     "output_type": "execute_result"
    }
   ],
   "source": [
    "df_train['Helthcare_2'].describe()"
   ]
  },
  {
   "cell_type": "code",
   "execution_count": 109,
   "id": "7940fabb",
   "metadata": {},
   "outputs": [
    {
     "data": {
      "text/plain": [
       "0    4214\n",
       "1    2183\n",
       "3    1670\n",
       "2    1158\n",
       "5     388\n",
       "4     288\n",
       "6      99\n",
       "Name: Helthcare_2, dtype: int64"
      ]
     },
     "execution_count": 109,
     "metadata": {},
     "output_type": "execute_result"
    }
   ],
   "source": [
    "df_train['Helthcare_2'].value_counts(ascending=False)"
   ]
  },
  {
   "cell_type": "code",
   "execution_count": 110,
   "id": "d4b6ef61",
   "metadata": {},
   "outputs": [
    {
     "data": {
      "image/png": "[encoded data removed]",
      "text/plain": [
       "<Figure size 432x216 with 1 Axes>"
      ]
     },
     "metadata": {
      "needs_background": "light"
     },
     "output_type": "display_data"
    }
   ],
   "source": [
    "plt.figure(figsize=(6, 3))\n",
    "\n",
    "sns.boxplot(df_train['Helthcare_2'], whis=2)\n",
    "\n",
    "plt.xlabel('Helthcare_2')\n",
    "plt.show()"
   ]
  },
  {
   "cell_type": "markdown",
   "id": "18b84c5c",
   "metadata": {},
   "source": [
    "Явных выбросов не выявлено."
   ]
  },
  {
   "cell_type": "markdown",
   "id": "601d1cc7",
   "metadata": {},
   "source": [
    "## Shops_1"
   ]
  },
  {
   "cell_type": "code",
   "execution_count": 111,
   "id": "6f5de56f",
   "metadata": {},
   "outputs": [
    {
     "data": {
      "text/plain": [
       "count    10000.000000\n",
       "mean         4.231300\n",
       "std          4.806341\n",
       "min          0.000000\n",
       "25%          1.000000\n",
       "50%          3.000000\n",
       "75%          6.000000\n",
       "max         23.000000\n",
       "Name: Shops_1, dtype: float64"
      ]
     },
     "execution_count": 111,
     "metadata": {},
     "output_type": "execute_result"
    }
   ],
   "source": [
    "df_train['Shops_1'].describe()"
   ]
  },
  {
   "cell_type": "code",
   "execution_count": 112,
   "id": "651f668b",
   "metadata": {},
   "outputs": [
    {
     "data": {
      "text/plain": [
       "0     2316\n",
       "1     1325\n",
       "5     1324\n",
       "2      964\n",
       "4      841\n",
       "3      711\n",
       "6      487\n",
       "11     401\n",
       "9      316\n",
       "7      294\n",
       "8      253\n",
       "23     245\n",
       "10     215\n",
       "15     176\n",
       "16      83\n",
       "19      49\n",
       "Name: Shops_1, dtype: int64"
      ]
     },
     "execution_count": 112,
     "metadata": {},
     "output_type": "execute_result"
    }
   ],
   "source": [
    "df_train['Shops_1'].value_counts(ascending=False)"
   ]
  },
  {
   "cell_type": "code",
   "execution_count": 113,
   "id": "0ee6258d",
   "metadata": {
    "scrolled": true
   },
   "outputs": [
    {
     "data": {
      "image/png": "[encoded data removed]",
      "text/plain": [
       "<Figure size 432x216 with 1 Axes>"
      ]
     },
     "metadata": {
      "needs_background": "light"
     },
     "output_type": "display_data"
    }
   ],
   "source": [
    "plt.figure(figsize=(6, 3))\n",
    "\n",
    "sns.boxplot(df_train['Shops_1'], whis=2)\n",
    "\n",
    "plt.xlabel('Shops_1')\n",
    "plt.show()"
   ]
  },
  {
   "cell_type": "markdown",
   "id": "9507b45b",
   "metadata": {},
   "source": [
    "Можно посчитать за выбросы значения больше 16, но при этом модель показывает значения хуже."
   ]
  },
  {
   "cell_type": "markdown",
   "id": "84eda021",
   "metadata": {},
   "source": [
    "## 3. Обработка пропусков"
   ]
  },
  {
   "cell_type": "code",
   "execution_count": 114,
   "id": "5453744f",
   "metadata": {
    "scrolled": true
   },
   "outputs": [
    {
     "data": {
      "text/plain": [
       "Id                          0\n",
       "DistrictId                  0\n",
       "Rooms                       0\n",
       "Square                      0\n",
       "LifeSquare               2113\n",
       "KitchenSquare               0\n",
       "Floor                       0\n",
       "HouseFloor                  0\n",
       "HouseYear                   0\n",
       "Ecology_1                   0\n",
       "Ecology_2                   0\n",
       "Ecology_3                   0\n",
       "Social_1                    0\n",
       "Social_2                    0\n",
       "Social_3                    0\n",
       "Healthcare_1             4798\n",
       "Helthcare_2                 0\n",
       "Shops_1                     0\n",
       "Shops_2                     0\n",
       "Price                       0\n",
       "Rooms_outlier               0\n",
       "Square_outlier              0\n",
       "KitchenSquare_outlier       0\n",
       "LifeSquare_outlier          0\n",
       "HouseFloor_outlier          0\n",
       "HouseYear_outlier           0\n",
       "dtype: int64"
      ]
     },
     "execution_count": 114,
     "metadata": {},
     "output_type": "execute_result"
    }
   ],
   "source": [
    "df_train.isna().sum()"
   ]
  },
  {
   "cell_type": "code",
   "execution_count": 115,
   "id": "10d91701",
   "metadata": {
    "scrolled": true
   },
   "outputs": [
    {
     "data": {
      "text/html": [
       "<div>\n",
       "<style scoped>\n",
       "    .dataframe tbody tr th:only-of-type {\n",
       "        vertical-align: middle;\n",
       "    }\n",
       "\n",
       "    .dataframe tbody tr th {\n",
       "        vertical-align: top;\n",
       "    }\n",
       "\n",
       "    .dataframe thead th {\n",
       "        text-align: right;\n",
       "    }\n",
       "</style>\n",
       "<table border=\"1\" class=\"dataframe\">\n",
       "  <thead>\n",
       "    <tr style=\"text-align: right;\">\n",
       "      <th></th>\n",
       "      <th>Id</th>\n",
       "      <th>DistrictId</th>\n",
       "      <th>Rooms</th>\n",
       "      <th>Square</th>\n",
       "      <th>LifeSquare</th>\n",
       "      <th>KitchenSquare</th>\n",
       "      <th>Floor</th>\n",
       "      <th>HouseFloor</th>\n",
       "      <th>HouseYear</th>\n",
       "      <th>Ecology_1</th>\n",
       "      <th>...</th>\n",
       "      <th>Shops_1</th>\n",
       "      <th>Shops_2</th>\n",
       "      <th>Price</th>\n",
       "      <th>Rooms_outlier</th>\n",
       "      <th>Square_outlier</th>\n",
       "      <th>KitchenSquare_outlier</th>\n",
       "      <th>LifeSquare_outlier</th>\n",
       "      <th>HouseFloor_outlier</th>\n",
       "      <th>HouseYear_outlier</th>\n",
       "      <th>LifeSquare_nan</th>\n",
       "    </tr>\n",
       "  </thead>\n",
       "  <tbody>\n",
       "    <tr>\n",
       "      <th>0</th>\n",
       "      <td>11809</td>\n",
       "      <td>27</td>\n",
       "      <td>3.0</td>\n",
       "      <td>115.027311</td>\n",
       "      <td>NaN</td>\n",
       "      <td>10.0</td>\n",
       "      <td>4</td>\n",
       "      <td>10.0</td>\n",
       "      <td>2014</td>\n",
       "      <td>0.075424</td>\n",
       "      <td>...</td>\n",
       "      <td>0</td>\n",
       "      <td>B</td>\n",
       "      <td>305018.871089</td>\n",
       "      <td>0</td>\n",
       "      <td>0</td>\n",
       "      <td>0</td>\n",
       "      <td>0</td>\n",
       "      <td>0</td>\n",
       "      <td>0</td>\n",
       "      <td>0</td>\n",
       "    </tr>\n",
       "    <tr>\n",
       "      <th>1</th>\n",
       "      <td>3013</td>\n",
       "      <td>22</td>\n",
       "      <td>1.0</td>\n",
       "      <td>39.832524</td>\n",
       "      <td>23.169223</td>\n",
       "      <td>8.0</td>\n",
       "      <td>7</td>\n",
       "      <td>8.0</td>\n",
       "      <td>1966</td>\n",
       "      <td>0.118537</td>\n",
       "      <td>...</td>\n",
       "      <td>0</td>\n",
       "      <td>B</td>\n",
       "      <td>177734.553407</td>\n",
       "      <td>0</td>\n",
       "      <td>0</td>\n",
       "      <td>0</td>\n",
       "      <td>0</td>\n",
       "      <td>0</td>\n",
       "      <td>0</td>\n",
       "      <td>0</td>\n",
       "    </tr>\n",
       "    <tr>\n",
       "      <th>2</th>\n",
       "      <td>8215</td>\n",
       "      <td>1</td>\n",
       "      <td>3.0</td>\n",
       "      <td>78.342215</td>\n",
       "      <td>47.671972</td>\n",
       "      <td>10.0</td>\n",
       "      <td>2</td>\n",
       "      <td>17.0</td>\n",
       "      <td>1988</td>\n",
       "      <td>0.025609</td>\n",
       "      <td>...</td>\n",
       "      <td>1</td>\n",
       "      <td>B</td>\n",
       "      <td>282078.720850</td>\n",
       "      <td>0</td>\n",
       "      <td>0</td>\n",
       "      <td>0</td>\n",
       "      <td>0</td>\n",
       "      <td>0</td>\n",
       "      <td>0</td>\n",
       "      <td>0</td>\n",
       "    </tr>\n",
       "    <tr>\n",
       "      <th>3</th>\n",
       "      <td>2352</td>\n",
       "      <td>1</td>\n",
       "      <td>1.0</td>\n",
       "      <td>40.409907</td>\n",
       "      <td>NaN</td>\n",
       "      <td>6.0</td>\n",
       "      <td>10</td>\n",
       "      <td>22.0</td>\n",
       "      <td>1977</td>\n",
       "      <td>0.007122</td>\n",
       "      <td>...</td>\n",
       "      <td>1</td>\n",
       "      <td>B</td>\n",
       "      <td>168106.007630</td>\n",
       "      <td>0</td>\n",
       "      <td>0</td>\n",
       "      <td>1</td>\n",
       "      <td>0</td>\n",
       "      <td>0</td>\n",
       "      <td>0</td>\n",
       "      <td>0</td>\n",
       "    </tr>\n",
       "    <tr>\n",
       "      <th>4</th>\n",
       "      <td>13866</td>\n",
       "      <td>94</td>\n",
       "      <td>2.0</td>\n",
       "      <td>64.285067</td>\n",
       "      <td>38.562517</td>\n",
       "      <td>9.0</td>\n",
       "      <td>16</td>\n",
       "      <td>16.0</td>\n",
       "      <td>1972</td>\n",
       "      <td>0.282798</td>\n",
       "      <td>...</td>\n",
       "      <td>6</td>\n",
       "      <td>B</td>\n",
       "      <td>343995.102962</td>\n",
       "      <td>0</td>\n",
       "      <td>0</td>\n",
       "      <td>0</td>\n",
       "      <td>0</td>\n",
       "      <td>0</td>\n",
       "      <td>0</td>\n",
       "      <td>0</td>\n",
       "    </tr>\n",
       "    <tr>\n",
       "      <th>...</th>\n",
       "      <td>...</td>\n",
       "      <td>...</td>\n",
       "      <td>...</td>\n",
       "      <td>...</td>\n",
       "      <td>...</td>\n",
       "      <td>...</td>\n",
       "      <td>...</td>\n",
       "      <td>...</td>\n",
       "      <td>...</td>\n",
       "      <td>...</td>\n",
       "      <td>...</td>\n",
       "      <td>...</td>\n",
       "      <td>...</td>\n",
       "      <td>...</td>\n",
       "      <td>...</td>\n",
       "      <td>...</td>\n",
       "      <td>...</td>\n",
       "      <td>...</td>\n",
       "      <td>...</td>\n",
       "      <td>...</td>\n",
       "      <td>...</td>\n",
       "    </tr>\n",
       "    <tr>\n",
       "      <th>9995</th>\n",
       "      <td>1260</td>\n",
       "      <td>61</td>\n",
       "      <td>2.0</td>\n",
       "      <td>49.090728</td>\n",
       "      <td>33.272626</td>\n",
       "      <td>6.0</td>\n",
       "      <td>3</td>\n",
       "      <td>12.0</td>\n",
       "      <td>1981</td>\n",
       "      <td>0.300323</td>\n",
       "      <td>...</td>\n",
       "      <td>9</td>\n",
       "      <td>B</td>\n",
       "      <td>119367.455796</td>\n",
       "      <td>0</td>\n",
       "      <td>0</td>\n",
       "      <td>0</td>\n",
       "      <td>0</td>\n",
       "      <td>0</td>\n",
       "      <td>0</td>\n",
       "      <td>0</td>\n",
       "    </tr>\n",
       "    <tr>\n",
       "      <th>9996</th>\n",
       "      <td>16265</td>\n",
       "      <td>27</td>\n",
       "      <td>2.0</td>\n",
       "      <td>64.307684</td>\n",
       "      <td>37.038420</td>\n",
       "      <td>9.0</td>\n",
       "      <td>13</td>\n",
       "      <td>13.0</td>\n",
       "      <td>1977</td>\n",
       "      <td>0.072158</td>\n",
       "      <td>...</td>\n",
       "      <td>0</td>\n",
       "      <td>A</td>\n",
       "      <td>199715.148807</td>\n",
       "      <td>0</td>\n",
       "      <td>0</td>\n",
       "      <td>0</td>\n",
       "      <td>0</td>\n",
       "      <td>1</td>\n",
       "      <td>0</td>\n",
       "      <td>0</td>\n",
       "    </tr>\n",
       "    <tr>\n",
       "      <th>9997</th>\n",
       "      <td>2795</td>\n",
       "      <td>178</td>\n",
       "      <td>1.0</td>\n",
       "      <td>29.648057</td>\n",
       "      <td>16.555363</td>\n",
       "      <td>5.0</td>\n",
       "      <td>3</td>\n",
       "      <td>5.0</td>\n",
       "      <td>1958</td>\n",
       "      <td>0.460556</td>\n",
       "      <td>...</td>\n",
       "      <td>5</td>\n",
       "      <td>B</td>\n",
       "      <td>165953.912580</td>\n",
       "      <td>0</td>\n",
       "      <td>0</td>\n",
       "      <td>0</td>\n",
       "      <td>0</td>\n",
       "      <td>0</td>\n",
       "      <td>0</td>\n",
       "      <td>0</td>\n",
       "    </tr>\n",
       "    <tr>\n",
       "      <th>9998</th>\n",
       "      <td>14561</td>\n",
       "      <td>21</td>\n",
       "      <td>1.0</td>\n",
       "      <td>32.330292</td>\n",
       "      <td>22.326870</td>\n",
       "      <td>5.0</td>\n",
       "      <td>3</td>\n",
       "      <td>9.0</td>\n",
       "      <td>1969</td>\n",
       "      <td>0.194489</td>\n",
       "      <td>...</td>\n",
       "      <td>5</td>\n",
       "      <td>B</td>\n",
       "      <td>171842.411855</td>\n",
       "      <td>0</td>\n",
       "      <td>0</td>\n",
       "      <td>0</td>\n",
       "      <td>0</td>\n",
       "      <td>0</td>\n",
       "      <td>0</td>\n",
       "      <td>0</td>\n",
       "    </tr>\n",
       "    <tr>\n",
       "      <th>9999</th>\n",
       "      <td>7202</td>\n",
       "      <td>94</td>\n",
       "      <td>1.0</td>\n",
       "      <td>35.815476</td>\n",
       "      <td>22.301367</td>\n",
       "      <td>6.0</td>\n",
       "      <td>9</td>\n",
       "      <td>9.0</td>\n",
       "      <td>1975</td>\n",
       "      <td>0.127376</td>\n",
       "      <td>...</td>\n",
       "      <td>9</td>\n",
       "      <td>B</td>\n",
       "      <td>177685.627486</td>\n",
       "      <td>0</td>\n",
       "      <td>0</td>\n",
       "      <td>0</td>\n",
       "      <td>0</td>\n",
       "      <td>0</td>\n",
       "      <td>0</td>\n",
       "      <td>0</td>\n",
       "    </tr>\n",
       "  </tbody>\n",
       "</table>\n",
       "<p>10000 rows × 27 columns</p>\n",
       "</div>"
      ],
      "text/plain": [
       "         Id DistrictId  Rooms      Square  LifeSquare  KitchenSquare  Floor  \\\n",
       "0     11809         27    3.0  115.027311         NaN           10.0      4   \n",
       "1      3013         22    1.0   39.832524   23.169223            8.0      7   \n",
       "2      8215          1    3.0   78.342215   47.671972           10.0      2   \n",
       "3      2352          1    1.0   40.409907         NaN            6.0     10   \n",
       "4     13866         94    2.0   64.285067   38.562517            9.0     16   \n",
       "...     ...        ...    ...         ...         ...            ...    ...   \n",
       "9995   1260         61    2.0   49.090728   33.272626            6.0      3   \n",
       "9996  16265         27    2.0   64.307684   37.038420            9.0     13   \n",
       "9997   2795        178    1.0   29.648057   16.555363            5.0      3   \n",
       "9998  14561         21    1.0   32.330292   22.326870            5.0      3   \n",
       "9999   7202         94    1.0   35.815476   22.301367            6.0      9   \n",
       "\n",
       "      HouseFloor  HouseYear  Ecology_1  ... Shops_1 Shops_2          Price  \\\n",
       "0           10.0       2014   0.075424  ...       0       B  305018.871089   \n",
       "1            8.0       1966   0.118537  ...       0       B  177734.553407   \n",
       "2           17.0       1988   0.025609  ...       1       B  282078.720850   \n",
       "3           22.0       1977   0.007122  ...       1       B  168106.007630   \n",
       "4           16.0       1972   0.282798  ...       6       B  343995.102962   \n",
       "...          ...        ...        ...  ...     ...     ...            ...   \n",
       "9995        12.0       1981   0.300323  ...       9       B  119367.455796   \n",
       "9996        13.0       1977   0.072158  ...       0       A  199715.148807   \n",
       "9997         5.0       1958   0.460556  ...       5       B  165953.912580   \n",
       "9998         9.0       1969   0.194489  ...       5       B  171842.411855   \n",
       "9999         9.0       1975   0.127376  ...       9       B  177685.627486   \n",
       "\n",
       "      Rooms_outlier  Square_outlier  KitchenSquare_outlier  \\\n",
       "0                 0               0                      0   \n",
       "1                 0               0                      0   \n",
       "2                 0               0                      0   \n",
       "3                 0               0                      1   \n",
       "4                 0               0                      0   \n",
       "...             ...             ...                    ...   \n",
       "9995              0               0                      0   \n",
       "9996              0               0                      0   \n",
       "9997              0               0                      0   \n",
       "9998              0               0                      0   \n",
       "9999              0               0                      0   \n",
       "\n",
       "      LifeSquare_outlier  HouseFloor_outlier HouseYear_outlier  LifeSquare_nan  \n",
       "0                      0                   0                 0               0  \n",
       "1                      0                   0                 0               0  \n",
       "2                      0                   0                 0               0  \n",
       "3                      0                   0                 0               0  \n",
       "4                      0                   0                 0               0  \n",
       "...                  ...                 ...               ...             ...  \n",
       "9995                   0                   0                 0               0  \n",
       "9996                   0                   1                 0               0  \n",
       "9997                   0                   0                 0               0  \n",
       "9998                   0                   0                 0               0  \n",
       "9999                   0                   0                 0               0  \n",
       "\n",
       "[10000 rows x 27 columns]"
      ]
     },
     "execution_count": 115,
     "metadata": {},
     "output_type": "execute_result"
    }
   ],
   "source": [
    "df_train['LifeSquare_nan'] = 0\n",
    "df_train"
   ]
  },
  {
   "cell_type": "code",
   "execution_count": 116,
   "id": "0a2e9273",
   "metadata": {
    "scrolled": true
   },
   "outputs": [
    {
     "data": {
      "text/plain": [
       "0       0\n",
       "3       0\n",
       "18      0\n",
       "20      0\n",
       "24      0\n",
       "       ..\n",
       "9975    0\n",
       "9978    0\n",
       "9981    0\n",
       "9983    0\n",
       "9991    0\n",
       "Name: LifeSquare_nan, Length: 2113, dtype: int64"
      ]
     },
     "execution_count": 116,
     "metadata": {},
     "output_type": "execute_result"
    }
   ],
   "source": [
    "df_train.loc[(df_train['LifeSquare'].isna()), 'LifeSquare_nan']"
   ]
  },
  {
   "cell_type": "code",
   "execution_count": 117,
   "id": "e331f1ba",
   "metadata": {},
   "outputs": [],
   "source": [
    "df_train.loc[(df_train['LifeSquare'].isna()), 'LifeSquare_nan'] = 1"
   ]
  },
  {
   "cell_type": "code",
   "execution_count": 118,
   "id": "3a6759fb",
   "metadata": {},
   "outputs": [
    {
     "data": {
      "text/plain": [
       "0    7887\n",
       "1    2113\n",
       "Name: LifeSquare_nan, dtype: int64"
      ]
     },
     "execution_count": 118,
     "metadata": {},
     "output_type": "execute_result"
    }
   ],
   "source": [
    "df_train['LifeSquare_nan'].value_counts()"
   ]
  },
  {
   "cell_type": "code",
   "execution_count": 119,
   "id": "708d43fc",
   "metadata": {},
   "outputs": [],
   "source": [
    "condition_LS_3 = (df_train['LifeSquare'].isna()) & (~df_train['Square'].isna())"
   ]
  },
  {
   "cell_type": "code",
   "execution_count": 120,
   "id": "b18acac6",
   "metadata": {},
   "outputs": [
    {
     "data": {
      "text/plain": [
       "False    8803\n",
       "True     1197\n",
       "dtype: int64"
      ]
     },
     "execution_count": 120,
     "metadata": {},
     "output_type": "execute_result"
    }
   ],
   "source": [
    "condition_LS.value_counts()"
   ]
  },
  {
   "cell_type": "code",
   "execution_count": 121,
   "id": "7d4708fd",
   "metadata": {},
   "outputs": [],
   "source": [
    "df_train.loc[condition_LS_3, 'LifeSquare'] = df_train.loc[condition_LS_3, 'Square'] / 1.6"
   ]
  },
  {
   "cell_type": "code",
   "execution_count": 122,
   "id": "e05625ba",
   "metadata": {},
   "outputs": [
    {
     "data": {
      "text/plain": [
       "count    10000.000000\n",
       "mean        33.918550\n",
       "std         11.562191\n",
       "min         12.015919\n",
       "25%         24.473143\n",
       "50%         32.447405\n",
       "75%         41.362493\n",
       "max        103.637322\n",
       "Name: LifeSquare, dtype: float64"
      ]
     },
     "execution_count": 122,
     "metadata": {},
     "output_type": "execute_result"
    }
   ],
   "source": [
    "df_train['LifeSquare'].describe()"
   ]
  },
  {
   "cell_type": "markdown",
   "id": "c54d442e",
   "metadata": {},
   "source": [
    "## Healthcare_1"
   ]
  },
  {
   "cell_type": "code",
   "execution_count": 123,
   "id": "fa4810bb",
   "metadata": {},
   "outputs": [],
   "source": [
    "df_train.drop('Healthcare_1', axis=1, inplace=True)"
   ]
  },
  {
   "cell_type": "markdown",
   "id": "7861f5aa",
   "metadata": {},
   "source": [
    "Создадим класс DataPreprocessing и внесем все преобразования, полученные ранее."
   ]
  },
  {
   "cell_type": "code",
   "execution_count": 124,
   "id": "58d4f459",
   "metadata": {},
   "outputs": [],
   "source": [
    "class DataPreprocessing:\n",
    "    \"\"\"Подготовка исходных данных\"\"\"\n",
    "\n",
    "    def __init__(self):\n",
    "        \"\"\"Параметры класса\"\"\"\n",
    "        self.medians = None\n",
    "                \n",
    "    def fit(self, X):\n",
    "        \"\"\"Сохранение статистик\"\"\"       \n",
    "        # Расчет медиан\n",
    "        self.medians = X.median()\n",
    "            \n",
    "    def transform(self, X):\n",
    "        \"\"\"Трансформация данных\"\"\"\n",
    "\n",
    "        # Rooms\n",
    "        X['Rooms_outlier'] = 0\n",
    "        X.loc[(X['Rooms'] == 0) | (X['Rooms'] > 5), 'Rooms_outlier'] = 1\n",
    "        X.loc[(X['Rooms'] == 0) | (X['Rooms'] > 5), 'Rooms'] = self.medians['Rooms']\n",
    "        \n",
    "        # Square\n",
    "        X['Square_outlier'] = 0\n",
    "        X.loc[(X['Square'] < 23) | (X['Square'] > 128), 'Square_outlier'] = 1\n",
    "        X.loc[(X['Square'] < 23) | (X['Square'] > 128), 'Square'] = self.medians['Square']\n",
    "        \n",
    "        # KitchenSquare\n",
    "        X['KitchenSquare_outlier'] = 0\n",
    "        X.loc[(X['KitchenSquare'] < 5) | (X['KitchenSquare'] > 13), 'KitchenSquare_outlier'] = 1\n",
    "        X.loc[(X['KitchenSquare'] < 5) | (X['KitchenSquare'] > 13), 'KitchenSquare'] = self.medians['KitchenSquare']\n",
    "        \n",
    "         # LifeSquare\n",
    "        X['LifeSquare_outlier'] = 0\n",
    "        X.loc[(X['LifeSquare'] <= 12) | (X['LifeSquare'] > 110), 'LifeSquare_outlier'] = 1\n",
    "        X.loc[(X['LifeSquare'] <= 12) | (X['LifeSquare'] > 110), 'LifeSquare'] = self.medians['LifeSquare']\n",
    "        X.loc[((X['KitchenSquare'] + X['LifeSquare']) > X['Square']), 'LifeSquare_outlier'] = 1\n",
    "        condition_LS = ((X['KitchenSquare'] + X['LifeSquare']) > X['Square'])\n",
    "        X.loc[condition_LS, 'LifeSquare'] = X.loc[condition_LS, 'Square'] / 1.6\n",
    "        X.loc[(((X['KitchenSquare'] + X['LifeSquare']) + 5) > X['Square']), 'LifeSquare_outlier'] = 1\n",
    "        condition_LS_2 = ((X['KitchenSquare'] + X['LifeSquare'] + 5) > X['Square'])\n",
    "        X.loc[condition_LS_2, 'LifeSquare'] = X.loc[condition_LS_2, 'Square'] - X.loc[condition_LS_2, 'KitchenSquare'] - 5\n",
    "        X['LifeSquare_nan'] = 0\n",
    "        X.loc[X['LifeSquare'].isna(), 'LifeSquare_nan'] = 1\n",
    "        condition_LS_3 = (X['LifeSquare'].isna()) & (~X['Square'].isna())\n",
    "        X.loc[condition_LS_3, 'LifeSquare'] = X.loc[condition_LS_3, 'Square'] / 1.6\n",
    "        \n",
    "         # HouseFloor, Floor\n",
    "        X['HouseFloor_outlier'] = 0\n",
    "        X.loc[(X['HouseFloor'] == 0) | (X['HouseFloor'] > 96), 'HouseFloor_outlier'] = 1\n",
    "        X.loc[X['Floor'] > X['HouseFloor'], 'HouseFloor_outlier'] = 1\n",
    "        \n",
    "        X.loc[(X['HouseFloor'] == 0) | (X['HouseFloor'] > 96), 'HouseFloor'] = self.medians['HouseFloor']\n",
    "        \n",
    "        floor_val = X.loc[X['Floor'] > X['HouseFloor']].index\n",
    "        X.loc[floor_val, 'Floor'] = X.loc[floor_val, 'HouseFloor']\\\n",
    "                                            .apply(lambda x: random.randint(1, x))\n",
    "        \n",
    "        # HouseYear\n",
    "        current_year = datetime.now().year\n",
    "        \n",
    "        X['HouseYear_outlier'] = 0\n",
    "        X.loc[X['HouseYear'] > current_year, 'HouseYear_outlier'] = 1\n",
    "        \n",
    "        X.loc[X['HouseYear'] > current_year, 'HouseYear'] = current_year\n",
    "        \n",
    "        # Healthcare_1\n",
    "        if 'Healthcare_1' in X.columns:\n",
    "            X.drop('Healthcare_1', axis=1, inplace=True)\n",
    "            \n",
    "        \n",
    "        # Helthcare_2\n",
    "        X['Helthcare_2_outlier'] = 0\n",
    "        X.loc[X['Helthcare_2'] > 3, 'Helthcare_2_outlier'] = 1\n",
    "        X.loc[X['Helthcare_2'] > 3, 'Helthcare_2'] = self.medians['Helthcare_2']\n",
    "\n",
    "        X.fillna(self.medians, inplace=True)\n",
    "        \n",
    "        return X"
   ]
  },
  {
   "cell_type": "markdown",
   "id": "834287b0",
   "metadata": {},
   "source": [
    "## 4. Построение новых признаков"
   ]
  },
  {
   "cell_type": "markdown",
   "id": "f3ecf071",
   "metadata": {},
   "source": [
    "#### Дамми переменные:"
   ]
  },
  {
   "cell_type": "code",
   "execution_count": 125,
   "id": "bc8eee59",
   "metadata": {},
   "outputs": [],
   "source": [
    "df_train_bin_features = {'A' : 0, 'B' : 1}"
   ]
  },
  {
   "cell_type": "code",
   "execution_count": 126,
   "id": "c2a21e98",
   "metadata": {},
   "outputs": [],
   "source": [
    "df_train['Ecology_2'] = df_train['Ecology_2'].replace(df_train_bin_features)"
   ]
  },
  {
   "cell_type": "code",
   "execution_count": 127,
   "id": "cb4ae0ba",
   "metadata": {},
   "outputs": [],
   "source": [
    "df_train['Ecology_3'] = df_train['Ecology_3'].replace(df_train_bin_features)"
   ]
  },
  {
   "cell_type": "code",
   "execution_count": 128,
   "id": "2113f739",
   "metadata": {},
   "outputs": [],
   "source": [
    "df_train['Shops_2'] = df_train['Shops_2'].replace(df_train_bin_features)"
   ]
  },
  {
   "cell_type": "code",
   "execution_count": 129,
   "id": "a8fad4b0",
   "metadata": {},
   "outputs": [
    {
     "data": {
      "text/plain": [
       "1    9903\n",
       "0      97\n",
       "Name: Ecology_2, dtype: int64"
      ]
     },
     "execution_count": 129,
     "metadata": {},
     "output_type": "execute_result"
    }
   ],
   "source": [
    "df_train['Ecology_2'].value_counts()"
   ]
  },
  {
   "cell_type": "markdown",
   "id": "d1e10518",
   "metadata": {},
   "source": [
    "### Построим корреляционную матрицу"
   ]
  },
  {
   "cell_type": "code",
   "execution_count": 130,
   "id": "0a6fcc49",
   "metadata": {},
   "outputs": [
    {
     "data": {
      "image/png": "[encoded data removed]",
      "text/plain": [
       "<Figure size 1080x720 with 2 Axes>"
      ]
     },
     "metadata": {
      "needs_background": "light"
     },
     "output_type": "display_data"
    }
   ],
   "source": [
    "plt.figure(figsize=(15, 10))\n",
    "\n",
    "sns.set(font_scale=1.2)\n",
    "\n",
    "# вызываем метод corr у датафрейма:\n",
    "corr_matrix = df_train.corr()\n",
    "# округляем до двух знаков\n",
    "corr_matrix = np.round(corr_matrix, 2)\n",
    "# наша корреляция не слишком большая, стремится к нулю, \n",
    "# такие корреляции зануляем и отриц и полож значения abs\n",
    "corr_matrix[np.abs(corr_matrix) < 0.3] = 0\n",
    "\n",
    "# отрисуем в heatmap\n",
    "sns.heatmap(corr_matrix, annot=True, linewidths=.5, cmap='coolwarm')\n",
    "\n",
    "plt.title('Correlation matrix')\n",
    "plt.show()"
   ]
  },
  {
   "cell_type": "markdown",
   "id": "9a5a8817",
   "metadata": {},
   "source": [
    "### ByFloorYearPrice\n",
    "\n",
    "Найдем зависимость от года дома, этажа и цены."
   ]
  },
  {
   "cell_type": "code",
   "execution_count": 131,
   "id": "a1ac14c6",
   "metadata": {},
   "outputs": [],
   "source": [
    "def age_to_cat(X):\n",
    "    bins = [0, 1980, 1990, 2000, 2015, X['HouseYear'].max()]\n",
    "    X['age_cat'] = pd.cut(X['HouseYear'], bins=bins, labels=False)\n",
    "    \n",
    "    X['age_cat'].fillna(-1, inplace=True)\n",
    "    return X"
   ]
  },
  {
   "cell_type": "code",
   "execution_count": 132,
   "id": "d4a24a57",
   "metadata": {},
   "outputs": [],
   "source": [
    "df_train = age_to_cat(df_train)"
   ]
  },
  {
   "cell_type": "code",
   "execution_count": 133,
   "id": "83191b02",
   "metadata": {},
   "outputs": [],
   "source": [
    "def floor_to_cat(X):\n",
    "    bins = [0, 6, 9, 20, 30, X['Floor'].max()]\n",
    "    X['floor_cat'] = pd.cut(X['Floor'], bins=bins, labels=False)\n",
    "    \n",
    "    X['floor_cat'].fillna(-1, inplace=True)\n",
    "    return X"
   ]
  },
  {
   "cell_type": "code",
   "execution_count": 134,
   "id": "9f378eb0",
   "metadata": {},
   "outputs": [],
   "source": [
    "df_train = floor_to_cat(df_train)"
   ]
  },
  {
   "cell_type": "code",
   "execution_count": 135,
   "id": "c6a9793f",
   "metadata": {},
   "outputs": [
    {
     "data": {
      "text/html": [
       "<div>\n",
       "<style scoped>\n",
       "    .dataframe tbody tr th:only-of-type {\n",
       "        vertical-align: middle;\n",
       "    }\n",
       "\n",
       "    .dataframe tbody tr th {\n",
       "        vertical-align: top;\n",
       "    }\n",
       "\n",
       "    .dataframe thead th {\n",
       "        text-align: right;\n",
       "    }\n",
       "</style>\n",
       "<table border=\"1\" class=\"dataframe\">\n",
       "  <thead>\n",
       "    <tr style=\"text-align: right;\">\n",
       "      <th></th>\n",
       "      <th>Id</th>\n",
       "      <th>DistrictId</th>\n",
       "      <th>Rooms</th>\n",
       "      <th>Square</th>\n",
       "      <th>LifeSquare</th>\n",
       "      <th>KitchenSquare</th>\n",
       "      <th>Floor</th>\n",
       "      <th>HouseFloor</th>\n",
       "      <th>HouseYear</th>\n",
       "      <th>Ecology_1</th>\n",
       "      <th>...</th>\n",
       "      <th>Price</th>\n",
       "      <th>Rooms_outlier</th>\n",
       "      <th>Square_outlier</th>\n",
       "      <th>KitchenSquare_outlier</th>\n",
       "      <th>LifeSquare_outlier</th>\n",
       "      <th>HouseFloor_outlier</th>\n",
       "      <th>HouseYear_outlier</th>\n",
       "      <th>LifeSquare_nan</th>\n",
       "      <th>age_cat</th>\n",
       "      <th>floor_cat</th>\n",
       "    </tr>\n",
       "  </thead>\n",
       "  <tbody>\n",
       "    <tr>\n",
       "      <th>0</th>\n",
       "      <td>11809</td>\n",
       "      <td>27</td>\n",
       "      <td>3.0</td>\n",
       "      <td>115.027311</td>\n",
       "      <td>71.892069</td>\n",
       "      <td>10.0</td>\n",
       "      <td>4</td>\n",
       "      <td>10.0</td>\n",
       "      <td>2014</td>\n",
       "      <td>0.075424</td>\n",
       "      <td>...</td>\n",
       "      <td>305018.871089</td>\n",
       "      <td>0</td>\n",
       "      <td>0</td>\n",
       "      <td>0</td>\n",
       "      <td>0</td>\n",
       "      <td>0</td>\n",
       "      <td>0</td>\n",
       "      <td>1</td>\n",
       "      <td>3</td>\n",
       "      <td>0</td>\n",
       "    </tr>\n",
       "    <tr>\n",
       "      <th>1</th>\n",
       "      <td>3013</td>\n",
       "      <td>22</td>\n",
       "      <td>1.0</td>\n",
       "      <td>39.832524</td>\n",
       "      <td>23.169223</td>\n",
       "      <td>8.0</td>\n",
       "      <td>7</td>\n",
       "      <td>8.0</td>\n",
       "      <td>1966</td>\n",
       "      <td>0.118537</td>\n",
       "      <td>...</td>\n",
       "      <td>177734.553407</td>\n",
       "      <td>0</td>\n",
       "      <td>0</td>\n",
       "      <td>0</td>\n",
       "      <td>0</td>\n",
       "      <td>0</td>\n",
       "      <td>0</td>\n",
       "      <td>0</td>\n",
       "      <td>0</td>\n",
       "      <td>1</td>\n",
       "    </tr>\n",
       "    <tr>\n",
       "      <th>2</th>\n",
       "      <td>8215</td>\n",
       "      <td>1</td>\n",
       "      <td>3.0</td>\n",
       "      <td>78.342215</td>\n",
       "      <td>47.671972</td>\n",
       "      <td>10.0</td>\n",
       "      <td>2</td>\n",
       "      <td>17.0</td>\n",
       "      <td>1988</td>\n",
       "      <td>0.025609</td>\n",
       "      <td>...</td>\n",
       "      <td>282078.720850</td>\n",
       "      <td>0</td>\n",
       "      <td>0</td>\n",
       "      <td>0</td>\n",
       "      <td>0</td>\n",
       "      <td>0</td>\n",
       "      <td>0</td>\n",
       "      <td>0</td>\n",
       "      <td>1</td>\n",
       "      <td>0</td>\n",
       "    </tr>\n",
       "    <tr>\n",
       "      <th>3</th>\n",
       "      <td>2352</td>\n",
       "      <td>1</td>\n",
       "      <td>1.0</td>\n",
       "      <td>40.409907</td>\n",
       "      <td>25.256192</td>\n",
       "      <td>6.0</td>\n",
       "      <td>10</td>\n",
       "      <td>22.0</td>\n",
       "      <td>1977</td>\n",
       "      <td>0.007122</td>\n",
       "      <td>...</td>\n",
       "      <td>168106.007630</td>\n",
       "      <td>0</td>\n",
       "      <td>0</td>\n",
       "      <td>1</td>\n",
       "      <td>0</td>\n",
       "      <td>0</td>\n",
       "      <td>0</td>\n",
       "      <td>1</td>\n",
       "      <td>0</td>\n",
       "      <td>2</td>\n",
       "    </tr>\n",
       "    <tr>\n",
       "      <th>4</th>\n",
       "      <td>13866</td>\n",
       "      <td>94</td>\n",
       "      <td>2.0</td>\n",
       "      <td>64.285067</td>\n",
       "      <td>38.562517</td>\n",
       "      <td>9.0</td>\n",
       "      <td>16</td>\n",
       "      <td>16.0</td>\n",
       "      <td>1972</td>\n",
       "      <td>0.282798</td>\n",
       "      <td>...</td>\n",
       "      <td>343995.102962</td>\n",
       "      <td>0</td>\n",
       "      <td>0</td>\n",
       "      <td>0</td>\n",
       "      <td>0</td>\n",
       "      <td>0</td>\n",
       "      <td>0</td>\n",
       "      <td>0</td>\n",
       "      <td>0</td>\n",
       "      <td>2</td>\n",
       "    </tr>\n",
       "  </tbody>\n",
       "</table>\n",
       "<p>5 rows × 28 columns</p>\n",
       "</div>"
      ],
      "text/plain": [
       "      Id DistrictId  Rooms      Square  LifeSquare  KitchenSquare  Floor  \\\n",
       "0  11809         27    3.0  115.027311   71.892069           10.0      4   \n",
       "1   3013         22    1.0   39.832524   23.169223            8.0      7   \n",
       "2   8215          1    3.0   78.342215   47.671972           10.0      2   \n",
       "3   2352          1    1.0   40.409907   25.256192            6.0     10   \n",
       "4  13866         94    2.0   64.285067   38.562517            9.0     16   \n",
       "\n",
       "   HouseFloor  HouseYear  Ecology_1  ...          Price  Rooms_outlier  \\\n",
       "0        10.0       2014   0.075424  ...  305018.871089              0   \n",
       "1         8.0       1966   0.118537  ...  177734.553407              0   \n",
       "2        17.0       1988   0.025609  ...  282078.720850              0   \n",
       "3        22.0       1977   0.007122  ...  168106.007630              0   \n",
       "4        16.0       1972   0.282798  ...  343995.102962              0   \n",
       "\n",
       "   Square_outlier  KitchenSquare_outlier  LifeSquare_outlier  \\\n",
       "0               0                      0                   0   \n",
       "1               0                      0                   0   \n",
       "2               0                      0                   0   \n",
       "3               0                      1                   0   \n",
       "4               0                      0                   0   \n",
       "\n",
       "   HouseFloor_outlier  HouseYear_outlier  LifeSquare_nan  age_cat  floor_cat  \n",
       "0                   0                  0               1        3          0  \n",
       "1                   0                  0               0        0          1  \n",
       "2                   0                  0               0        1          0  \n",
       "3                   0                  0               1        0          2  \n",
       "4                   0                  0               0        0          2  \n",
       "\n",
       "[5 rows x 28 columns]"
      ]
     },
     "execution_count": 135,
     "metadata": {},
     "output_type": "execute_result"
    }
   ],
   "source": [
    "df_train.head()"
   ]
  },
  {
   "cell_type": "code",
   "execution_count": 136,
   "id": "ca2ff12e",
   "metadata": {},
   "outputs": [],
   "source": [
    "By_Floor_Year_Price = df_train.groupby(['age_cat', 'floor_cat'], as_index=False).agg({'Price':'median'}).rename(columns={'Price':'ByFloorYearPrice'})"
   ]
  },
  {
   "cell_type": "code",
   "execution_count": 137,
   "id": "50b98ef8",
   "metadata": {},
   "outputs": [
    {
     "data": {
      "text/html": [
       "<div>\n",
       "<style scoped>\n",
       "    .dataframe tbody tr th:only-of-type {\n",
       "        vertical-align: middle;\n",
       "    }\n",
       "\n",
       "    .dataframe tbody tr th {\n",
       "        vertical-align: top;\n",
       "    }\n",
       "\n",
       "    .dataframe thead th {\n",
       "        text-align: right;\n",
       "    }\n",
       "</style>\n",
       "<table border=\"1\" class=\"dataframe\">\n",
       "  <thead>\n",
       "    <tr style=\"text-align: right;\">\n",
       "      <th></th>\n",
       "      <th>age_cat</th>\n",
       "      <th>floor_cat</th>\n",
       "      <th>ByFloorYearPrice</th>\n",
       "    </tr>\n",
       "  </thead>\n",
       "  <tbody>\n",
       "    <tr>\n",
       "      <th>0</th>\n",
       "      <td>0</td>\n",
       "      <td>0</td>\n",
       "      <td>184312.691552</td>\n",
       "    </tr>\n",
       "    <tr>\n",
       "      <th>1</th>\n",
       "      <td>0</td>\n",
       "      <td>1</td>\n",
       "      <td>194067.611300</td>\n",
       "    </tr>\n",
       "    <tr>\n",
       "      <th>2</th>\n",
       "      <td>0</td>\n",
       "      <td>2</td>\n",
       "      <td>180990.881881</td>\n",
       "    </tr>\n",
       "    <tr>\n",
       "      <th>3</th>\n",
       "      <td>0</td>\n",
       "      <td>3</td>\n",
       "      <td>186942.209779</td>\n",
       "    </tr>\n",
       "    <tr>\n",
       "      <th>4</th>\n",
       "      <td>0</td>\n",
       "      <td>4</td>\n",
       "      <td>391676.797636</td>\n",
       "    </tr>\n",
       "  </tbody>\n",
       "</table>\n",
       "</div>"
      ],
      "text/plain": [
       "   age_cat  floor_cat  ByFloorYearPrice\n",
       "0        0          0     184312.691552\n",
       "1        0          1     194067.611300\n",
       "2        0          2     180990.881881\n",
       "3        0          3     186942.209779\n",
       "4        0          4     391676.797636"
      ]
     },
     "execution_count": 137,
     "metadata": {},
     "output_type": "execute_result"
    }
   ],
   "source": [
    "By_Floor_Year_Price.head()"
   ]
  },
  {
   "cell_type": "code",
   "execution_count": 138,
   "id": "1c4b7f3d",
   "metadata": {},
   "outputs": [
    {
     "data": {
      "text/plain": [
       "0    5119\n",
       "2    2761\n",
       "1    1957\n",
       "3     157\n",
       "4       6\n",
       "Name: floor_cat, dtype: int64"
      ]
     },
     "execution_count": 138,
     "metadata": {},
     "output_type": "execute_result"
    }
   ],
   "source": [
    "df_train['floor_cat'].value_counts()"
   ]
  },
  {
   "cell_type": "code",
   "execution_count": 139,
   "id": "74f7a165",
   "metadata": {},
   "outputs": [],
   "source": [
    "df_train = df_train.merge(By_Floor_Year_Price, on=['age_cat', 'floor_cat'], how='left')"
   ]
  },
  {
   "cell_type": "code",
   "execution_count": 140,
   "id": "03101d78",
   "metadata": {
    "scrolled": true
   },
   "outputs": [
    {
     "data": {
      "text/html": [
       "<div>\n",
       "<style scoped>\n",
       "    .dataframe tbody tr th:only-of-type {\n",
       "        vertical-align: middle;\n",
       "    }\n",
       "\n",
       "    .dataframe tbody tr th {\n",
       "        vertical-align: top;\n",
       "    }\n",
       "\n",
       "    .dataframe thead th {\n",
       "        text-align: right;\n",
       "    }\n",
       "</style>\n",
       "<table border=\"1\" class=\"dataframe\">\n",
       "  <thead>\n",
       "    <tr style=\"text-align: right;\">\n",
       "      <th></th>\n",
       "      <th>Id</th>\n",
       "      <th>DistrictId</th>\n",
       "      <th>Rooms</th>\n",
       "      <th>Square</th>\n",
       "      <th>LifeSquare</th>\n",
       "      <th>KitchenSquare</th>\n",
       "      <th>Floor</th>\n",
       "      <th>HouseFloor</th>\n",
       "      <th>HouseYear</th>\n",
       "      <th>Ecology_1</th>\n",
       "      <th>...</th>\n",
       "      <th>Rooms_outlier</th>\n",
       "      <th>Square_outlier</th>\n",
       "      <th>KitchenSquare_outlier</th>\n",
       "      <th>LifeSquare_outlier</th>\n",
       "      <th>HouseFloor_outlier</th>\n",
       "      <th>HouseYear_outlier</th>\n",
       "      <th>LifeSquare_nan</th>\n",
       "      <th>age_cat</th>\n",
       "      <th>floor_cat</th>\n",
       "      <th>ByFloorYearPrice</th>\n",
       "    </tr>\n",
       "  </thead>\n",
       "  <tbody>\n",
       "    <tr>\n",
       "      <th>0</th>\n",
       "      <td>11809</td>\n",
       "      <td>27</td>\n",
       "      <td>3.0</td>\n",
       "      <td>115.027311</td>\n",
       "      <td>71.892069</td>\n",
       "      <td>10.0</td>\n",
       "      <td>4</td>\n",
       "      <td>10.0</td>\n",
       "      <td>2014</td>\n",
       "      <td>0.075424</td>\n",
       "      <td>...</td>\n",
       "      <td>0</td>\n",
       "      <td>0</td>\n",
       "      <td>0</td>\n",
       "      <td>0</td>\n",
       "      <td>0</td>\n",
       "      <td>0</td>\n",
       "      <td>1</td>\n",
       "      <td>3</td>\n",
       "      <td>0</td>\n",
       "      <td>195089.174745</td>\n",
       "    </tr>\n",
       "    <tr>\n",
       "      <th>1</th>\n",
       "      <td>3013</td>\n",
       "      <td>22</td>\n",
       "      <td>1.0</td>\n",
       "      <td>39.832524</td>\n",
       "      <td>23.169223</td>\n",
       "      <td>8.0</td>\n",
       "      <td>7</td>\n",
       "      <td>8.0</td>\n",
       "      <td>1966</td>\n",
       "      <td>0.118537</td>\n",
       "      <td>...</td>\n",
       "      <td>0</td>\n",
       "      <td>0</td>\n",
       "      <td>0</td>\n",
       "      <td>0</td>\n",
       "      <td>0</td>\n",
       "      <td>0</td>\n",
       "      <td>0</td>\n",
       "      <td>0</td>\n",
       "      <td>1</td>\n",
       "      <td>194067.611300</td>\n",
       "    </tr>\n",
       "    <tr>\n",
       "      <th>2</th>\n",
       "      <td>8215</td>\n",
       "      <td>1</td>\n",
       "      <td>3.0</td>\n",
       "      <td>78.342215</td>\n",
       "      <td>47.671972</td>\n",
       "      <td>10.0</td>\n",
       "      <td>2</td>\n",
       "      <td>17.0</td>\n",
       "      <td>1988</td>\n",
       "      <td>0.025609</td>\n",
       "      <td>...</td>\n",
       "      <td>0</td>\n",
       "      <td>0</td>\n",
       "      <td>0</td>\n",
       "      <td>0</td>\n",
       "      <td>0</td>\n",
       "      <td>0</td>\n",
       "      <td>0</td>\n",
       "      <td>1</td>\n",
       "      <td>0</td>\n",
       "      <td>211955.491385</td>\n",
       "    </tr>\n",
       "    <tr>\n",
       "      <th>3</th>\n",
       "      <td>2352</td>\n",
       "      <td>1</td>\n",
       "      <td>1.0</td>\n",
       "      <td>40.409907</td>\n",
       "      <td>25.256192</td>\n",
       "      <td>6.0</td>\n",
       "      <td>10</td>\n",
       "      <td>22.0</td>\n",
       "      <td>1977</td>\n",
       "      <td>0.007122</td>\n",
       "      <td>...</td>\n",
       "      <td>0</td>\n",
       "      <td>0</td>\n",
       "      <td>1</td>\n",
       "      <td>0</td>\n",
       "      <td>0</td>\n",
       "      <td>0</td>\n",
       "      <td>1</td>\n",
       "      <td>0</td>\n",
       "      <td>2</td>\n",
       "      <td>180990.881881</td>\n",
       "    </tr>\n",
       "    <tr>\n",
       "      <th>4</th>\n",
       "      <td>13866</td>\n",
       "      <td>94</td>\n",
       "      <td>2.0</td>\n",
       "      <td>64.285067</td>\n",
       "      <td>38.562517</td>\n",
       "      <td>9.0</td>\n",
       "      <td>16</td>\n",
       "      <td>16.0</td>\n",
       "      <td>1972</td>\n",
       "      <td>0.282798</td>\n",
       "      <td>...</td>\n",
       "      <td>0</td>\n",
       "      <td>0</td>\n",
       "      <td>0</td>\n",
       "      <td>0</td>\n",
       "      <td>0</td>\n",
       "      <td>0</td>\n",
       "      <td>0</td>\n",
       "      <td>0</td>\n",
       "      <td>2</td>\n",
       "      <td>180990.881881</td>\n",
       "    </tr>\n",
       "  </tbody>\n",
       "</table>\n",
       "<p>5 rows × 29 columns</p>\n",
       "</div>"
      ],
      "text/plain": [
       "      Id DistrictId  Rooms      Square  LifeSquare  KitchenSquare  Floor  \\\n",
       "0  11809         27    3.0  115.027311   71.892069           10.0      4   \n",
       "1   3013         22    1.0   39.832524   23.169223            8.0      7   \n",
       "2   8215          1    3.0   78.342215   47.671972           10.0      2   \n",
       "3   2352          1    1.0   40.409907   25.256192            6.0     10   \n",
       "4  13866         94    2.0   64.285067   38.562517            9.0     16   \n",
       "\n",
       "   HouseFloor  HouseYear  Ecology_1  ...  Rooms_outlier  Square_outlier  \\\n",
       "0        10.0       2014   0.075424  ...              0               0   \n",
       "1         8.0       1966   0.118537  ...              0               0   \n",
       "2        17.0       1988   0.025609  ...              0               0   \n",
       "3        22.0       1977   0.007122  ...              0               0   \n",
       "4        16.0       1972   0.282798  ...              0               0   \n",
       "\n",
       "   KitchenSquare_outlier  LifeSquare_outlier  HouseFloor_outlier  \\\n",
       "0                      0                   0                   0   \n",
       "1                      0                   0                   0   \n",
       "2                      0                   0                   0   \n",
       "3                      1                   0                   0   \n",
       "4                      0                   0                   0   \n",
       "\n",
       "   HouseYear_outlier  LifeSquare_nan  age_cat  floor_cat  ByFloorYearPrice  \n",
       "0                  0               1        3          0     195089.174745  \n",
       "1                  0               0        0          1     194067.611300  \n",
       "2                  0               0        1          0     211955.491385  \n",
       "3                  0               1        0          2     180990.881881  \n",
       "4                  0               0        0          2     180990.881881  \n",
       "\n",
       "[5 rows x 29 columns]"
      ]
     },
     "execution_count": 140,
     "metadata": {},
     "output_type": "execute_result"
    }
   ],
   "source": [
    "df_train.head()"
   ]
  },
  {
   "cell_type": "markdown",
   "id": "c4c3d105",
   "metadata": {},
   "source": [
    "##### DistrictSize"
   ]
  },
  {
   "cell_type": "code",
   "execution_count": 141,
   "id": "8a3edca8",
   "metadata": {},
   "outputs": [],
   "source": [
    "district_size = df_train['DistrictId'].value_counts().reset_index()\\\n",
    "                    .rename(columns={'index':'DistrictId', 'DistrictId':'DistrictSize'})"
   ]
  },
  {
   "cell_type": "code",
   "execution_count": 142,
   "id": "b0c9beaa",
   "metadata": {},
   "outputs": [
    {
     "data": {
      "text/html": [
       "<div>\n",
       "<style scoped>\n",
       "    .dataframe tbody tr th:only-of-type {\n",
       "        vertical-align: middle;\n",
       "    }\n",
       "\n",
       "    .dataframe tbody tr th {\n",
       "        vertical-align: top;\n",
       "    }\n",
       "\n",
       "    .dataframe thead th {\n",
       "        text-align: right;\n",
       "    }\n",
       "</style>\n",
       "<table border=\"1\" class=\"dataframe\">\n",
       "  <thead>\n",
       "    <tr style=\"text-align: right;\">\n",
       "      <th></th>\n",
       "      <th>DistrictId</th>\n",
       "      <th>DistrictSize</th>\n",
       "    </tr>\n",
       "  </thead>\n",
       "  <tbody>\n",
       "    <tr>\n",
       "      <th>0</th>\n",
       "      <td>27</td>\n",
       "      <td>851</td>\n",
       "    </tr>\n",
       "    <tr>\n",
       "      <th>1</th>\n",
       "      <td>1</td>\n",
       "      <td>652</td>\n",
       "    </tr>\n",
       "    <tr>\n",
       "      <th>2</th>\n",
       "      <td>23</td>\n",
       "      <td>565</td>\n",
       "    </tr>\n",
       "    <tr>\n",
       "      <th>3</th>\n",
       "      <td>6</td>\n",
       "      <td>511</td>\n",
       "    </tr>\n",
       "    <tr>\n",
       "      <th>4</th>\n",
       "      <td>9</td>\n",
       "      <td>294</td>\n",
       "    </tr>\n",
       "  </tbody>\n",
       "</table>\n",
       "</div>"
      ],
      "text/plain": [
       "  DistrictId  DistrictSize\n",
       "0         27           851\n",
       "1          1           652\n",
       "2         23           565\n",
       "3          6           511\n",
       "4          9           294"
      ]
     },
     "execution_count": 142,
     "metadata": {},
     "output_type": "execute_result"
    }
   ],
   "source": [
    "district_size.head()"
   ]
  },
  {
   "cell_type": "code",
   "execution_count": 143,
   "id": "e8883b46",
   "metadata": {},
   "outputs": [],
   "source": [
    "df_train = df_train.merge(district_size, on='DistrictId', how='left')"
   ]
  },
  {
   "cell_type": "code",
   "execution_count": 144,
   "id": "853c28e0",
   "metadata": {
    "scrolled": false
   },
   "outputs": [
    {
     "data": {
      "text/html": [
       "<div>\n",
       "<style scoped>\n",
       "    .dataframe tbody tr th:only-of-type {\n",
       "        vertical-align: middle;\n",
       "    }\n",
       "\n",
       "    .dataframe tbody tr th {\n",
       "        vertical-align: top;\n",
       "    }\n",
       "\n",
       "    .dataframe thead th {\n",
       "        text-align: right;\n",
       "    }\n",
       "</style>\n",
       "<table border=\"1\" class=\"dataframe\">\n",
       "  <thead>\n",
       "    <tr style=\"text-align: right;\">\n",
       "      <th></th>\n",
       "      <th>Id</th>\n",
       "      <th>DistrictId</th>\n",
       "      <th>Rooms</th>\n",
       "      <th>Square</th>\n",
       "      <th>LifeSquare</th>\n",
       "      <th>KitchenSquare</th>\n",
       "      <th>Floor</th>\n",
       "      <th>HouseFloor</th>\n",
       "      <th>HouseYear</th>\n",
       "      <th>Ecology_1</th>\n",
       "      <th>...</th>\n",
       "      <th>Square_outlier</th>\n",
       "      <th>KitchenSquare_outlier</th>\n",
       "      <th>LifeSquare_outlier</th>\n",
       "      <th>HouseFloor_outlier</th>\n",
       "      <th>HouseYear_outlier</th>\n",
       "      <th>LifeSquare_nan</th>\n",
       "      <th>age_cat</th>\n",
       "      <th>floor_cat</th>\n",
       "      <th>ByFloorYearPrice</th>\n",
       "      <th>DistrictSize</th>\n",
       "    </tr>\n",
       "  </thead>\n",
       "  <tbody>\n",
       "    <tr>\n",
       "      <th>0</th>\n",
       "      <td>11809</td>\n",
       "      <td>27</td>\n",
       "      <td>3.0</td>\n",
       "      <td>115.027311</td>\n",
       "      <td>71.892069</td>\n",
       "      <td>10.0</td>\n",
       "      <td>4</td>\n",
       "      <td>10.0</td>\n",
       "      <td>2014</td>\n",
       "      <td>0.075424</td>\n",
       "      <td>...</td>\n",
       "      <td>0</td>\n",
       "      <td>0</td>\n",
       "      <td>0</td>\n",
       "      <td>0</td>\n",
       "      <td>0</td>\n",
       "      <td>1</td>\n",
       "      <td>3</td>\n",
       "      <td>0</td>\n",
       "      <td>195089.174745</td>\n",
       "      <td>851</td>\n",
       "    </tr>\n",
       "    <tr>\n",
       "      <th>1</th>\n",
       "      <td>3013</td>\n",
       "      <td>22</td>\n",
       "      <td>1.0</td>\n",
       "      <td>39.832524</td>\n",
       "      <td>23.169223</td>\n",
       "      <td>8.0</td>\n",
       "      <td>7</td>\n",
       "      <td>8.0</td>\n",
       "      <td>1966</td>\n",
       "      <td>0.118537</td>\n",
       "      <td>...</td>\n",
       "      <td>0</td>\n",
       "      <td>0</td>\n",
       "      <td>0</td>\n",
       "      <td>0</td>\n",
       "      <td>0</td>\n",
       "      <td>0</td>\n",
       "      <td>0</td>\n",
       "      <td>1</td>\n",
       "      <td>194067.611300</td>\n",
       "      <td>78</td>\n",
       "    </tr>\n",
       "    <tr>\n",
       "      <th>2</th>\n",
       "      <td>8215</td>\n",
       "      <td>1</td>\n",
       "      <td>3.0</td>\n",
       "      <td>78.342215</td>\n",
       "      <td>47.671972</td>\n",
       "      <td>10.0</td>\n",
       "      <td>2</td>\n",
       "      <td>17.0</td>\n",
       "      <td>1988</td>\n",
       "      <td>0.025609</td>\n",
       "      <td>...</td>\n",
       "      <td>0</td>\n",
       "      <td>0</td>\n",
       "      <td>0</td>\n",
       "      <td>0</td>\n",
       "      <td>0</td>\n",
       "      <td>0</td>\n",
       "      <td>1</td>\n",
       "      <td>0</td>\n",
       "      <td>211955.491385</td>\n",
       "      <td>652</td>\n",
       "    </tr>\n",
       "    <tr>\n",
       "      <th>3</th>\n",
       "      <td>2352</td>\n",
       "      <td>1</td>\n",
       "      <td>1.0</td>\n",
       "      <td>40.409907</td>\n",
       "      <td>25.256192</td>\n",
       "      <td>6.0</td>\n",
       "      <td>10</td>\n",
       "      <td>22.0</td>\n",
       "      <td>1977</td>\n",
       "      <td>0.007122</td>\n",
       "      <td>...</td>\n",
       "      <td>0</td>\n",
       "      <td>1</td>\n",
       "      <td>0</td>\n",
       "      <td>0</td>\n",
       "      <td>0</td>\n",
       "      <td>1</td>\n",
       "      <td>0</td>\n",
       "      <td>2</td>\n",
       "      <td>180990.881881</td>\n",
       "      <td>652</td>\n",
       "    </tr>\n",
       "    <tr>\n",
       "      <th>4</th>\n",
       "      <td>13866</td>\n",
       "      <td>94</td>\n",
       "      <td>2.0</td>\n",
       "      <td>64.285067</td>\n",
       "      <td>38.562517</td>\n",
       "      <td>9.0</td>\n",
       "      <td>16</td>\n",
       "      <td>16.0</td>\n",
       "      <td>1972</td>\n",
       "      <td>0.282798</td>\n",
       "      <td>...</td>\n",
       "      <td>0</td>\n",
       "      <td>0</td>\n",
       "      <td>0</td>\n",
       "      <td>0</td>\n",
       "      <td>0</td>\n",
       "      <td>0</td>\n",
       "      <td>0</td>\n",
       "      <td>2</td>\n",
       "      <td>180990.881881</td>\n",
       "      <td>89</td>\n",
       "    </tr>\n",
       "    <tr>\n",
       "      <th>...</th>\n",
       "      <td>...</td>\n",
       "      <td>...</td>\n",
       "      <td>...</td>\n",
       "      <td>...</td>\n",
       "      <td>...</td>\n",
       "      <td>...</td>\n",
       "      <td>...</td>\n",
       "      <td>...</td>\n",
       "      <td>...</td>\n",
       "      <td>...</td>\n",
       "      <td>...</td>\n",
       "      <td>...</td>\n",
       "      <td>...</td>\n",
       "      <td>...</td>\n",
       "      <td>...</td>\n",
       "      <td>...</td>\n",
       "      <td>...</td>\n",
       "      <td>...</td>\n",
       "      <td>...</td>\n",
       "      <td>...</td>\n",
       "      <td>...</td>\n",
       "    </tr>\n",
       "    <tr>\n",
       "      <th>9995</th>\n",
       "      <td>1260</td>\n",
       "      <td>61</td>\n",
       "      <td>2.0</td>\n",
       "      <td>49.090728</td>\n",
       "      <td>33.272626</td>\n",
       "      <td>6.0</td>\n",
       "      <td>3</td>\n",
       "      <td>12.0</td>\n",
       "      <td>1981</td>\n",
       "      <td>0.300323</td>\n",
       "      <td>...</td>\n",
       "      <td>0</td>\n",
       "      <td>0</td>\n",
       "      <td>0</td>\n",
       "      <td>0</td>\n",
       "      <td>0</td>\n",
       "      <td>0</td>\n",
       "      <td>1</td>\n",
       "      <td>0</td>\n",
       "      <td>211955.491385</td>\n",
       "      <td>118</td>\n",
       "    </tr>\n",
       "    <tr>\n",
       "      <th>9996</th>\n",
       "      <td>16265</td>\n",
       "      <td>27</td>\n",
       "      <td>2.0</td>\n",
       "      <td>64.307684</td>\n",
       "      <td>37.038420</td>\n",
       "      <td>9.0</td>\n",
       "      <td>13</td>\n",
       "      <td>13.0</td>\n",
       "      <td>1977</td>\n",
       "      <td>0.072158</td>\n",
       "      <td>...</td>\n",
       "      <td>0</td>\n",
       "      <td>0</td>\n",
       "      <td>0</td>\n",
       "      <td>1</td>\n",
       "      <td>0</td>\n",
       "      <td>0</td>\n",
       "      <td>0</td>\n",
       "      <td>2</td>\n",
       "      <td>180990.881881</td>\n",
       "      <td>851</td>\n",
       "    </tr>\n",
       "    <tr>\n",
       "      <th>9997</th>\n",
       "      <td>2795</td>\n",
       "      <td>178</td>\n",
       "      <td>1.0</td>\n",
       "      <td>29.648057</td>\n",
       "      <td>16.555363</td>\n",
       "      <td>5.0</td>\n",
       "      <td>3</td>\n",
       "      <td>5.0</td>\n",
       "      <td>1958</td>\n",
       "      <td>0.460556</td>\n",
       "      <td>...</td>\n",
       "      <td>0</td>\n",
       "      <td>0</td>\n",
       "      <td>0</td>\n",
       "      <td>0</td>\n",
       "      <td>0</td>\n",
       "      <td>0</td>\n",
       "      <td>0</td>\n",
       "      <td>0</td>\n",
       "      <td>184312.691552</td>\n",
       "      <td>7</td>\n",
       "    </tr>\n",
       "    <tr>\n",
       "      <th>9998</th>\n",
       "      <td>14561</td>\n",
       "      <td>21</td>\n",
       "      <td>1.0</td>\n",
       "      <td>32.330292</td>\n",
       "      <td>22.326870</td>\n",
       "      <td>5.0</td>\n",
       "      <td>3</td>\n",
       "      <td>9.0</td>\n",
       "      <td>1969</td>\n",
       "      <td>0.194489</td>\n",
       "      <td>...</td>\n",
       "      <td>0</td>\n",
       "      <td>0</td>\n",
       "      <td>0</td>\n",
       "      <td>0</td>\n",
       "      <td>0</td>\n",
       "      <td>0</td>\n",
       "      <td>0</td>\n",
       "      <td>0</td>\n",
       "      <td>184312.691552</td>\n",
       "      <td>165</td>\n",
       "    </tr>\n",
       "    <tr>\n",
       "      <th>9999</th>\n",
       "      <td>7202</td>\n",
       "      <td>94</td>\n",
       "      <td>1.0</td>\n",
       "      <td>35.815476</td>\n",
       "      <td>22.301367</td>\n",
       "      <td>6.0</td>\n",
       "      <td>9</td>\n",
       "      <td>9.0</td>\n",
       "      <td>1975</td>\n",
       "      <td>0.127376</td>\n",
       "      <td>...</td>\n",
       "      <td>0</td>\n",
       "      <td>0</td>\n",
       "      <td>0</td>\n",
       "      <td>0</td>\n",
       "      <td>0</td>\n",
       "      <td>0</td>\n",
       "      <td>0</td>\n",
       "      <td>1</td>\n",
       "      <td>194067.611300</td>\n",
       "      <td>89</td>\n",
       "    </tr>\n",
       "  </tbody>\n",
       "</table>\n",
       "<p>10000 rows × 30 columns</p>\n",
       "</div>"
      ],
      "text/plain": [
       "         Id DistrictId  Rooms      Square  LifeSquare  KitchenSquare  Floor  \\\n",
       "0     11809         27    3.0  115.027311   71.892069           10.0      4   \n",
       "1      3013         22    1.0   39.832524   23.169223            8.0      7   \n",
       "2      8215          1    3.0   78.342215   47.671972           10.0      2   \n",
       "3      2352          1    1.0   40.409907   25.256192            6.0     10   \n",
       "4     13866         94    2.0   64.285067   38.562517            9.0     16   \n",
       "...     ...        ...    ...         ...         ...            ...    ...   \n",
       "9995   1260         61    2.0   49.090728   33.272626            6.0      3   \n",
       "9996  16265         27    2.0   64.307684   37.038420            9.0     13   \n",
       "9997   2795        178    1.0   29.648057   16.555363            5.0      3   \n",
       "9998  14561         21    1.0   32.330292   22.326870            5.0      3   \n",
       "9999   7202         94    1.0   35.815476   22.301367            6.0      9   \n",
       "\n",
       "      HouseFloor  HouseYear  Ecology_1  ...  Square_outlier  \\\n",
       "0           10.0       2014   0.075424  ...               0   \n",
       "1            8.0       1966   0.118537  ...               0   \n",
       "2           17.0       1988   0.025609  ...               0   \n",
       "3           22.0       1977   0.007122  ...               0   \n",
       "4           16.0       1972   0.282798  ...               0   \n",
       "...          ...        ...        ...  ...             ...   \n",
       "9995        12.0       1981   0.300323  ...               0   \n",
       "9996        13.0       1977   0.072158  ...               0   \n",
       "9997         5.0       1958   0.460556  ...               0   \n",
       "9998         9.0       1969   0.194489  ...               0   \n",
       "9999         9.0       1975   0.127376  ...               0   \n",
       "\n",
       "      KitchenSquare_outlier  LifeSquare_outlier  HouseFloor_outlier  \\\n",
       "0                         0                   0                   0   \n",
       "1                         0                   0                   0   \n",
       "2                         0                   0                   0   \n",
       "3                         1                   0                   0   \n",
       "4                         0                   0                   0   \n",
       "...                     ...                 ...                 ...   \n",
       "9995                      0                   0                   0   \n",
       "9996                      0                   0                   1   \n",
       "9997                      0                   0                   0   \n",
       "9998                      0                   0                   0   \n",
       "9999                      0                   0                   0   \n",
       "\n",
       "      HouseYear_outlier  LifeSquare_nan  age_cat  floor_cat  ByFloorYearPrice  \\\n",
       "0                     0               1        3          0     195089.174745   \n",
       "1                     0               0        0          1     194067.611300   \n",
       "2                     0               0        1          0     211955.491385   \n",
       "3                     0               1        0          2     180990.881881   \n",
       "4                     0               0        0          2     180990.881881   \n",
       "...                 ...             ...      ...        ...               ...   \n",
       "9995                  0               0        1          0     211955.491385   \n",
       "9996                  0               0        0          2     180990.881881   \n",
       "9997                  0               0        0          0     184312.691552   \n",
       "9998                  0               0        0          0     184312.691552   \n",
       "9999                  0               0        0          1     194067.611300   \n",
       "\n",
       "      DistrictSize  \n",
       "0              851  \n",
       "1               78  \n",
       "2              652  \n",
       "3              652  \n",
       "4               89  \n",
       "...            ...  \n",
       "9995           118  \n",
       "9996           851  \n",
       "9997             7  \n",
       "9998           165  \n",
       "9999            89  \n",
       "\n",
       "[10000 rows x 30 columns]"
      ]
     },
     "execution_count": 144,
     "metadata": {},
     "output_type": "execute_result"
    }
   ],
   "source": [
    "df_train"
   ]
  },
  {
   "cell_type": "markdown",
   "id": "d539a5ff",
   "metadata": {},
   "source": [
    "#### By_Shops_Social_Price"
   ]
  },
  {
   "cell_type": "markdown",
   "id": "eab10f75",
   "metadata": {},
   "source": [
    "Видно по корреляционной матрице хорошую зависимость Shops_1 и Social_1. Создадим новый признак от Price."
   ]
  },
  {
   "cell_type": "code",
   "execution_count": 145,
   "id": "b6d29101",
   "metadata": {},
   "outputs": [],
   "source": [
    "By_Shops_Social_Price = df_train.groupby(['Shops_1', 'Social_1'], as_index=False).agg({'Price':'median'}).rename(columns={'Price':'ByShopsSocialPrice'})"
   ]
  },
  {
   "cell_type": "code",
   "execution_count": 146,
   "id": "1854f7e7",
   "metadata": {},
   "outputs": [],
   "source": [
    "df_train = df_train.merge(By_Shops_Social_Price, on=['Shops_1', 'Social_1'], how='left')"
   ]
  },
  {
   "cell_type": "markdown",
   "id": "80ac1058",
   "metadata": {},
   "source": [
    "#### ByHelthcare2Social1Price"
   ]
  },
  {
   "cell_type": "markdown",
   "id": "27680112",
   "metadata": {},
   "source": [
    "Также хорошо прослеживается по корреляционной матрице зависимость Helthcare_2 и Social_1. Создадим новый признак от Price."
   ]
  },
  {
   "cell_type": "code",
   "execution_count": 147,
   "id": "64962148",
   "metadata": {},
   "outputs": [],
   "source": [
    "By_Helthcare2_Social1_Price = df_train.groupby(['Helthcare_2', 'Social_1'], as_index=False).agg({'Price':'median'}).rename(columns={'Price':'ByHelthcare2Social1Price'})"
   ]
  },
  {
   "cell_type": "code",
   "execution_count": 148,
   "id": "af306b8e",
   "metadata": {},
   "outputs": [],
   "source": [
    "df_train = df_train.merge(By_Helthcare2_Social1_Price, on=['Helthcare_2', 'Social_1'], how='left')"
   ]
  },
  {
   "cell_type": "code",
   "execution_count": 149,
   "id": "ae013d62",
   "metadata": {},
   "outputs": [
    {
     "data": {
      "text/html": [
       "<div>\n",
       "<style scoped>\n",
       "    .dataframe tbody tr th:only-of-type {\n",
       "        vertical-align: middle;\n",
       "    }\n",
       "\n",
       "    .dataframe tbody tr th {\n",
       "        vertical-align: top;\n",
       "    }\n",
       "\n",
       "    .dataframe thead th {\n",
       "        text-align: right;\n",
       "    }\n",
       "</style>\n",
       "<table border=\"1\" class=\"dataframe\">\n",
       "  <thead>\n",
       "    <tr style=\"text-align: right;\">\n",
       "      <th></th>\n",
       "      <th>Id</th>\n",
       "      <th>DistrictId</th>\n",
       "      <th>Rooms</th>\n",
       "      <th>Square</th>\n",
       "      <th>LifeSquare</th>\n",
       "      <th>KitchenSquare</th>\n",
       "      <th>Floor</th>\n",
       "      <th>HouseFloor</th>\n",
       "      <th>HouseYear</th>\n",
       "      <th>Ecology_1</th>\n",
       "      <th>...</th>\n",
       "      <th>LifeSquare_outlier</th>\n",
       "      <th>HouseFloor_outlier</th>\n",
       "      <th>HouseYear_outlier</th>\n",
       "      <th>LifeSquare_nan</th>\n",
       "      <th>age_cat</th>\n",
       "      <th>floor_cat</th>\n",
       "      <th>ByFloorYearPrice</th>\n",
       "      <th>DistrictSize</th>\n",
       "      <th>ByShopsSocialPrice</th>\n",
       "      <th>ByHelthcare2Social1Price</th>\n",
       "    </tr>\n",
       "  </thead>\n",
       "  <tbody>\n",
       "    <tr>\n",
       "      <th>0</th>\n",
       "      <td>11809</td>\n",
       "      <td>27</td>\n",
       "      <td>3.0</td>\n",
       "      <td>115.027311</td>\n",
       "      <td>71.892069</td>\n",
       "      <td>10.0</td>\n",
       "      <td>4</td>\n",
       "      <td>10.0</td>\n",
       "      <td>2014</td>\n",
       "      <td>0.075424</td>\n",
       "      <td>...</td>\n",
       "      <td>0</td>\n",
       "      <td>0</td>\n",
       "      <td>0</td>\n",
       "      <td>1</td>\n",
       "      <td>3</td>\n",
       "      <td>0</td>\n",
       "      <td>195089.174745</td>\n",
       "      <td>851</td>\n",
       "      <td>158578.239161</td>\n",
       "      <td>155389.000353</td>\n",
       "    </tr>\n",
       "    <tr>\n",
       "      <th>1</th>\n",
       "      <td>3013</td>\n",
       "      <td>22</td>\n",
       "      <td>1.0</td>\n",
       "      <td>39.832524</td>\n",
       "      <td>23.169223</td>\n",
       "      <td>8.0</td>\n",
       "      <td>7</td>\n",
       "      <td>8.0</td>\n",
       "      <td>1966</td>\n",
       "      <td>0.118537</td>\n",
       "      <td>...</td>\n",
       "      <td>0</td>\n",
       "      <td>0</td>\n",
       "      <td>0</td>\n",
       "      <td>0</td>\n",
       "      <td>0</td>\n",
       "      <td>1</td>\n",
       "      <td>194067.611300</td>\n",
       "      <td>78</td>\n",
       "      <td>186161.900526</td>\n",
       "      <td>186809.604691</td>\n",
       "    </tr>\n",
       "    <tr>\n",
       "      <th>2</th>\n",
       "      <td>8215</td>\n",
       "      <td>1</td>\n",
       "      <td>3.0</td>\n",
       "      <td>78.342215</td>\n",
       "      <td>47.671972</td>\n",
       "      <td>10.0</td>\n",
       "      <td>2</td>\n",
       "      <td>17.0</td>\n",
       "      <td>1988</td>\n",
       "      <td>0.025609</td>\n",
       "      <td>...</td>\n",
       "      <td>0</td>\n",
       "      <td>0</td>\n",
       "      <td>0</td>\n",
       "      <td>0</td>\n",
       "      <td>1</td>\n",
       "      <td>0</td>\n",
       "      <td>211955.491385</td>\n",
       "      <td>652</td>\n",
       "      <td>205993.377137</td>\n",
       "      <td>205993.377137</td>\n",
       "    </tr>\n",
       "    <tr>\n",
       "      <th>3</th>\n",
       "      <td>2352</td>\n",
       "      <td>1</td>\n",
       "      <td>1.0</td>\n",
       "      <td>40.409907</td>\n",
       "      <td>25.256192</td>\n",
       "      <td>6.0</td>\n",
       "      <td>10</td>\n",
       "      <td>22.0</td>\n",
       "      <td>1977</td>\n",
       "      <td>0.007122</td>\n",
       "      <td>...</td>\n",
       "      <td>0</td>\n",
       "      <td>0</td>\n",
       "      <td>0</td>\n",
       "      <td>1</td>\n",
       "      <td>0</td>\n",
       "      <td>2</td>\n",
       "      <td>180990.881881</td>\n",
       "      <td>652</td>\n",
       "      <td>183882.806975</td>\n",
       "      <td>175732.068626</td>\n",
       "    </tr>\n",
       "    <tr>\n",
       "      <th>4</th>\n",
       "      <td>13866</td>\n",
       "      <td>94</td>\n",
       "      <td>2.0</td>\n",
       "      <td>64.285067</td>\n",
       "      <td>38.562517</td>\n",
       "      <td>9.0</td>\n",
       "      <td>16</td>\n",
       "      <td>16.0</td>\n",
       "      <td>1972</td>\n",
       "      <td>0.282798</td>\n",
       "      <td>...</td>\n",
       "      <td>0</td>\n",
       "      <td>0</td>\n",
       "      <td>0</td>\n",
       "      <td>0</td>\n",
       "      <td>0</td>\n",
       "      <td>2</td>\n",
       "      <td>180990.881881</td>\n",
       "      <td>89</td>\n",
       "      <td>203153.518639</td>\n",
       "      <td>209395.368656</td>\n",
       "    </tr>\n",
       "    <tr>\n",
       "      <th>...</th>\n",
       "      <td>...</td>\n",
       "      <td>...</td>\n",
       "      <td>...</td>\n",
       "      <td>...</td>\n",
       "      <td>...</td>\n",
       "      <td>...</td>\n",
       "      <td>...</td>\n",
       "      <td>...</td>\n",
       "      <td>...</td>\n",
       "      <td>...</td>\n",
       "      <td>...</td>\n",
       "      <td>...</td>\n",
       "      <td>...</td>\n",
       "      <td>...</td>\n",
       "      <td>...</td>\n",
       "      <td>...</td>\n",
       "      <td>...</td>\n",
       "      <td>...</td>\n",
       "      <td>...</td>\n",
       "      <td>...</td>\n",
       "      <td>...</td>\n",
       "    </tr>\n",
       "    <tr>\n",
       "      <th>9995</th>\n",
       "      <td>1260</td>\n",
       "      <td>61</td>\n",
       "      <td>2.0</td>\n",
       "      <td>49.090728</td>\n",
       "      <td>33.272626</td>\n",
       "      <td>6.0</td>\n",
       "      <td>3</td>\n",
       "      <td>12.0</td>\n",
       "      <td>1981</td>\n",
       "      <td>0.300323</td>\n",
       "      <td>...</td>\n",
       "      <td>0</td>\n",
       "      <td>0</td>\n",
       "      <td>0</td>\n",
       "      <td>0</td>\n",
       "      <td>1</td>\n",
       "      <td>0</td>\n",
       "      <td>211955.491385</td>\n",
       "      <td>118</td>\n",
       "      <td>223982.521830</td>\n",
       "      <td>230395.351017</td>\n",
       "    </tr>\n",
       "    <tr>\n",
       "      <th>9996</th>\n",
       "      <td>16265</td>\n",
       "      <td>27</td>\n",
       "      <td>2.0</td>\n",
       "      <td>64.307684</td>\n",
       "      <td>37.038420</td>\n",
       "      <td>9.0</td>\n",
       "      <td>13</td>\n",
       "      <td>13.0</td>\n",
       "      <td>1977</td>\n",
       "      <td>0.072158</td>\n",
       "      <td>...</td>\n",
       "      <td>0</td>\n",
       "      <td>1</td>\n",
       "      <td>0</td>\n",
       "      <td>0</td>\n",
       "      <td>0</td>\n",
       "      <td>2</td>\n",
       "      <td>180990.881881</td>\n",
       "      <td>851</td>\n",
       "      <td>161357.589813</td>\n",
       "      <td>161357.589813</td>\n",
       "    </tr>\n",
       "    <tr>\n",
       "      <th>9997</th>\n",
       "      <td>2795</td>\n",
       "      <td>178</td>\n",
       "      <td>1.0</td>\n",
       "      <td>29.648057</td>\n",
       "      <td>16.555363</td>\n",
       "      <td>5.0</td>\n",
       "      <td>3</td>\n",
       "      <td>5.0</td>\n",
       "      <td>1958</td>\n",
       "      <td>0.460556</td>\n",
       "      <td>...</td>\n",
       "      <td>0</td>\n",
       "      <td>0</td>\n",
       "      <td>0</td>\n",
       "      <td>0</td>\n",
       "      <td>0</td>\n",
       "      <td>0</td>\n",
       "      <td>184312.691552</td>\n",
       "      <td>7</td>\n",
       "      <td>244852.013738</td>\n",
       "      <td>296062.000206</td>\n",
       "    </tr>\n",
       "    <tr>\n",
       "      <th>9998</th>\n",
       "      <td>14561</td>\n",
       "      <td>21</td>\n",
       "      <td>1.0</td>\n",
       "      <td>32.330292</td>\n",
       "      <td>22.326870</td>\n",
       "      <td>5.0</td>\n",
       "      <td>3</td>\n",
       "      <td>9.0</td>\n",
       "      <td>1969</td>\n",
       "      <td>0.194489</td>\n",
       "      <td>...</td>\n",
       "      <td>0</td>\n",
       "      <td>0</td>\n",
       "      <td>0</td>\n",
       "      <td>0</td>\n",
       "      <td>0</td>\n",
       "      <td>0</td>\n",
       "      <td>184312.691552</td>\n",
       "      <td>165</td>\n",
       "      <td>192744.316827</td>\n",
       "      <td>192744.316827</td>\n",
       "    </tr>\n",
       "    <tr>\n",
       "      <th>9999</th>\n",
       "      <td>7202</td>\n",
       "      <td>94</td>\n",
       "      <td>1.0</td>\n",
       "      <td>35.815476</td>\n",
       "      <td>22.301367</td>\n",
       "      <td>6.0</td>\n",
       "      <td>9</td>\n",
       "      <td>9.0</td>\n",
       "      <td>1975</td>\n",
       "      <td>0.127376</td>\n",
       "      <td>...</td>\n",
       "      <td>0</td>\n",
       "      <td>0</td>\n",
       "      <td>0</td>\n",
       "      <td>0</td>\n",
       "      <td>0</td>\n",
       "      <td>1</td>\n",
       "      <td>194067.611300</td>\n",
       "      <td>89</td>\n",
       "      <td>207534.659023</td>\n",
       "      <td>207534.659023</td>\n",
       "    </tr>\n",
       "  </tbody>\n",
       "</table>\n",
       "<p>10000 rows × 32 columns</p>\n",
       "</div>"
      ],
      "text/plain": [
       "         Id DistrictId  Rooms      Square  LifeSquare  KitchenSquare  Floor  \\\n",
       "0     11809         27    3.0  115.027311   71.892069           10.0      4   \n",
       "1      3013         22    1.0   39.832524   23.169223            8.0      7   \n",
       "2      8215          1    3.0   78.342215   47.671972           10.0      2   \n",
       "3      2352          1    1.0   40.409907   25.256192            6.0     10   \n",
       "4     13866         94    2.0   64.285067   38.562517            9.0     16   \n",
       "...     ...        ...    ...         ...         ...            ...    ...   \n",
       "9995   1260         61    2.0   49.090728   33.272626            6.0      3   \n",
       "9996  16265         27    2.0   64.307684   37.038420            9.0     13   \n",
       "9997   2795        178    1.0   29.648057   16.555363            5.0      3   \n",
       "9998  14561         21    1.0   32.330292   22.326870            5.0      3   \n",
       "9999   7202         94    1.0   35.815476   22.301367            6.0      9   \n",
       "\n",
       "      HouseFloor  HouseYear  Ecology_1  ...  LifeSquare_outlier  \\\n",
       "0           10.0       2014   0.075424  ...                   0   \n",
       "1            8.0       1966   0.118537  ...                   0   \n",
       "2           17.0       1988   0.025609  ...                   0   \n",
       "3           22.0       1977   0.007122  ...                   0   \n",
       "4           16.0       1972   0.282798  ...                   0   \n",
       "...          ...        ...        ...  ...                 ...   \n",
       "9995        12.0       1981   0.300323  ...                   0   \n",
       "9996        13.0       1977   0.072158  ...                   0   \n",
       "9997         5.0       1958   0.460556  ...                   0   \n",
       "9998         9.0       1969   0.194489  ...                   0   \n",
       "9999         9.0       1975   0.127376  ...                   0   \n",
       "\n",
       "      HouseFloor_outlier  HouseYear_outlier  LifeSquare_nan  age_cat  \\\n",
       "0                      0                  0               1        3   \n",
       "1                      0                  0               0        0   \n",
       "2                      0                  0               0        1   \n",
       "3                      0                  0               1        0   \n",
       "4                      0                  0               0        0   \n",
       "...                  ...                ...             ...      ...   \n",
       "9995                   0                  0               0        1   \n",
       "9996                   1                  0               0        0   \n",
       "9997                   0                  0               0        0   \n",
       "9998                   0                  0               0        0   \n",
       "9999                   0                  0               0        0   \n",
       "\n",
       "      floor_cat  ByFloorYearPrice  DistrictSize  ByShopsSocialPrice  \\\n",
       "0             0     195089.174745           851       158578.239161   \n",
       "1             1     194067.611300            78       186161.900526   \n",
       "2             0     211955.491385           652       205993.377137   \n",
       "3             2     180990.881881           652       183882.806975   \n",
       "4             2     180990.881881            89       203153.518639   \n",
       "...         ...               ...           ...                 ...   \n",
       "9995          0     211955.491385           118       223982.521830   \n",
       "9996          2     180990.881881           851       161357.589813   \n",
       "9997          0     184312.691552             7       244852.013738   \n",
       "9998          0     184312.691552           165       192744.316827   \n",
       "9999          1     194067.611300            89       207534.659023   \n",
       "\n",
       "      ByHelthcare2Social1Price  \n",
       "0                155389.000353  \n",
       "1                186809.604691  \n",
       "2                205993.377137  \n",
       "3                175732.068626  \n",
       "4                209395.368656  \n",
       "...                        ...  \n",
       "9995             230395.351017  \n",
       "9996             161357.589813  \n",
       "9997             296062.000206  \n",
       "9998             192744.316827  \n",
       "9999             207534.659023  \n",
       "\n",
       "[10000 rows x 32 columns]"
      ]
     },
     "execution_count": 149,
     "metadata": {},
     "output_type": "execute_result"
    }
   ],
   "source": [
    "df_train"
   ]
  },
  {
   "cell_type": "markdown",
   "id": "3c283066",
   "metadata": {},
   "source": [
    "Создадим класс FeatureGenetator и включим все прежние преобразования в него."
   ]
  },
  {
   "cell_type": "code",
   "execution_count": 150,
   "id": "340fc55e",
   "metadata": {},
   "outputs": [],
   "source": [
    "class FeatureGenetator():\n",
    "    \"\"\"Генерация новых фич\"\"\"\n",
    "    \n",
    "    def __init__(self):\n",
    "        self.DistrictId_counts = None\n",
    "        self.df_train_bin_features = None\n",
    "        self.By_Floor_Year_Price = None\n",
    "        self.house_year_max = None\n",
    "        self.floor_max = None\n",
    "        self.district_size = None\n",
    "        self.By_Shops_Social_Price = None\n",
    "        \n",
    "        self.By_Helthcare2_Social1_Price = None\n",
    "        \n",
    "    def fit(self, X, y=None):\n",
    "        \n",
    "        X = X.copy()\n",
    "        \n",
    "        # Binary features\n",
    "        self.df_train_bin_features = {'A': 0, 'B': 1}\n",
    "        \n",
    "        # DistrictID\n",
    "        self.district_size = X['DistrictId'].value_counts().reset_index() \\\n",
    "                               .rename(columns={'index':'DistrictId', 'DistrictId':'DistrictSize'})\n",
    "        # Target encoding\n",
    "        df = X.copy()\n",
    "        \n",
    "        ## floor, year\n",
    "        if y is not None:\n",
    "            self.floor_max = df['Floor'].max()\n",
    "            self.house_year_max = df['HouseYear'].max()\n",
    "            df['Price'] = y.values\n",
    "            df = self.floor_to_cat(df)\n",
    "            df = self.age_to_cat(df)\n",
    "            self.By_Floor_Year_Price = df.groupby(['age_cat', 'floor_cat'], as_index=False).agg({'Price':'median'}).\\\n",
    "                                            rename(columns={'Price':'ByFloorYearPrice'})\n",
    "            self.By_Floor_Year_Price_median = self.By_Floor_Year_Price['ByFloorYearPrice'].median()\n",
    "        \n",
    "        # Target encoding\n",
    "        ## Shops_1, Social_1\n",
    "        df = X.copy()\n",
    "        if y is not None:\n",
    "            df['Price'] = y.values\n",
    "            self.By_Shops_Social_Price = df.groupby(['Shops_1', 'Social_1'], as_index=False).agg({'Price':'median'}).rename(columns={'Price':'ByShopsSocialPrice'})\n",
    "            self.By_Shops_Social_Price_median = self.By_Shops_Social_Price['ByShopsSocialPrice'].median()\n",
    "\n",
    "            \n",
    "        # Target encoding\n",
    "        ## Helthcare_2, Social_1\n",
    "        df = X.copy()\n",
    "        if y is not None:\n",
    "            df['Price'] = y.values\n",
    "            self.By_Helthcare2_Social1_Price = df.groupby(['Helthcare_2', 'Social_1'], as_index=False).agg({'Price':'median'}).rename(columns={'Price':'ByHelthcare2Social1Price'})\n",
    "            self.By_Helthcare2_Social1_Price_median = self.By_Helthcare2_Social1_Price['ByHelthcare2Social1Price'].median()\n",
    "        \n",
    "    def transform(self, X):\n",
    "        \n",
    "        # Binary features\n",
    "        X['Ecology_2'] = X['Ecology_2'].map(self.df_train_bin_features)  # self.binary_to_numbers = {'A': 0, 'B': 1}\n",
    "        X['Ecology_3'] = X['Ecology_3'].map(self.df_train_bin_features)\n",
    "        X['Shops_2'] = X['Shops_2'].map(self.df_train_bin_features)\n",
    "        \n",
    "        # DistrictId\n",
    "        X = X.merge(self.district_size, on='DistrictId', how='left')\n",
    "        \n",
    "        X['new_district'] = 0\n",
    "        X.loc[X['DistrictSize'].isna(), 'new_district'] = 1\n",
    "        \n",
    "        X['DistrictSize'].fillna(5, inplace=True)\n",
    "        \n",
    "        # More categorical features\n",
    "        X = self.floor_to_cat(X)  # + столбец floor_cat\n",
    "        X = self.age_to_cat(X)   # + столбец age_cat\n",
    "        \n",
    "        # Target encoding\n",
    "                    \n",
    "        if self.By_Floor_Year_Price is not None:\n",
    "            X = X.merge(self.By_Floor_Year_Price, on=['age_cat', 'floor_cat'], how='left')\n",
    "            X['ByFloorYearPrice'].fillna(self.By_Floor_Year_Price_median, inplace=True)\n",
    "        \n",
    "        if self.By_Shops_Social_Price is not None:\n",
    "            X = X.merge(self.By_Shops_Social_Price, on=['Shops_1', 'Social_1'], how='left')\n",
    "            X['ByShopsSocialPrice'].fillna(self.By_Shops_Social_Price_median, inplace=True)\n",
    "        \n",
    "        if self.By_Helthcare2_Social1_Price is not None:\n",
    "            X = X.merge(self.By_Helthcare2_Social1_Price, on=['Helthcare_2', 'Social_1'], how='left')\n",
    "            X['ByHelthcare2Social1Price'].fillna(self.By_Helthcare2_Social1_Price_median, inplace=True)\n",
    "        \n",
    "        return X\n",
    "    \n",
    "    def age_to_cat(self, X):\n",
    "        bins = [0, 1980, 1990, 2000, 2015, self.house_year_max]\n",
    "        X['age_cat'] = pd.cut(X['HouseYear'], bins=bins, labels=False)\n",
    "    \n",
    "        X['age_cat'].fillna(-1, inplace=True)\n",
    "       \n",
    "        return X\n",
    "    \n",
    "    def floor_to_cat(self, X):\n",
    "        bins = [0, 6, 9, 20, 30, self.floor_max]\n",
    "        X['floor_cat'] = pd.cut(X['Floor'], bins=bins, labels=False)\n",
    "    \n",
    "        X['floor_cat'].fillna(-1, inplace=True)\n",
    "        \n",
    "        return X"
   ]
  },
  {
   "cell_type": "markdown",
   "id": "5309a754",
   "metadata": {},
   "source": [
    "### 5. Отбор признаков"
   ]
  },
  {
   "cell_type": "code",
   "execution_count": 151,
   "id": "7f8678e4",
   "metadata": {
    "scrolled": true
   },
   "outputs": [
    {
     "data": {
      "text/plain": [
       "['Id',\n",
       " 'DistrictId',\n",
       " 'Rooms',\n",
       " 'Square',\n",
       " 'LifeSquare',\n",
       " 'KitchenSquare',\n",
       " 'Floor',\n",
       " 'HouseFloor',\n",
       " 'HouseYear',\n",
       " 'Ecology_1',\n",
       " 'Ecology_2',\n",
       " 'Ecology_3',\n",
       " 'Social_1',\n",
       " 'Social_2',\n",
       " 'Social_3',\n",
       " 'Helthcare_2',\n",
       " 'Shops_1',\n",
       " 'Shops_2',\n",
       " 'Price',\n",
       " 'Rooms_outlier',\n",
       " 'Square_outlier',\n",
       " 'KitchenSquare_outlier',\n",
       " 'LifeSquare_outlier',\n",
       " 'HouseFloor_outlier',\n",
       " 'HouseYear_outlier',\n",
       " 'LifeSquare_nan',\n",
       " 'age_cat',\n",
       " 'floor_cat',\n",
       " 'ByFloorYearPrice',\n",
       " 'DistrictSize',\n",
       " 'ByShopsSocialPrice',\n",
       " 'ByHelthcare2Social1Price']"
      ]
     },
     "execution_count": 151,
     "metadata": {},
     "output_type": "execute_result"
    }
   ],
   "source": [
    "df_train.columns.tolist()"
   ]
  },
  {
   "cell_type": "code",
   "execution_count": 152,
   "id": "8faffeec",
   "metadata": {},
   "outputs": [],
   "source": [
    "feature_names = ['Rooms', 'Square', 'LifeSquare', 'KitchenSquare', 'Floor', 'HouseFloor', 'HouseYear',\n",
    "                 'Ecology_1', 'Ecology_2', 'Ecology_3', 'Social_1', 'Social_2', 'Social_3',\n",
    "                 'Helthcare_2', 'Shops_1', 'Shops_2']\n",
    "\n",
    "new_feature_names = ['Rooms_outlier', 'Square_outlier', 'KitchenSquare_outlier', 'LifeSquare_outlier', 'HouseFloor_outlier', 'HouseYear_outlier', 'Helthcare_2_outlier', \n",
    "                     'LifeSquare_nan', 'ByFloorYearPrice', 'DistrictSize', 'ByShopsSocialPrice', 'ByHelthcare2Social1Price']\n",
    "\n",
    "target_name = 'Price'"
   ]
  },
  {
   "cell_type": "markdown",
   "id": "967ac974",
   "metadata": {},
   "source": [
    "### 6. Разбиение на train и test"
   ]
  },
  {
   "cell_type": "code",
   "execution_count": 153,
   "id": "93f3213a",
   "metadata": {},
   "outputs": [],
   "source": [
    "df_train = pd.read_csv(DATASET_PATH_train)\n",
    "df_test = pd.read_csv(DATASET_PATH_test)\n",
    "\n",
    "X = df_train.drop(columns=target_name)\n",
    "y = df_train[target_name]"
   ]
  },
  {
   "cell_type": "code",
   "execution_count": 154,
   "id": "c199230d",
   "metadata": {
    "scrolled": true
   },
   "outputs": [],
   "source": [
    "X_train, X_valid, y_train, y_valid = train_test_split(X, y, test_size=0.33, shuffle=True, random_state=21)"
   ]
  },
  {
   "cell_type": "code",
   "execution_count": 155,
   "id": "bd05e90e",
   "metadata": {},
   "outputs": [
    {
     "data": {
      "text/plain": [
       "((6700, 19), (3300, 19), (5000, 19))"
      ]
     },
     "execution_count": 155,
     "metadata": {},
     "output_type": "execute_result"
    }
   ],
   "source": [
    "X_train.shape, X_valid.shape, df_test.shape"
   ]
  },
  {
   "cell_type": "code",
   "execution_count": 156,
   "id": "e26c799f",
   "metadata": {},
   "outputs": [],
   "source": [
    "data_preprocessor = DataPreprocessing()\n",
    "data_preprocessor.fit(X_train)"
   ]
  },
  {
   "cell_type": "code",
   "execution_count": 157,
   "id": "093dad0e",
   "metadata": {
    "scrolled": true
   },
   "outputs": [],
   "source": [
    "X_train = data_preprocessor.transform(X_train)"
   ]
  },
  {
   "cell_type": "code",
   "execution_count": 158,
   "id": "e938b303",
   "metadata": {},
   "outputs": [],
   "source": [
    "X_valid = data_preprocessor.transform(X_valid)"
   ]
  },
  {
   "cell_type": "code",
   "execution_count": 159,
   "id": "4c1bd258",
   "metadata": {},
   "outputs": [],
   "source": [
    "df_test = data_preprocessor.transform(df_test)"
   ]
  },
  {
   "cell_type": "code",
   "execution_count": 160,
   "id": "9c7ef670",
   "metadata": {},
   "outputs": [
    {
     "data": {
      "text/plain": [
       "((6700, 26), (3300, 26), (5000, 26))"
      ]
     },
     "execution_count": 160,
     "metadata": {},
     "output_type": "execute_result"
    }
   ],
   "source": [
    "X_train.shape, X_valid.shape, df_test.shape"
   ]
  },
  {
   "cell_type": "code",
   "execution_count": 161,
   "id": "b11edf1f",
   "metadata": {
    "scrolled": true
   },
   "outputs": [
    {
     "data": {
      "text/plain": [
       "((6700, 33), (3300, 33), (5000, 33))"
      ]
     },
     "execution_count": 161,
     "metadata": {},
     "output_type": "execute_result"
    }
   ],
   "source": [
    "features_gen = FeatureGenetator()\n",
    "features_gen.fit(X_train, y_train)\n",
    "\n",
    "X_train = features_gen.transform(X_train)\n",
    "X_valid = features_gen.transform(X_valid)\n",
    "df_test = features_gen.transform(df_test)\n",
    "\n",
    "X_train.shape, X_valid.shape, df_test.shape"
   ]
  },
  {
   "cell_type": "code",
   "execution_count": 162,
   "id": "ba131300",
   "metadata": {},
   "outputs": [],
   "source": [
    "X_train = X_train[feature_names + new_feature_names]\n",
    "X_valid = X_valid[feature_names + new_feature_names]\n",
    "df_test = df_test[feature_names + new_feature_names]"
   ]
  },
  {
   "cell_type": "code",
   "execution_count": 163,
   "id": "eb164ceb",
   "metadata": {},
   "outputs": [
    {
     "data": {
      "text/plain": [
       "Id                 int64\n",
       "DistrictId         int64\n",
       "Rooms            float64\n",
       "Square           float64\n",
       "LifeSquare       float64\n",
       "KitchenSquare    float64\n",
       "Floor              int64\n",
       "HouseFloor       float64\n",
       "HouseYear          int64\n",
       "Ecology_1        float64\n",
       "Ecology_2         object\n",
       "Ecology_3         object\n",
       "Social_1           int64\n",
       "Social_2           int64\n",
       "Social_3           int64\n",
       "Healthcare_1     float64\n",
       "Helthcare_2        int64\n",
       "Shops_1            int64\n",
       "Shops_2           object\n",
       "Price            float64\n",
       "dtype: object"
      ]
     },
     "execution_count": 163,
     "metadata": {},
     "output_type": "execute_result"
    }
   ],
   "source": [
    "df_train.dtypes"
   ]
  },
  {
   "cell_type": "code",
   "execution_count": 164,
   "id": "e8741d9f",
   "metadata": {},
   "outputs": [
    {
     "data": {
      "text/plain": [
       "(0, 0, 0)"
      ]
     },
     "execution_count": 164,
     "metadata": {},
     "output_type": "execute_result"
    }
   ],
   "source": [
    "X_train.isna().sum().sum(), X_valid.isna().sum().sum(), df_test.isna().sum().sum()"
   ]
  },
  {
   "cell_type": "code",
   "execution_count": 165,
   "id": "950faf32",
   "metadata": {},
   "outputs": [
    {
     "name": "stdout",
     "output_type": "stream",
     "text": [
      "<class 'pandas.core.frame.DataFrame'>\n",
      "Int64Index: 5000 entries, 0 to 4999\n",
      "Data columns (total 28 columns):\n",
      " #   Column                    Non-Null Count  Dtype  \n",
      "---  ------                    --------------  -----  \n",
      " 0   Rooms                     5000 non-null   float64\n",
      " 1   Square                    5000 non-null   float64\n",
      " 2   LifeSquare                5000 non-null   float64\n",
      " 3   KitchenSquare             5000 non-null   float64\n",
      " 4   Floor                     5000 non-null   int64  \n",
      " 5   HouseFloor                5000 non-null   float64\n",
      " 6   HouseYear                 5000 non-null   int64  \n",
      " 7   Ecology_1                 5000 non-null   float64\n",
      " 8   Ecology_2                 5000 non-null   int64  \n",
      " 9   Ecology_3                 5000 non-null   int64  \n",
      " 10  Social_1                  5000 non-null   int64  \n",
      " 11  Social_2                  5000 non-null   int64  \n",
      " 12  Social_3                  5000 non-null   int64  \n",
      " 13  Helthcare_2               5000 non-null   float64\n",
      " 14  Shops_1                   5000 non-null   int64  \n",
      " 15  Shops_2                   5000 non-null   int64  \n",
      " 16  Rooms_outlier             5000 non-null   int64  \n",
      " 17  Square_outlier            5000 non-null   int64  \n",
      " 18  KitchenSquare_outlier     5000 non-null   int64  \n",
      " 19  LifeSquare_outlier        5000 non-null   int64  \n",
      " 20  HouseFloor_outlier        5000 non-null   int64  \n",
      " 21  HouseYear_outlier         5000 non-null   int64  \n",
      " 22  Helthcare_2_outlier       5000 non-null   int64  \n",
      " 23  LifeSquare_nan            5000 non-null   int64  \n",
      " 24  ByFloorYearPrice          5000 non-null   float64\n",
      " 25  DistrictSize              5000 non-null   float64\n",
      " 26  ByShopsSocialPrice        5000 non-null   float64\n",
      " 27  ByHelthcare2Social1Price  5000 non-null   float64\n",
      "dtypes: float64(11), int64(17)\n",
      "memory usage: 1.1 MB\n"
     ]
    }
   ],
   "source": [
    "df_test.info()"
   ]
  },
  {
   "cell_type": "markdown",
   "id": "393a5abd",
   "metadata": {},
   "source": [
    "## 7. Построение модели"
   ]
  },
  {
   "cell_type": "markdown",
   "id": "6dba5e96",
   "metadata": {},
   "source": [
    "#### Обучение"
   ]
  },
  {
   "cell_type": "markdown",
   "id": "d1a87188",
   "metadata": {},
   "source": [
    "#### Модель с лучшей метриков R2:"
   ]
  },
  {
   "cell_type": "code",
   "execution_count": 166,
   "id": "c99842e1",
   "metadata": {},
   "outputs": [],
   "source": [
    "from sklearn.ensemble import RandomForestRegressor, GradientBoostingRegressor"
   ]
  },
  {
   "cell_type": "code",
   "execution_count": 167,
   "id": "4c27adc3",
   "metadata": {},
   "outputs": [],
   "source": [
    "gbr_model = GradientBoostingRegressor(criterion='mse',\n",
    "                                     min_samples_leaf=10,\n",
    "                                     random_state=21\n",
    "                                     )"
   ]
  },
  {
   "cell_type": "code",
   "execution_count": 168,
   "id": "7ed58f93",
   "metadata": {},
   "outputs": [
    {
     "name": "stdout",
     "output_type": "stream",
     "text": [
      "Wall time: 1min 47s\n"
     ]
    },
    {
     "data": {
      "text/plain": [
       "GridSearchCV(cv=KFold(n_splits=6, random_state=21, shuffle=True),\n",
       "             estimator=GradientBoostingRegressor(criterion='mse',\n",
       "                                                 min_samples_leaf=10,\n",
       "                                                 random_state=21),\n",
       "             n_jobs=-1,\n",
       "             param_grid={'max_depth': [6],\n",
       "                         'n_estimators': array([100, 101, 102, 103, 104, 105, 106, 107, 108, 109, 110, 111, 112,\n",
       "       113, 114, 115, 116, 117, 118, 119, 120, 121, 122, 123, 124, 125,\n",
       "       126, 127, 128, 129, 130, 131, 132, 133, 134])},\n",
       "             scoring='r2')"
      ]
     },
     "execution_count": 168,
     "metadata": {},
     "output_type": "execute_result"
    }
   ],
   "source": [
    "%%time\n",
    "params = {'n_estimators':[113],\n",
    "          'max_depth':[6]}\n",
    " GridSearchCV - поиск по сетке с кроссвалидацией\n",
    "gs = GridSearchCV(gbr_model, params, \n",
    "                  scoring='r2', # метрика \n",
    "                  cv=KFold(n_splits=6,   # k (кол-во разбиений/итераций) в кросс-валидации\n",
    "                           random_state=21,\n",
    "                           shuffle=True), # перемешивание\n",
    "                  n_jobs=-1               # модели будут обучаться на всех свободных потоках\n",
    "                  )\n",
    "gs.fit(X_train, y_train)"
   ]
  },
  {
   "cell_type": "code",
   "execution_count": 169,
   "id": "d5ecc303",
   "metadata": {},
   "outputs": [
    {
     "data": {
      "text/plain": [
       "{'max_depth': 6, 'n_estimators': 113}"
      ]
     },
     "execution_count": 169,
     "metadata": {},
     "output_type": "execute_result"
    }
   ],
   "source": [
    "gs.best_params_"
   ]
  },
  {
   "cell_type": "code",
   "execution_count": 170,
   "id": "bc96296a",
   "metadata": {},
   "outputs": [
    {
     "data": {
      "text/plain": [
       "0.7273168390872987"
      ]
     },
     "execution_count": 170,
     "metadata": {},
     "output_type": "execute_result"
    }
   ],
   "source": [
    "gs.best_score_"
   ]
  },
  {
   "cell_type": "code",
   "execution_count": 186,
   "id": "6b4f32cb",
   "metadata": {},
   "outputs": [
    {
     "data": {
      "text/plain": [
       "GradientBoostingRegressor(criterion='mse', max_depth=6, min_samples_leaf=10,\n",
       "                          n_estimators=113, random_state=21)"
      ]
     },
     "execution_count": 186,
     "metadata": {},
     "output_type": "execute_result"
    }
   ],
   "source": [
    "final_model = GradientBoostingRegressor(criterion='mse',\n",
    "                                        max_depth=6,\n",
    "                                        min_samples_leaf=10,\n",
    "                                        random_state=21,\n",
    "                                        n_estimators=113)\n",
    "\n",
    "final_model.fit(X_train, y_train)"
   ]
  },
  {
   "cell_type": "markdown",
   "id": "62854546",
   "metadata": {},
   "source": [
    "#### Оценка модели"
   ]
  },
  {
   "cell_type": "code",
   "execution_count": 187,
   "id": "8f2303bb",
   "metadata": {
    "scrolled": true
   },
   "outputs": [
    {
     "name": "stdout",
     "output_type": "stream",
     "text": [
      "Train R2:\t0.884\n",
      "Test R2:\t0.772\n"
     ]
    },
    {
     "data": {
      "image/png": "[encoded data removed]",
      "text/plain": [
       "<Figure size 1296x720 with 2 Axes>"
      ]
     },
     "metadata": {},
     "output_type": "display_data"
    }
   ],
   "source": [
    "y_train_preds = final_model.predict(X_train)\n",
    "y_test_preds = final_model.predict(X_valid)\n",
    "\n",
    "evaluate_preds(y_train, y_train_preds, y_valid, y_test_preds)"
   ]
  },
  {
   "cell_type": "markdown",
   "id": "e8921193",
   "metadata": {},
   "source": [
    "#### Кросс-валидация"
   ]
  },
  {
   "cell_type": "code",
   "execution_count": 173,
   "id": "ae2ae17c",
   "metadata": {},
   "outputs": [
    {
     "data": {
      "text/plain": [
       "array([0.74024163, 0.71371988, 0.72603673])"
      ]
     },
     "execution_count": 173,
     "metadata": {},
     "output_type": "execute_result"
    }
   ],
   "source": [
    "cv_score = cross_val_score(final_model, X_train, y_train, scoring='r2', cv=KFold(n_splits=3, shuffle=True, random_state=42))\n",
    "cv_score"
   ]
  },
  {
   "cell_type": "code",
   "execution_count": 174,
   "id": "d2e1a30a",
   "metadata": {},
   "outputs": [
    {
     "data": {
      "text/plain": [
       "0.7266660810293283"
      ]
     },
     "execution_count": 174,
     "metadata": {},
     "output_type": "execute_result"
    }
   ],
   "source": [
    "cv_score.mean()"
   ]
  },
  {
   "cell_type": "markdown",
   "id": "1a65fc2f",
   "metadata": {},
   "source": [
    "#### Важность признаков"
   ]
  },
  {
   "cell_type": "code",
   "execution_count": 175,
   "id": "9ce24fc5",
   "metadata": {},
   "outputs": [
    {
     "data": {
      "text/html": [
       "<div>\n",
       "<style scoped>\n",
       "    .dataframe tbody tr th:only-of-type {\n",
       "        vertical-align: middle;\n",
       "    }\n",
       "\n",
       "    .dataframe tbody tr th {\n",
       "        vertical-align: top;\n",
       "    }\n",
       "\n",
       "    .dataframe thead th {\n",
       "        text-align: right;\n",
       "    }\n",
       "</style>\n",
       "<table border=\"1\" class=\"dataframe\">\n",
       "  <thead>\n",
       "    <tr style=\"text-align: right;\">\n",
       "      <th></th>\n",
       "      <th>feature_name</th>\n",
       "      <th>importance</th>\n",
       "    </tr>\n",
       "  </thead>\n",
       "  <tbody>\n",
       "    <tr>\n",
       "      <th>1</th>\n",
       "      <td>Square</td>\n",
       "      <td>0.428993</td>\n",
       "    </tr>\n",
       "    <tr>\n",
       "      <th>26</th>\n",
       "      <td>ByShopsSocialPrice</td>\n",
       "      <td>0.278075</td>\n",
       "    </tr>\n",
       "    <tr>\n",
       "      <th>25</th>\n",
       "      <td>DistrictSize</td>\n",
       "      <td>0.055731</td>\n",
       "    </tr>\n",
       "    <tr>\n",
       "      <th>0</th>\n",
       "      <td>Rooms</td>\n",
       "      <td>0.035379</td>\n",
       "    </tr>\n",
       "    <tr>\n",
       "      <th>12</th>\n",
       "      <td>Social_3</td>\n",
       "      <td>0.029783</td>\n",
       "    </tr>\n",
       "    <tr>\n",
       "      <th>27</th>\n",
       "      <td>ByHelthcare2Social1Price</td>\n",
       "      <td>0.027487</td>\n",
       "    </tr>\n",
       "    <tr>\n",
       "      <th>6</th>\n",
       "      <td>HouseYear</td>\n",
       "      <td>0.025824</td>\n",
       "    </tr>\n",
       "    <tr>\n",
       "      <th>2</th>\n",
       "      <td>LifeSquare</td>\n",
       "      <td>0.025534</td>\n",
       "    </tr>\n",
       "    <tr>\n",
       "      <th>7</th>\n",
       "      <td>Ecology_1</td>\n",
       "      <td>0.014549</td>\n",
       "    </tr>\n",
       "    <tr>\n",
       "      <th>5</th>\n",
       "      <td>HouseFloor</td>\n",
       "      <td>0.014529</td>\n",
       "    </tr>\n",
       "    <tr>\n",
       "      <th>3</th>\n",
       "      <td>KitchenSquare</td>\n",
       "      <td>0.010344</td>\n",
       "    </tr>\n",
       "    <tr>\n",
       "      <th>11</th>\n",
       "      <td>Social_2</td>\n",
       "      <td>0.010227</td>\n",
       "    </tr>\n",
       "    <tr>\n",
       "      <th>4</th>\n",
       "      <td>Floor</td>\n",
       "      <td>0.009704</td>\n",
       "    </tr>\n",
       "    <tr>\n",
       "      <th>24</th>\n",
       "      <td>ByFloorYearPrice</td>\n",
       "      <td>0.008696</td>\n",
       "    </tr>\n",
       "    <tr>\n",
       "      <th>10</th>\n",
       "      <td>Social_1</td>\n",
       "      <td>0.006594</td>\n",
       "    </tr>\n",
       "    <tr>\n",
       "      <th>14</th>\n",
       "      <td>Shops_1</td>\n",
       "      <td>0.004759</td>\n",
       "    </tr>\n",
       "    <tr>\n",
       "      <th>17</th>\n",
       "      <td>Square_outlier</td>\n",
       "      <td>0.004152</td>\n",
       "    </tr>\n",
       "    <tr>\n",
       "      <th>18</th>\n",
       "      <td>KitchenSquare_outlier</td>\n",
       "      <td>0.003477</td>\n",
       "    </tr>\n",
       "    <tr>\n",
       "      <th>13</th>\n",
       "      <td>Helthcare_2</td>\n",
       "      <td>0.002557</td>\n",
       "    </tr>\n",
       "    <tr>\n",
       "      <th>20</th>\n",
       "      <td>HouseFloor_outlier</td>\n",
       "      <td>0.001479</td>\n",
       "    </tr>\n",
       "    <tr>\n",
       "      <th>15</th>\n",
       "      <td>Shops_2</td>\n",
       "      <td>0.001083</td>\n",
       "    </tr>\n",
       "    <tr>\n",
       "      <th>19</th>\n",
       "      <td>LifeSquare_outlier</td>\n",
       "      <td>0.000669</td>\n",
       "    </tr>\n",
       "    <tr>\n",
       "      <th>23</th>\n",
       "      <td>LifeSquare_nan</td>\n",
       "      <td>0.000172</td>\n",
       "    </tr>\n",
       "    <tr>\n",
       "      <th>9</th>\n",
       "      <td>Ecology_3</td>\n",
       "      <td>0.000154</td>\n",
       "    </tr>\n",
       "    <tr>\n",
       "      <th>22</th>\n",
       "      <td>Helthcare_2_outlier</td>\n",
       "      <td>0.000047</td>\n",
       "    </tr>\n",
       "    <tr>\n",
       "      <th>16</th>\n",
       "      <td>Rooms_outlier</td>\n",
       "      <td>0.000000</td>\n",
       "    </tr>\n",
       "    <tr>\n",
       "      <th>21</th>\n",
       "      <td>HouseYear_outlier</td>\n",
       "      <td>0.000000</td>\n",
       "    </tr>\n",
       "    <tr>\n",
       "      <th>8</th>\n",
       "      <td>Ecology_2</td>\n",
       "      <td>0.000000</td>\n",
       "    </tr>\n",
       "  </tbody>\n",
       "</table>\n",
       "</div>"
      ],
      "text/plain": [
       "                feature_name  importance\n",
       "1                     Square    0.428993\n",
       "26        ByShopsSocialPrice    0.278075\n",
       "25              DistrictSize    0.055731\n",
       "0                      Rooms    0.035379\n",
       "12                  Social_3    0.029783\n",
       "27  ByHelthcare2Social1Price    0.027487\n",
       "6                  HouseYear    0.025824\n",
       "2                 LifeSquare    0.025534\n",
       "7                  Ecology_1    0.014549\n",
       "5                 HouseFloor    0.014529\n",
       "3              KitchenSquare    0.010344\n",
       "11                  Social_2    0.010227\n",
       "4                      Floor    0.009704\n",
       "24          ByFloorYearPrice    0.008696\n",
       "10                  Social_1    0.006594\n",
       "14                   Shops_1    0.004759\n",
       "17            Square_outlier    0.004152\n",
       "18     KitchenSquare_outlier    0.003477\n",
       "13               Helthcare_2    0.002557\n",
       "20        HouseFloor_outlier    0.001479\n",
       "15                   Shops_2    0.001083\n",
       "19        LifeSquare_outlier    0.000669\n",
       "23            LifeSquare_nan    0.000172\n",
       "9                  Ecology_3    0.000154\n",
       "22       Helthcare_2_outlier    0.000047\n",
       "16             Rooms_outlier    0.000000\n",
       "21         HouseYear_outlier    0.000000\n",
       "8                  Ecology_2    0.000000"
      ]
     },
     "execution_count": 175,
     "metadata": {},
     "output_type": "execute_result"
    }
   ],
   "source": [
    "feature_importances = pd.DataFrame(zip(X_train.columns, final_model.feature_importances_), \n",
    "                                   columns=['feature_name', 'importance'])\n",
    "\n",
    "feature_importances.sort_values(by='importance', ascending=False)"
   ]
  },
  {
   "cell_type": "markdown",
   "id": "98456d93",
   "metadata": {},
   "source": [
    "## 8. Прогнозирование на тестовом датасете"
   ]
  },
  {
   "cell_type": "code",
   "execution_count": 176,
   "id": "d472ac55",
   "metadata": {},
   "outputs": [
    {
     "data": {
      "text/html": [
       "<div>\n",
       "<style scoped>\n",
       "    .dataframe tbody tr th:only-of-type {\n",
       "        vertical-align: middle;\n",
       "    }\n",
       "\n",
       "    .dataframe tbody tr th {\n",
       "        vertical-align: top;\n",
       "    }\n",
       "\n",
       "    .dataframe thead th {\n",
       "        text-align: right;\n",
       "    }\n",
       "</style>\n",
       "<table border=\"1\" class=\"dataframe\">\n",
       "  <thead>\n",
       "    <tr style=\"text-align: right;\">\n",
       "      <th></th>\n",
       "      <th>Rooms</th>\n",
       "      <th>Square</th>\n",
       "      <th>LifeSquare</th>\n",
       "      <th>KitchenSquare</th>\n",
       "      <th>Floor</th>\n",
       "      <th>HouseFloor</th>\n",
       "      <th>HouseYear</th>\n",
       "      <th>Ecology_1</th>\n",
       "      <th>Ecology_2</th>\n",
       "      <th>Ecology_3</th>\n",
       "      <th>...</th>\n",
       "      <th>KitchenSquare_outlier</th>\n",
       "      <th>LifeSquare_outlier</th>\n",
       "      <th>HouseFloor_outlier</th>\n",
       "      <th>HouseYear_outlier</th>\n",
       "      <th>Helthcare_2_outlier</th>\n",
       "      <th>LifeSquare_nan</th>\n",
       "      <th>ByFloorYearPrice</th>\n",
       "      <th>DistrictSize</th>\n",
       "      <th>ByShopsSocialPrice</th>\n",
       "      <th>ByHelthcare2Social1Price</th>\n",
       "    </tr>\n",
       "  </thead>\n",
       "  <tbody>\n",
       "    <tr>\n",
       "      <th>0</th>\n",
       "      <td>1.0</td>\n",
       "      <td>36.847630</td>\n",
       "      <td>19.094182</td>\n",
       "      <td>5.0</td>\n",
       "      <td>5</td>\n",
       "      <td>9.0</td>\n",
       "      <td>1970</td>\n",
       "      <td>0.036122</td>\n",
       "      <td>1</td>\n",
       "      <td>1</td>\n",
       "      <td>...</td>\n",
       "      <td>0</td>\n",
       "      <td>0</td>\n",
       "      <td>0</td>\n",
       "      <td>0</td>\n",
       "      <td>0</td>\n",
       "      <td>0</td>\n",
       "      <td>184636.548664</td>\n",
       "      <td>76.0</td>\n",
       "      <td>206824.317723</td>\n",
       "      <td>203058.075211</td>\n",
       "    </tr>\n",
       "    <tr>\n",
       "      <th>1</th>\n",
       "      <td>1.0</td>\n",
       "      <td>42.493907</td>\n",
       "      <td>26.558692</td>\n",
       "      <td>10.0</td>\n",
       "      <td>7</td>\n",
       "      <td>17.0</td>\n",
       "      <td>2017</td>\n",
       "      <td>0.072158</td>\n",
       "      <td>1</td>\n",
       "      <td>1</td>\n",
       "      <td>...</td>\n",
       "      <td>0</td>\n",
       "      <td>1</td>\n",
       "      <td>0</td>\n",
       "      <td>0</td>\n",
       "      <td>0</td>\n",
       "      <td>0</td>\n",
       "      <td>165748.660589</td>\n",
       "      <td>164.0</td>\n",
       "      <td>166392.528103</td>\n",
       "      <td>166392.528103</td>\n",
       "    </tr>\n",
       "    <tr>\n",
       "      <th>2</th>\n",
       "      <td>2.0</td>\n",
       "      <td>59.463678</td>\n",
       "      <td>37.164799</td>\n",
       "      <td>9.0</td>\n",
       "      <td>19</td>\n",
       "      <td>19.0</td>\n",
       "      <td>1977</td>\n",
       "      <td>0.211401</td>\n",
       "      <td>1</td>\n",
       "      <td>1</td>\n",
       "      <td>...</td>\n",
       "      <td>0</td>\n",
       "      <td>0</td>\n",
       "      <td>0</td>\n",
       "      <td>0</td>\n",
       "      <td>0</td>\n",
       "      <td>1</td>\n",
       "      <td>179219.981625</td>\n",
       "      <td>580.0</td>\n",
       "      <td>119817.448457</td>\n",
       "      <td>123659.190105</td>\n",
       "    </tr>\n",
       "    <tr>\n",
       "      <th>3</th>\n",
       "      <td>3.0</td>\n",
       "      <td>49.646030</td>\n",
       "      <td>33.893825</td>\n",
       "      <td>6.0</td>\n",
       "      <td>2</td>\n",
       "      <td>2.0</td>\n",
       "      <td>1965</td>\n",
       "      <td>0.014073</td>\n",
       "      <td>1</td>\n",
       "      <td>1</td>\n",
       "      <td>...</td>\n",
       "      <td>0</td>\n",
       "      <td>0</td>\n",
       "      <td>0</td>\n",
       "      <td>0</td>\n",
       "      <td>0</td>\n",
       "      <td>0</td>\n",
       "      <td>184636.548664</td>\n",
       "      <td>372.0</td>\n",
       "      <td>166392.528103</td>\n",
       "      <td>166392.528103</td>\n",
       "    </tr>\n",
       "    <tr>\n",
       "      <th>4</th>\n",
       "      <td>1.0</td>\n",
       "      <td>53.837056</td>\n",
       "      <td>33.648160</td>\n",
       "      <td>6.0</td>\n",
       "      <td>8</td>\n",
       "      <td>17.0</td>\n",
       "      <td>1977</td>\n",
       "      <td>0.309479</td>\n",
       "      <td>1</td>\n",
       "      <td>1</td>\n",
       "      <td>...</td>\n",
       "      <td>1</td>\n",
       "      <td>0</td>\n",
       "      <td>0</td>\n",
       "      <td>0</td>\n",
       "      <td>0</td>\n",
       "      <td>1</td>\n",
       "      <td>192332.037298</td>\n",
       "      <td>65.0</td>\n",
       "      <td>192570.557936</td>\n",
       "      <td>192570.557936</td>\n",
       "    </tr>\n",
       "    <tr>\n",
       "      <th>...</th>\n",
       "      <td>...</td>\n",
       "      <td>...</td>\n",
       "      <td>...</td>\n",
       "      <td>...</td>\n",
       "      <td>...</td>\n",
       "      <td>...</td>\n",
       "      <td>...</td>\n",
       "      <td>...</td>\n",
       "      <td>...</td>\n",
       "      <td>...</td>\n",
       "      <td>...</td>\n",
       "      <td>...</td>\n",
       "      <td>...</td>\n",
       "      <td>...</td>\n",
       "      <td>...</td>\n",
       "      <td>...</td>\n",
       "      <td>...</td>\n",
       "      <td>...</td>\n",
       "      <td>...</td>\n",
       "      <td>...</td>\n",
       "      <td>...</td>\n",
       "    </tr>\n",
       "    <tr>\n",
       "      <th>4995</th>\n",
       "      <td>2.0</td>\n",
       "      <td>43.177521</td>\n",
       "      <td>30.339945</td>\n",
       "      <td>5.0</td>\n",
       "      <td>3</td>\n",
       "      <td>5.0</td>\n",
       "      <td>1962</td>\n",
       "      <td>0.069660</td>\n",
       "      <td>1</td>\n",
       "      <td>1</td>\n",
       "      <td>...</td>\n",
       "      <td>0</td>\n",
       "      <td>0</td>\n",
       "      <td>1</td>\n",
       "      <td>0</td>\n",
       "      <td>0</td>\n",
       "      <td>0</td>\n",
       "      <td>184636.548664</td>\n",
       "      <td>56.0</td>\n",
       "      <td>181947.371499</td>\n",
       "      <td>191769.326145</td>\n",
       "    </tr>\n",
       "    <tr>\n",
       "      <th>4996</th>\n",
       "      <td>3.0</td>\n",
       "      <td>93.698122</td>\n",
       "      <td>58.561326</td>\n",
       "      <td>10.0</td>\n",
       "      <td>21</td>\n",
       "      <td>27.0</td>\n",
       "      <td>2018</td>\n",
       "      <td>0.060753</td>\n",
       "      <td>1</td>\n",
       "      <td>1</td>\n",
       "      <td>...</td>\n",
       "      <td>0</td>\n",
       "      <td>1</td>\n",
       "      <td>0</td>\n",
       "      <td>0</td>\n",
       "      <td>0</td>\n",
       "      <td>0</td>\n",
       "      <td>271835.653688</td>\n",
       "      <td>26.0</td>\n",
       "      <td>258092.874069</td>\n",
       "      <td>258092.874069</td>\n",
       "    </tr>\n",
       "    <tr>\n",
       "      <th>4997</th>\n",
       "      <td>1.0</td>\n",
       "      <td>33.656723</td>\n",
       "      <td>19.003259</td>\n",
       "      <td>5.0</td>\n",
       "      <td>2</td>\n",
       "      <td>5.0</td>\n",
       "      <td>1966</td>\n",
       "      <td>0.038693</td>\n",
       "      <td>1</td>\n",
       "      <td>1</td>\n",
       "      <td>...</td>\n",
       "      <td>0</td>\n",
       "      <td>0</td>\n",
       "      <td>0</td>\n",
       "      <td>0</td>\n",
       "      <td>0</td>\n",
       "      <td>0</td>\n",
       "      <td>184636.548664</td>\n",
       "      <td>54.0</td>\n",
       "      <td>192768.430161</td>\n",
       "      <td>192768.430161</td>\n",
       "    </tr>\n",
       "    <tr>\n",
       "      <th>4998</th>\n",
       "      <td>1.0</td>\n",
       "      <td>38.635155</td>\n",
       "      <td>20.976257</td>\n",
       "      <td>9.0</td>\n",
       "      <td>8</td>\n",
       "      <td>14.0</td>\n",
       "      <td>1970</td>\n",
       "      <td>0.089040</td>\n",
       "      <td>1</td>\n",
       "      <td>1</td>\n",
       "      <td>...</td>\n",
       "      <td>0</td>\n",
       "      <td>0</td>\n",
       "      <td>0</td>\n",
       "      <td>0</td>\n",
       "      <td>0</td>\n",
       "      <td>0</td>\n",
       "      <td>192332.037298</td>\n",
       "      <td>40.0</td>\n",
       "      <td>217574.002517</td>\n",
       "      <td>209117.900924</td>\n",
       "    </tr>\n",
       "    <tr>\n",
       "      <th>4999</th>\n",
       "      <td>2.0</td>\n",
       "      <td>67.122742</td>\n",
       "      <td>33.944344</td>\n",
       "      <td>13.0</td>\n",
       "      <td>9</td>\n",
       "      <td>17.0</td>\n",
       "      <td>2009</td>\n",
       "      <td>0.194489</td>\n",
       "      <td>1</td>\n",
       "      <td>1</td>\n",
       "      <td>...</td>\n",
       "      <td>0</td>\n",
       "      <td>0</td>\n",
       "      <td>0</td>\n",
       "      <td>0</td>\n",
       "      <td>0</td>\n",
       "      <td>0</td>\n",
       "      <td>205693.223998</td>\n",
       "      <td>117.0</td>\n",
       "      <td>189825.354322</td>\n",
       "      <td>189825.354322</td>\n",
       "    </tr>\n",
       "  </tbody>\n",
       "</table>\n",
       "<p>5000 rows × 28 columns</p>\n",
       "</div>"
      ],
      "text/plain": [
       "      Rooms     Square  LifeSquare  KitchenSquare  Floor  HouseFloor  \\\n",
       "0       1.0  36.847630   19.094182            5.0      5         9.0   \n",
       "1       1.0  42.493907   26.558692           10.0      7        17.0   \n",
       "2       2.0  59.463678   37.164799            9.0     19        19.0   \n",
       "3       3.0  49.646030   33.893825            6.0      2         2.0   \n",
       "4       1.0  53.837056   33.648160            6.0      8        17.0   \n",
       "...     ...        ...         ...            ...    ...         ...   \n",
       "4995    2.0  43.177521   30.339945            5.0      3         5.0   \n",
       "4996    3.0  93.698122   58.561326           10.0     21        27.0   \n",
       "4997    1.0  33.656723   19.003259            5.0      2         5.0   \n",
       "4998    1.0  38.635155   20.976257            9.0      8        14.0   \n",
       "4999    2.0  67.122742   33.944344           13.0      9        17.0   \n",
       "\n",
       "      HouseYear  Ecology_1  Ecology_2  Ecology_3  ...  KitchenSquare_outlier  \\\n",
       "0          1970   0.036122          1          1  ...                      0   \n",
       "1          2017   0.072158          1          1  ...                      0   \n",
       "2          1977   0.211401          1          1  ...                      0   \n",
       "3          1965   0.014073          1          1  ...                      0   \n",
       "4          1977   0.309479          1          1  ...                      1   \n",
       "...         ...        ...        ...        ...  ...                    ...   \n",
       "4995       1962   0.069660          1          1  ...                      0   \n",
       "4996       2018   0.060753          1          1  ...                      0   \n",
       "4997       1966   0.038693          1          1  ...                      0   \n",
       "4998       1970   0.089040          1          1  ...                      0   \n",
       "4999       2009   0.194489          1          1  ...                      0   \n",
       "\n",
       "      LifeSquare_outlier  HouseFloor_outlier  HouseYear_outlier  \\\n",
       "0                      0                   0                  0   \n",
       "1                      1                   0                  0   \n",
       "2                      0                   0                  0   \n",
       "3                      0                   0                  0   \n",
       "4                      0                   0                  0   \n",
       "...                  ...                 ...                ...   \n",
       "4995                   0                   1                  0   \n",
       "4996                   1                   0                  0   \n",
       "4997                   0                   0                  0   \n",
       "4998                   0                   0                  0   \n",
       "4999                   0                   0                  0   \n",
       "\n",
       "      Helthcare_2_outlier  LifeSquare_nan  ByFloorYearPrice  DistrictSize  \\\n",
       "0                       0               0     184636.548664          76.0   \n",
       "1                       0               0     165748.660589         164.0   \n",
       "2                       0               1     179219.981625         580.0   \n",
       "3                       0               0     184636.548664         372.0   \n",
       "4                       0               1     192332.037298          65.0   \n",
       "...                   ...             ...               ...           ...   \n",
       "4995                    0               0     184636.548664          56.0   \n",
       "4996                    0               0     271835.653688          26.0   \n",
       "4997                    0               0     184636.548664          54.0   \n",
       "4998                    0               0     192332.037298          40.0   \n",
       "4999                    0               0     205693.223998         117.0   \n",
       "\n",
       "      ByShopsSocialPrice  ByHelthcare2Social1Price  \n",
       "0          206824.317723             203058.075211  \n",
       "1          166392.528103             166392.528103  \n",
       "2          119817.448457             123659.190105  \n",
       "3          166392.528103             166392.528103  \n",
       "4          192570.557936             192570.557936  \n",
       "...                  ...                       ...  \n",
       "4995       181947.371499             191769.326145  \n",
       "4996       258092.874069             258092.874069  \n",
       "4997       192768.430161             192768.430161  \n",
       "4998       217574.002517             209117.900924  \n",
       "4999       189825.354322             189825.354322  \n",
       "\n",
       "[5000 rows x 28 columns]"
      ]
     },
     "execution_count": 176,
     "metadata": {},
     "output_type": "execute_result"
    }
   ],
   "source": [
    "df_test"
   ]
  },
  {
   "cell_type": "code",
   "execution_count": 177,
   "id": "00c6e349",
   "metadata": {},
   "outputs": [
    {
     "data": {
      "text/plain": [
       "(5000, 28)"
      ]
     },
     "execution_count": 177,
     "metadata": {},
     "output_type": "execute_result"
    }
   ],
   "source": [
    "df_test.shape"
   ]
  },
  {
   "cell_type": "code",
   "execution_count": 178,
   "id": "5f25c49b",
   "metadata": {},
   "outputs": [
    {
     "data": {
      "text/html": [
       "<div>\n",
       "<style scoped>\n",
       "    .dataframe tbody tr th:only-of-type {\n",
       "        vertical-align: middle;\n",
       "    }\n",
       "\n",
       "    .dataframe tbody tr th {\n",
       "        vertical-align: top;\n",
       "    }\n",
       "\n",
       "    .dataframe thead th {\n",
       "        text-align: right;\n",
       "    }\n",
       "</style>\n",
       "<table border=\"1\" class=\"dataframe\">\n",
       "  <thead>\n",
       "    <tr style=\"text-align: right;\">\n",
       "      <th></th>\n",
       "      <th>Rooms</th>\n",
       "      <th>Square</th>\n",
       "      <th>LifeSquare</th>\n",
       "      <th>KitchenSquare</th>\n",
       "      <th>Floor</th>\n",
       "      <th>HouseFloor</th>\n",
       "      <th>HouseYear</th>\n",
       "      <th>Ecology_1</th>\n",
       "      <th>Ecology_2</th>\n",
       "      <th>Ecology_3</th>\n",
       "      <th>...</th>\n",
       "      <th>KitchenSquare_outlier</th>\n",
       "      <th>LifeSquare_outlier</th>\n",
       "      <th>HouseFloor_outlier</th>\n",
       "      <th>HouseYear_outlier</th>\n",
       "      <th>Helthcare_2_outlier</th>\n",
       "      <th>LifeSquare_nan</th>\n",
       "      <th>ByFloorYearPrice</th>\n",
       "      <th>DistrictSize</th>\n",
       "      <th>ByShopsSocialPrice</th>\n",
       "      <th>ByHelthcare2Social1Price</th>\n",
       "    </tr>\n",
       "  </thead>\n",
       "  <tbody>\n",
       "    <tr>\n",
       "      <th>0</th>\n",
       "      <td>1.0</td>\n",
       "      <td>36.847630</td>\n",
       "      <td>19.094182</td>\n",
       "      <td>5.0</td>\n",
       "      <td>5</td>\n",
       "      <td>9.0</td>\n",
       "      <td>1970</td>\n",
       "      <td>0.036122</td>\n",
       "      <td>1</td>\n",
       "      <td>1</td>\n",
       "      <td>...</td>\n",
       "      <td>0</td>\n",
       "      <td>0</td>\n",
       "      <td>0</td>\n",
       "      <td>0</td>\n",
       "      <td>0</td>\n",
       "      <td>0</td>\n",
       "      <td>184636.548664</td>\n",
       "      <td>76.0</td>\n",
       "      <td>206824.317723</td>\n",
       "      <td>203058.075211</td>\n",
       "    </tr>\n",
       "    <tr>\n",
       "      <th>1</th>\n",
       "      <td>1.0</td>\n",
       "      <td>42.493907</td>\n",
       "      <td>26.558692</td>\n",
       "      <td>10.0</td>\n",
       "      <td>7</td>\n",
       "      <td>17.0</td>\n",
       "      <td>2017</td>\n",
       "      <td>0.072158</td>\n",
       "      <td>1</td>\n",
       "      <td>1</td>\n",
       "      <td>...</td>\n",
       "      <td>0</td>\n",
       "      <td>1</td>\n",
       "      <td>0</td>\n",
       "      <td>0</td>\n",
       "      <td>0</td>\n",
       "      <td>0</td>\n",
       "      <td>165748.660589</td>\n",
       "      <td>164.0</td>\n",
       "      <td>166392.528103</td>\n",
       "      <td>166392.528103</td>\n",
       "    </tr>\n",
       "    <tr>\n",
       "      <th>2</th>\n",
       "      <td>2.0</td>\n",
       "      <td>59.463678</td>\n",
       "      <td>37.164799</td>\n",
       "      <td>9.0</td>\n",
       "      <td>19</td>\n",
       "      <td>19.0</td>\n",
       "      <td>1977</td>\n",
       "      <td>0.211401</td>\n",
       "      <td>1</td>\n",
       "      <td>1</td>\n",
       "      <td>...</td>\n",
       "      <td>0</td>\n",
       "      <td>0</td>\n",
       "      <td>0</td>\n",
       "      <td>0</td>\n",
       "      <td>0</td>\n",
       "      <td>1</td>\n",
       "      <td>179219.981625</td>\n",
       "      <td>580.0</td>\n",
       "      <td>119817.448457</td>\n",
       "      <td>123659.190105</td>\n",
       "    </tr>\n",
       "    <tr>\n",
       "      <th>3</th>\n",
       "      <td>3.0</td>\n",
       "      <td>49.646030</td>\n",
       "      <td>33.893825</td>\n",
       "      <td>6.0</td>\n",
       "      <td>2</td>\n",
       "      <td>2.0</td>\n",
       "      <td>1965</td>\n",
       "      <td>0.014073</td>\n",
       "      <td>1</td>\n",
       "      <td>1</td>\n",
       "      <td>...</td>\n",
       "      <td>0</td>\n",
       "      <td>0</td>\n",
       "      <td>0</td>\n",
       "      <td>0</td>\n",
       "      <td>0</td>\n",
       "      <td>0</td>\n",
       "      <td>184636.548664</td>\n",
       "      <td>372.0</td>\n",
       "      <td>166392.528103</td>\n",
       "      <td>166392.528103</td>\n",
       "    </tr>\n",
       "    <tr>\n",
       "      <th>4</th>\n",
       "      <td>1.0</td>\n",
       "      <td>53.837056</td>\n",
       "      <td>33.648160</td>\n",
       "      <td>6.0</td>\n",
       "      <td>8</td>\n",
       "      <td>17.0</td>\n",
       "      <td>1977</td>\n",
       "      <td>0.309479</td>\n",
       "      <td>1</td>\n",
       "      <td>1</td>\n",
       "      <td>...</td>\n",
       "      <td>1</td>\n",
       "      <td>0</td>\n",
       "      <td>0</td>\n",
       "      <td>0</td>\n",
       "      <td>0</td>\n",
       "      <td>1</td>\n",
       "      <td>192332.037298</td>\n",
       "      <td>65.0</td>\n",
       "      <td>192570.557936</td>\n",
       "      <td>192570.557936</td>\n",
       "    </tr>\n",
       "    <tr>\n",
       "      <th>...</th>\n",
       "      <td>...</td>\n",
       "      <td>...</td>\n",
       "      <td>...</td>\n",
       "      <td>...</td>\n",
       "      <td>...</td>\n",
       "      <td>...</td>\n",
       "      <td>...</td>\n",
       "      <td>...</td>\n",
       "      <td>...</td>\n",
       "      <td>...</td>\n",
       "      <td>...</td>\n",
       "      <td>...</td>\n",
       "      <td>...</td>\n",
       "      <td>...</td>\n",
       "      <td>...</td>\n",
       "      <td>...</td>\n",
       "      <td>...</td>\n",
       "      <td>...</td>\n",
       "      <td>...</td>\n",
       "      <td>...</td>\n",
       "      <td>...</td>\n",
       "    </tr>\n",
       "    <tr>\n",
       "      <th>4995</th>\n",
       "      <td>2.0</td>\n",
       "      <td>43.177521</td>\n",
       "      <td>30.339945</td>\n",
       "      <td>5.0</td>\n",
       "      <td>3</td>\n",
       "      <td>5.0</td>\n",
       "      <td>1962</td>\n",
       "      <td>0.069660</td>\n",
       "      <td>1</td>\n",
       "      <td>1</td>\n",
       "      <td>...</td>\n",
       "      <td>0</td>\n",
       "      <td>0</td>\n",
       "      <td>1</td>\n",
       "      <td>0</td>\n",
       "      <td>0</td>\n",
       "      <td>0</td>\n",
       "      <td>184636.548664</td>\n",
       "      <td>56.0</td>\n",
       "      <td>181947.371499</td>\n",
       "      <td>191769.326145</td>\n",
       "    </tr>\n",
       "    <tr>\n",
       "      <th>4996</th>\n",
       "      <td>3.0</td>\n",
       "      <td>93.698122</td>\n",
       "      <td>58.561326</td>\n",
       "      <td>10.0</td>\n",
       "      <td>21</td>\n",
       "      <td>27.0</td>\n",
       "      <td>2018</td>\n",
       "      <td>0.060753</td>\n",
       "      <td>1</td>\n",
       "      <td>1</td>\n",
       "      <td>...</td>\n",
       "      <td>0</td>\n",
       "      <td>1</td>\n",
       "      <td>0</td>\n",
       "      <td>0</td>\n",
       "      <td>0</td>\n",
       "      <td>0</td>\n",
       "      <td>271835.653688</td>\n",
       "      <td>26.0</td>\n",
       "      <td>258092.874069</td>\n",
       "      <td>258092.874069</td>\n",
       "    </tr>\n",
       "    <tr>\n",
       "      <th>4997</th>\n",
       "      <td>1.0</td>\n",
       "      <td>33.656723</td>\n",
       "      <td>19.003259</td>\n",
       "      <td>5.0</td>\n",
       "      <td>2</td>\n",
       "      <td>5.0</td>\n",
       "      <td>1966</td>\n",
       "      <td>0.038693</td>\n",
       "      <td>1</td>\n",
       "      <td>1</td>\n",
       "      <td>...</td>\n",
       "      <td>0</td>\n",
       "      <td>0</td>\n",
       "      <td>0</td>\n",
       "      <td>0</td>\n",
       "      <td>0</td>\n",
       "      <td>0</td>\n",
       "      <td>184636.548664</td>\n",
       "      <td>54.0</td>\n",
       "      <td>192768.430161</td>\n",
       "      <td>192768.430161</td>\n",
       "    </tr>\n",
       "    <tr>\n",
       "      <th>4998</th>\n",
       "      <td>1.0</td>\n",
       "      <td>38.635155</td>\n",
       "      <td>20.976257</td>\n",
       "      <td>9.0</td>\n",
       "      <td>8</td>\n",
       "      <td>14.0</td>\n",
       "      <td>1970</td>\n",
       "      <td>0.089040</td>\n",
       "      <td>1</td>\n",
       "      <td>1</td>\n",
       "      <td>...</td>\n",
       "      <td>0</td>\n",
       "      <td>0</td>\n",
       "      <td>0</td>\n",
       "      <td>0</td>\n",
       "      <td>0</td>\n",
       "      <td>0</td>\n",
       "      <td>192332.037298</td>\n",
       "      <td>40.0</td>\n",
       "      <td>217574.002517</td>\n",
       "      <td>209117.900924</td>\n",
       "    </tr>\n",
       "    <tr>\n",
       "      <th>4999</th>\n",
       "      <td>2.0</td>\n",
       "      <td>67.122742</td>\n",
       "      <td>33.944344</td>\n",
       "      <td>13.0</td>\n",
       "      <td>9</td>\n",
       "      <td>17.0</td>\n",
       "      <td>2009</td>\n",
       "      <td>0.194489</td>\n",
       "      <td>1</td>\n",
       "      <td>1</td>\n",
       "      <td>...</td>\n",
       "      <td>0</td>\n",
       "      <td>0</td>\n",
       "      <td>0</td>\n",
       "      <td>0</td>\n",
       "      <td>0</td>\n",
       "      <td>0</td>\n",
       "      <td>205693.223998</td>\n",
       "      <td>117.0</td>\n",
       "      <td>189825.354322</td>\n",
       "      <td>189825.354322</td>\n",
       "    </tr>\n",
       "  </tbody>\n",
       "</table>\n",
       "<p>5000 rows × 28 columns</p>\n",
       "</div>"
      ],
      "text/plain": [
       "      Rooms     Square  LifeSquare  KitchenSquare  Floor  HouseFloor  \\\n",
       "0       1.0  36.847630   19.094182            5.0      5         9.0   \n",
       "1       1.0  42.493907   26.558692           10.0      7        17.0   \n",
       "2       2.0  59.463678   37.164799            9.0     19        19.0   \n",
       "3       3.0  49.646030   33.893825            6.0      2         2.0   \n",
       "4       1.0  53.837056   33.648160            6.0      8        17.0   \n",
       "...     ...        ...         ...            ...    ...         ...   \n",
       "4995    2.0  43.177521   30.339945            5.0      3         5.0   \n",
       "4996    3.0  93.698122   58.561326           10.0     21        27.0   \n",
       "4997    1.0  33.656723   19.003259            5.0      2         5.0   \n",
       "4998    1.0  38.635155   20.976257            9.0      8        14.0   \n",
       "4999    2.0  67.122742   33.944344           13.0      9        17.0   \n",
       "\n",
       "      HouseYear  Ecology_1  Ecology_2  Ecology_3  ...  KitchenSquare_outlier  \\\n",
       "0          1970   0.036122          1          1  ...                      0   \n",
       "1          2017   0.072158          1          1  ...                      0   \n",
       "2          1977   0.211401          1          1  ...                      0   \n",
       "3          1965   0.014073          1          1  ...                      0   \n",
       "4          1977   0.309479          1          1  ...                      1   \n",
       "...         ...        ...        ...        ...  ...                    ...   \n",
       "4995       1962   0.069660          1          1  ...                      0   \n",
       "4996       2018   0.060753          1          1  ...                      0   \n",
       "4997       1966   0.038693          1          1  ...                      0   \n",
       "4998       1970   0.089040          1          1  ...                      0   \n",
       "4999       2009   0.194489          1          1  ...                      0   \n",
       "\n",
       "      LifeSquare_outlier  HouseFloor_outlier  HouseYear_outlier  \\\n",
       "0                      0                   0                  0   \n",
       "1                      1                   0                  0   \n",
       "2                      0                   0                  0   \n",
       "3                      0                   0                  0   \n",
       "4                      0                   0                  0   \n",
       "...                  ...                 ...                ...   \n",
       "4995                   0                   1                  0   \n",
       "4996                   1                   0                  0   \n",
       "4997                   0                   0                  0   \n",
       "4998                   0                   0                  0   \n",
       "4999                   0                   0                  0   \n",
       "\n",
       "      Helthcare_2_outlier  LifeSquare_nan  ByFloorYearPrice  DistrictSize  \\\n",
       "0                       0               0     184636.548664          76.0   \n",
       "1                       0               0     165748.660589         164.0   \n",
       "2                       0               1     179219.981625         580.0   \n",
       "3                       0               0     184636.548664         372.0   \n",
       "4                       0               1     192332.037298          65.0   \n",
       "...                   ...             ...               ...           ...   \n",
       "4995                    0               0     184636.548664          56.0   \n",
       "4996                    0               0     271835.653688          26.0   \n",
       "4997                    0               0     184636.548664          54.0   \n",
       "4998                    0               0     192332.037298          40.0   \n",
       "4999                    0               0     205693.223998         117.0   \n",
       "\n",
       "      ByShopsSocialPrice  ByHelthcare2Social1Price  \n",
       "0          206824.317723             203058.075211  \n",
       "1          166392.528103             166392.528103  \n",
       "2          119817.448457             123659.190105  \n",
       "3          166392.528103             166392.528103  \n",
       "4          192570.557936             192570.557936  \n",
       "...                  ...                       ...  \n",
       "4995       181947.371499             191769.326145  \n",
       "4996       258092.874069             258092.874069  \n",
       "4997       192768.430161             192768.430161  \n",
       "4998       217574.002517             209117.900924  \n",
       "4999       189825.354322             189825.354322  \n",
       "\n",
       "[5000 rows x 28 columns]"
      ]
     },
     "execution_count": 178,
     "metadata": {},
     "output_type": "execute_result"
    }
   ],
   "source": [
    "df_test"
   ]
  },
  {
   "cell_type": "code",
   "execution_count": 179,
   "id": "d01c2fef",
   "metadata": {},
   "outputs": [],
   "source": [
    "submit = pd.read_csv('sample_submission.csv')"
   ]
  },
  {
   "cell_type": "code",
   "execution_count": 180,
   "id": "f9b3f951",
   "metadata": {},
   "outputs": [
    {
     "data": {
      "text/html": [
       "<div>\n",
       "<style scoped>\n",
       "    .dataframe tbody tr th:only-of-type {\n",
       "        vertical-align: middle;\n",
       "    }\n",
       "\n",
       "    .dataframe tbody tr th {\n",
       "        vertical-align: top;\n",
       "    }\n",
       "\n",
       "    .dataframe thead th {\n",
       "        text-align: right;\n",
       "    }\n",
       "</style>\n",
       "<table border=\"1\" class=\"dataframe\">\n",
       "  <thead>\n",
       "    <tr style=\"text-align: right;\">\n",
       "      <th></th>\n",
       "      <th>Id</th>\n",
       "      <th>Price</th>\n",
       "    </tr>\n",
       "  </thead>\n",
       "  <tbody>\n",
       "    <tr>\n",
       "      <th>0</th>\n",
       "      <td>4567</td>\n",
       "      <td>200000.0</td>\n",
       "    </tr>\n",
       "    <tr>\n",
       "      <th>1</th>\n",
       "      <td>5925</td>\n",
       "      <td>200000.0</td>\n",
       "    </tr>\n",
       "    <tr>\n",
       "      <th>2</th>\n",
       "      <td>960</td>\n",
       "      <td>200000.0</td>\n",
       "    </tr>\n",
       "    <tr>\n",
       "      <th>3</th>\n",
       "      <td>3848</td>\n",
       "      <td>200000.0</td>\n",
       "    </tr>\n",
       "    <tr>\n",
       "      <th>4</th>\n",
       "      <td>746</td>\n",
       "      <td>200000.0</td>\n",
       "    </tr>\n",
       "  </tbody>\n",
       "</table>\n",
       "</div>"
      ],
      "text/plain": [
       "     Id     Price\n",
       "0  4567  200000.0\n",
       "1  5925  200000.0\n",
       "2   960  200000.0\n",
       "3  3848  200000.0\n",
       "4   746  200000.0"
      ]
     },
     "execution_count": 180,
     "metadata": {},
     "output_type": "execute_result"
    }
   ],
   "source": [
    "submit.head()"
   ]
  },
  {
   "cell_type": "code",
   "execution_count": 181,
   "id": "055445e3",
   "metadata": {},
   "outputs": [
    {
     "data": {
      "text/plain": [
       "array([167418.67445638, 123779.35473972, 141130.30607484, ...,\n",
       "       149293.646579  , 193284.67287937, 237052.03165416])"
      ]
     },
     "execution_count": 181,
     "metadata": {},
     "output_type": "execute_result"
    }
   ],
   "source": [
    "predictions = final_model.predict(df_test)\n",
    "predictions"
   ]
  },
  {
   "cell_type": "code",
   "execution_count": 182,
   "id": "0147915c",
   "metadata": {},
   "outputs": [
    {
     "data": {
      "text/html": [
       "<div>\n",
       "<style scoped>\n",
       "    .dataframe tbody tr th:only-of-type {\n",
       "        vertical-align: middle;\n",
       "    }\n",
       "\n",
       "    .dataframe tbody tr th {\n",
       "        vertical-align: top;\n",
       "    }\n",
       "\n",
       "    .dataframe thead th {\n",
       "        text-align: right;\n",
       "    }\n",
       "</style>\n",
       "<table border=\"1\" class=\"dataframe\">\n",
       "  <thead>\n",
       "    <tr style=\"text-align: right;\">\n",
       "      <th></th>\n",
       "      <th>Id</th>\n",
       "      <th>Price</th>\n",
       "    </tr>\n",
       "  </thead>\n",
       "  <tbody>\n",
       "    <tr>\n",
       "      <th>0</th>\n",
       "      <td>4567</td>\n",
       "      <td>167418.674456</td>\n",
       "    </tr>\n",
       "    <tr>\n",
       "      <th>1</th>\n",
       "      <td>5925</td>\n",
       "      <td>123779.354740</td>\n",
       "    </tr>\n",
       "    <tr>\n",
       "      <th>2</th>\n",
       "      <td>960</td>\n",
       "      <td>141130.306075</td>\n",
       "    </tr>\n",
       "    <tr>\n",
       "      <th>3</th>\n",
       "      <td>3848</td>\n",
       "      <td>148959.029760</td>\n",
       "    </tr>\n",
       "    <tr>\n",
       "      <th>4</th>\n",
       "      <td>746</td>\n",
       "      <td>200347.865857</td>\n",
       "    </tr>\n",
       "  </tbody>\n",
       "</table>\n",
       "</div>"
      ],
      "text/plain": [
       "     Id          Price\n",
       "0  4567  167418.674456\n",
       "1  5925  123779.354740\n",
       "2   960  141130.306075\n",
       "3  3848  148959.029760\n",
       "4   746  200347.865857"
      ]
     },
     "execution_count": 182,
     "metadata": {},
     "output_type": "execute_result"
    }
   ],
   "source": [
    "submit['Price'] = predictions\n",
    "submit.head()"
   ]
  },
  {
   "cell_type": "code",
   "execution_count": 183,
   "id": "2e746d27",
   "metadata": {},
   "outputs": [],
   "source": [
    "submit.to_csv('rf_submit_01.csv', index=False)"
   ]
  },
  {
   "cell_type": "code",
   "execution_count": 184,
   "id": "d521d036",
   "metadata": {},
   "outputs": [],
   "source": [
    "submit = pd.read_csv('rf_submit_01.csv')"
   ]
  },
  {
   "cell_type": "code",
   "execution_count": 185,
   "id": "484f249b",
   "metadata": {
    "scrolled": true
   },
   "outputs": [
    {
     "data": {
      "text/html": [
       "<div>\n",
       "<style scoped>\n",
       "    .dataframe tbody tr th:only-of-type {\n",
       "        vertical-align: middle;\n",
       "    }\n",
       "\n",
       "    .dataframe tbody tr th {\n",
       "        vertical-align: top;\n",
       "    }\n",
       "\n",
       "    .dataframe thead th {\n",
       "        text-align: right;\n",
       "    }\n",
       "</style>\n",
       "<table border=\"1\" class=\"dataframe\">\n",
       "  <thead>\n",
       "    <tr style=\"text-align: right;\">\n",
       "      <th></th>\n",
       "      <th>Id</th>\n",
       "      <th>Price</th>\n",
       "    </tr>\n",
       "  </thead>\n",
       "  <tbody>\n",
       "    <tr>\n",
       "      <th>0</th>\n",
       "      <td>4567</td>\n",
       "      <td>167418.674456</td>\n",
       "    </tr>\n",
       "    <tr>\n",
       "      <th>1</th>\n",
       "      <td>5925</td>\n",
       "      <td>123779.354740</td>\n",
       "    </tr>\n",
       "    <tr>\n",
       "      <th>2</th>\n",
       "      <td>960</td>\n",
       "      <td>141130.306075</td>\n",
       "    </tr>\n",
       "    <tr>\n",
       "      <th>3</th>\n",
       "      <td>3848</td>\n",
       "      <td>148959.029760</td>\n",
       "    </tr>\n",
       "    <tr>\n",
       "      <th>4</th>\n",
       "      <td>746</td>\n",
       "      <td>200347.865857</td>\n",
       "    </tr>\n",
       "    <tr>\n",
       "      <th>...</th>\n",
       "      <td>...</td>\n",
       "      <td>...</td>\n",
       "    </tr>\n",
       "    <tr>\n",
       "      <th>4995</th>\n",
       "      <td>10379</td>\n",
       "      <td>175671.356601</td>\n",
       "    </tr>\n",
       "    <tr>\n",
       "      <th>4996</th>\n",
       "      <td>16138</td>\n",
       "      <td>359378.045594</td>\n",
       "    </tr>\n",
       "    <tr>\n",
       "      <th>4997</th>\n",
       "      <td>3912</td>\n",
       "      <td>149293.646579</td>\n",
       "    </tr>\n",
       "    <tr>\n",
       "      <th>4998</th>\n",
       "      <td>5722</td>\n",
       "      <td>193284.672879</td>\n",
       "    </tr>\n",
       "    <tr>\n",
       "      <th>4999</th>\n",
       "      <td>11004</td>\n",
       "      <td>237052.031654</td>\n",
       "    </tr>\n",
       "  </tbody>\n",
       "</table>\n",
       "<p>5000 rows × 2 columns</p>\n",
       "</div>"
      ],
      "text/plain": [
       "         Id          Price\n",
       "0      4567  167418.674456\n",
       "1      5925  123779.354740\n",
       "2       960  141130.306075\n",
       "3      3848  148959.029760\n",
       "4       746  200347.865857\n",
       "...     ...            ...\n",
       "4995  10379  175671.356601\n",
       "4996  16138  359378.045594\n",
       "4997   3912  149293.646579\n",
       "4998   5722  193284.672879\n",
       "4999  11004  237052.031654\n",
       "\n",
       "[5000 rows x 2 columns]"
      ]
     },
     "execution_count": 185,
     "metadata": {},
     "output_type": "execute_result"
    }
   ],
   "source": [
    "submit"
   ]
  },
  {
   "cell_type": "code",
   "execution_count": null,
   "id": "031c203a",
   "metadata": {},
   "outputs": [],
   "source": []
  }
 ],
 "metadata": {
  "kernelspec": {
   "display_name": "Python 3",
   "language": "python",
   "name": "python3"
  },
  "language_info": {
   "codemirror_mode": {
    "name": "ipython",
    "version": 3
   },
   "file_extension": ".py",
   "mimetype": "text/x-python",
   "name": "python",
   "nbconvert_exporter": "python",
   "pygments_lexer": "ipython3",
   "version": "3.8.8"
  }
 },
 "nbformat": 4,
 "nbformat_minor": 5
}
